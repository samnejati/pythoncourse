{
 "cells": [
  {
   "cell_type": "markdown",
   "id": "437f0e10-3289-4bc3-8d36-bb6fb97b1ff9",
   "metadata": {},
   "source": [
    "```python\n",
    "\n",
    "```"
   ]
  },
  {
   "cell_type": "markdown",
   "id": "1b98b716-3a8b-41e6-8d94-d24683c82a51",
   "metadata": {},
   "source": [
    "### 4.3 for loops"
   ]
  },
  {
   "cell_type": "markdown",
   "id": "26cba1ea-2837-4c3c-ad23-4d01d475f0b9",
   "metadata": {},
   "source": [
    "#### There are two types of <b> iterations </b> \n",
    "#### <b>Indefinit iterations: </b>\n",
    "#### <b>Dedefinit iterations: </b>"
   ]
  },
  {
   "cell_type": "markdown",
   "id": "4c503a44-6ad8-4b88-b737-613b157c60d3",
   "metadata": {},
   "source": [
    "I just love **bold text**."
   ]
  },
  {
   "cell_type": "code",
   "execution_count": null,
   "id": "1a811e41-c92d-4d90-b320-c22b23de83e9",
   "metadata": {},
   "outputs": [],
   "source": []
  },
  {
   "cell_type": "markdown",
   "id": "a70aa741-82ac-419a-82b9-62f9813f24ca",
   "metadata": {},
   "source": []
  },
  {
   "cell_type": "markdown",
   "id": "8e2f8888-2f5a-436b-b4f8-ef069254e7af",
   "metadata": {},
   "source": [
    "```\n",
    "{\n",
    "  \"firstName\": \"John\",\n",
    "  \"lastName\": \"Smith\",\n",
    "  \"age\": 25\n",
    "}\n",
    "```"
   ]
  },
  {
   "cell_type": "markdown",
   "id": "e521e326-495b-4a29-b893-5245ed9fdb78",
   "metadata": {},
   "source": [
    "### Three - Expression Loop:"
   ]
  },
  {
   "cell_type": "code",
   "execution_count": null,
   "id": "c7655b3a-cbde-4aa3-bea6-acd2e6461807",
   "metadata": {},
   "outputs": [],
   "source": [
    "## this is used in JAVA and C++\n",
    "for (i = 1; i <= 10; i++){\n",
    "<loop body>\n",
    "}"
   ]
  },
  {
   "cell_type": "markdown",
   "id": "3a007847-d81f-4e12-aa68-ed71003ec99b",
   "metadata": {},
   "source": [
    "### Collection-based or Iterator-based  Loop:"
   ]
  },
  {
   "cell_type": "code",
   "execution_count": null,
   "id": "0ee62168-621b-4e04-a4b2-14906f3c6b0e",
   "metadata": {},
   "outputs": [],
   "source": [
    "# for yek item in yek collection ie az item ha (ke mitoneh har chizi bashe...a list, any iterable)\n",
    "# The collection should be iterable\n",
    "for item in collection:\n",
    "    "
   ]
  },
  {
   "cell_type": "code",
   "execution_count": 4,
   "id": "d593ac2c-9d8f-4ae0-ac86-ee47224fa920",
   "metadata": {},
   "outputs": [
    {
     "name": "stdout",
     "output_type": "stream",
     "text": [
      "1\n",
      "2\n",
      "3\n",
      "4\n"
     ]
    }
   ],
   "source": [
    "## The collection should be iterable. Here is a LIST example:\n",
    "\n",
    "collection = [1, 2, 3, 4,]\n",
    "for item in collection:\n",
    "    print (item)\n",
    "    "
   ]
  },
  {
   "cell_type": "markdown",
   "id": "4a7c1a9c-c862-44cf-8256-c3d02364fc5d",
   "metadata": {},
   "source": [
    "#### https://github.com/pytopia/Python/blob/main/Python/01.%20Basics/14%20Python%20%22for%22%20Loops%20(Definite%20Iteration).ipynb"
   ]
  },
  {
   "cell_type": "markdown",
   "id": "2e379d12-4e35-44f3-9cc7-d082830acf43",
   "metadata": {},
   "source": [
    "  \n",
    "    You now have been introduced to all the concepts you need to fully understand how Python’s for loop works. Before proceeding, let’s review the relevant terms:\n",
    "\n",
    "|**Term**|**Meaning** |\n",
    "|:--|:--|\n",
    "|**Iteration**| The process of looping through the objects or items in a collection | فرایند حلقه زدن روی آبجکت های روی یک کالکشن\n",
    "|**Iterable**| An object (or the adjective used to describe an object) that can be iterated over | ایتربل هر ابجکتی که بشود رویش شمارش کرد \n",
    "|**Iterator**| The object that produces successive items or values from its associated iterable | همه ایتریتور ها ایتربل هستند ولی همه ایتربل ها ایتریتور نیستند\n",
    "|**`iter()`**|\tThe built-in function used to obtain an iterator from an iterable |\n",
    " "
   ]
  },
  {
   "cell_type": "markdown",
   "id": "95123fb6-a351-4f08-b796-2c17f7b3613f",
   "metadata": {},
   "source": [
    "## Iterators VS iterables"
   ]
  },
  {
   "cell_type": "markdown",
   "id": "d9e7cc97-452c-4afb-be9a-dc10a48ea287",
   "metadata": {},
   "source": [
    "## ایتربل هر ابجکتی که بشود رویش شمارش کرد \n",
    "## همه ایتریتور ها ایتربل هستند ولی همه ایتربل ها ایتریتور نیستند\n",
    "## ایتریتور ها یک ابجکتی هستند که میشود روی ان شمارش کرد ولی حافطه هم دارد . یعنی یادش میمونه تا آخرین بار کجا رفتیم جلو "
   ]
  },
  {
   "cell_type": "code",
   "execution_count": 28,
   "id": "bbaf50a2-dd3c-4755-8d26-0f47642ba548",
   "metadata": {},
   "outputs": [],
   "source": [
    "# we have a list collection\n",
    "collection = [1, 2, 3, 4,]\n"
   ]
  },
  {
   "cell_type": "code",
   "execution_count": 13,
   "id": "e891187b-190a-4995-82d1-d19301032144",
   "metadata": {},
   "outputs": [
    {
     "name": "stdout",
     "output_type": "stream",
     "text": [
      "1\n",
      "2\n",
      "3\n",
      "4\n"
     ]
    }
   ],
   "source": [
    "# This is iterable. You run the code, and it runs it from the beginning\n",
    "for item in collection:\n",
    "    print (item)"
   ]
  },
  {
   "cell_type": "code",
   "execution_count": 29,
   "id": "211f6cee-03b0-4d75-92d8-253c59398eea",
   "metadata": {},
   "outputs": [],
   "source": [
    "# this is iterator now. It will remember up to where you have iterated.\n",
    "my_iterator = iter (collection)"
   ]
  },
  {
   "cell_type": "code",
   "execution_count": 25,
   "id": "93fcc366-5254-41f5-a944-15d3fec203eb",
   "metadata": {},
   "outputs": [
    {
     "name": "stdout",
     "output_type": "stream",
     "text": [
      "1\n",
      "2\n",
      "3\n",
      "4\n"
     ]
    }
   ],
   "source": [
    "# This is iterator. You run the code, and it runs it from beging to end. But if you re-run it, it will show nothing, since it has iterated once\n",
    "for item in my_iterator:\n",
    "    print (item)"
   ]
  },
  {
   "cell_type": "code",
   "execution_count": 30,
   "id": "904cffe8-da9e-4e1f-86e0-6e22d64d3a28",
   "metadata": {},
   "outputs": [
    {
     "data": {
      "text/plain": [
       "1"
      ]
     },
     "execution_count": 30,
     "metadata": {},
     "output_type": "execute_result"
    }
   ],
   "source": [
    "# traverses the iterator, one step at a time. (It has a memory)\n",
    "next(my_iterator)"
   ]
  },
  {
   "cell_type": "markdown",
   "id": "e9656b9b-37f3-4ee2-8fa7-65ab2568c0a9",
   "metadata": {},
   "source": [
    "Python’s for loop looks like this:\n",
    "```python\n",
    "for <var> in <iterable>:\n",
    "    <statement(s)>\n",
    "```"
   ]
  },
  {
   "cell_type": "markdown",
   "id": "54376fe3-6c1c-4ffa-8c5f-0cfa258e4d09",
   "metadata": {},
   "source": [
    "### for  loop is like a next(my_iterator). it loops all the elements till it has nothing to move forwars"
   ]
  },
  {
   "cell_type": "markdown",
   "id": "65482e71-e14f-4279-876c-5b0e47f85a32",
   "metadata": {},
   "source": [
    "\n",
    "Iterable objects have a dunder method which iterate over \n",
    "```python\n",
    "dir(collection)\n",
    " '__iter__'\n",
    "\n",
    "```"
   ]
  },
  {
   "cell_type": "code",
   "execution_count": 32,
   "id": "6bf1000a-6ca5-44d6-93c8-b69b6bfbdb89",
   "metadata": {},
   "outputs": [
    {
     "data": {
      "text/plain": [
       "['__add__',\n",
       " '__class__',\n",
       " '__contains__',\n",
       " '__delattr__',\n",
       " '__delitem__',\n",
       " '__dir__',\n",
       " '__doc__',\n",
       " '__eq__',\n",
       " '__format__',\n",
       " '__ge__',\n",
       " '__getattribute__',\n",
       " '__getitem__',\n",
       " '__gt__',\n",
       " '__hash__',\n",
       " '__iadd__',\n",
       " '__imul__',\n",
       " '__init__',\n",
       " '__init_subclass__',\n",
       " '__iter__',\n",
       " '__le__',\n",
       " '__len__',\n",
       " '__lt__',\n",
       " '__mul__',\n",
       " '__ne__',\n",
       " '__new__',\n",
       " '__reduce__',\n",
       " '__reduce_ex__',\n",
       " '__repr__',\n",
       " '__reversed__',\n",
       " '__rmul__',\n",
       " '__setattr__',\n",
       " '__setitem__',\n",
       " '__sizeof__',\n",
       " '__str__',\n",
       " '__subclasshook__',\n",
       " 'append',\n",
       " 'clear',\n",
       " 'copy',\n",
       " 'count',\n",
       " 'extend',\n",
       " 'index',\n",
       " 'insert',\n",
       " 'pop',\n",
       " 'remove',\n",
       " 'reverse',\n",
       " 'sort']"
      ]
     },
     "execution_count": 32,
     "metadata": {},
     "output_type": "execute_result"
    }
   ],
   "source": [
    "dir(collection)\n"
   ]
  },
  {
   "cell_type": "markdown",
   "id": "93e9f237-e8d8-4504-a0a3-d4ff8f739e40",
   "metadata": {},
   "source": [
    "```python\n",
    "\n",
    "Functions that act on iterables\n",
    "Here are some useful built-in functions that accept iterables as arguments:\n",
    "\n",
    "list, tuple, dict, set: construct a list, tuple, dictionary, or set, respectively, from the contents of an iterable\n",
    "sum: sum the contents of an iterable.\n",
    "sorted: return a list of the sorted contents of an interable\n",
    "any: returns True and ends the iteration immediately if bool(item) was True for any item in the iterable.\n",
    "all: returns True only if bool(item) was True for all items in the iterable.\n",
    "max: return the largest value in an iterable.\n",
    "min: return the smallest value in an iterable.\n",
    "\n",
    "```\n",
    "#### https://www.pythonlikeyoumeanit.com/Module2_EssentialsOfPython/Iterables.html#:~:text=An%20iterable%20is%20any%20Python,over%20in%20a%20for%2Dloop."
   ]
  },
  {
   "cell_type": "markdown",
   "id": "ff653222-753c-4de8-b7f0-bd03c2cb2d14",
   "metadata": {},
   "source": [
    "### Iterables: set, dict, list, tuple, string, frozenset"
   ]
  },
  {
   "cell_type": "markdown",
   "id": "71ec2be3-d696-4054-a9bd-1dd5551925de",
   "metadata": {},
   "source": [
    "```python\n",
    "\n",
    "```"
   ]
  },
  {
   "cell_type": "markdown",
   "id": "3379f0b2-9f85-4ead-8cd5-28c242cbd870",
   "metadata": {},
   "source": [
    "\n",
    "#### If you call iter on an object, and you get an error - > then it is not iterable\n",
    "```python\n",
    "iter (2.3)\n",
    "\n",
    "```"
   ]
  },
  {
   "cell_type": "code",
   "execution_count": 33,
   "id": "fbed2e70-9790-45f0-8851-cfb05cffc0c4",
   "metadata": {},
   "outputs": [
    {
     "ename": "TypeError",
     "evalue": "'float' object is not iterable",
     "output_type": "error",
     "traceback": [
      "\u001b[0;31m---------------------------------------------------------------------------\u001b[0m",
      "\u001b[0;31mTypeError\u001b[0m                                 Traceback (most recent call last)",
      "\u001b[0;32m/tmp/ipykernel_21737/1391395155.py\u001b[0m in \u001b[0;36m<module>\u001b[0;34m\u001b[0m\n\u001b[0;32m----> 1\u001b[0;31m \u001b[0miter\u001b[0m\u001b[0;34m(\u001b[0m\u001b[0;36m2.3\u001b[0m\u001b[0;34m)\u001b[0m\u001b[0;34m\u001b[0m\u001b[0;34m\u001b[0m\u001b[0m\n\u001b[0m",
      "\u001b[0;31mTypeError\u001b[0m: 'float' object is not iterable"
     ]
    }
   ],
   "source": [
    "iter(2.3)"
   ]
  },
  {
   "cell_type": "code",
   "execution_count": 34,
   "id": "4738d106-d7ba-4b70-87bd-49098dbe2f58",
   "metadata": {},
   "outputs": [],
   "source": [
    "my_string = 'Rodvin'"
   ]
  },
  {
   "cell_type": "code",
   "execution_count": 35,
   "id": "4dfad97d-fc6d-4f33-90f6-be9932bfa545",
   "metadata": {},
   "outputs": [
    {
     "data": {
      "text/plain": [
       "<str_iterator at 0x7fe4fc4a2cd0>"
      ]
     },
     "execution_count": 35,
     "metadata": {},
     "output_type": "execute_result"
    }
   ],
   "source": [
    "iter(my_string)"
   ]
  },
  {
   "cell_type": "code",
   "execution_count": 36,
   "id": "771f9cdf-78f1-4d19-af0d-5abda21d0f3c",
   "metadata": {},
   "outputs": [
    {
     "name": "stdout",
     "output_type": "stream",
     "text": [
      "<str_iterator object at 0x7fe4fc4a2d50>\n"
     ]
    }
   ],
   "source": [
    "print(iter(my_string))"
   ]
  },
  {
   "cell_type": "code",
   "execution_count": 38,
   "id": "b507748b-5567-4660-9035-e0028870580e",
   "metadata": {},
   "outputs": [],
   "source": [
    "iter (xxx) ## from an iterable, you will get an iterator ==> WHich has a memory\n"
   ]
  },
  {
   "cell_type": "code",
   "execution_count": 40,
   "id": "55eed359-4481-4663-83ee-3d9731facf73",
   "metadata": {},
   "outputs": [
    {
     "data": {
      "text/plain": [
       "[1, 2, 3, 4]"
      ]
     },
     "execution_count": 40,
     "metadata": {},
     "output_type": "execute_result"
    }
   ],
   "source": [
    "collection"
   ]
  },
  {
   "cell_type": "code",
   "execution_count": 42,
   "id": "b36b73d2-49c6-4707-bd8c-51af6dd5f182",
   "metadata": {},
   "outputs": [
    {
     "name": "stdout",
     "output_type": "stream",
     "text": [
      "1\n",
      "2\n",
      "3\n",
      "4\n"
     ]
    }
   ],
   "source": [
    "# for loop handles stop iteration for an iterator\n",
    "# it calls next on an iterator till it comes to  stop iteration\n",
    "for i in collection: # so collection here has the \"iterable\" property باید بشه روش شمرد\n",
    "    print (i)"
   ]
  },
  {
   "cell_type": "markdown",
   "id": "5858f9be-dbf1-4bdf-8e40-ae35796a183f",
   "metadata": {},
   "source": [
    "#### List is an iterable, but not an iterator:\n",
    "\n",
    "```python\n",
    "my_list = [1,2,3,4]\n",
    "```\n",
    "## so far most of the things we have learned are iterables not iterators!"
   ]
  },
  {
   "cell_type": "code",
   "execution_count": 45,
   "id": "ff040db6-0372-497d-a01e-238af16abbb5",
   "metadata": {},
   "outputs": [],
   "source": [
    "my_list = [1,2,3,4]\n",
    "my_iter = iter (my_list)\n"
   ]
  },
  {
   "cell_type": "code",
   "execution_count": 47,
   "id": "131fa4be-c0aa-49dd-91e7-2b4117268e80",
   "metadata": {},
   "outputs": [
    {
     "data": {
      "text/plain": [
       "2"
      ]
     },
     "execution_count": 47,
     "metadata": {},
     "output_type": "execute_result"
    }
   ],
   "source": [
    "next(my_iter) # my_iter is an iterator now, it has memory, you can iterate over it"
   ]
  },
  {
   "cell_type": "code",
   "execution_count": 48,
   "id": "a5833a5a-d43d-4f1c-9453-67aae21edc4f",
   "metadata": {},
   "outputs": [
    {
     "ename": "TypeError",
     "evalue": "'list' object is not an iterator",
     "output_type": "error",
     "traceback": [
      "\u001b[0;31m---------------------------------------------------------------------------\u001b[0m",
      "\u001b[0;31mTypeError\u001b[0m                                 Traceback (most recent call last)",
      "\u001b[0;32m/tmp/ipykernel_21737/1507139513.py\u001b[0m in \u001b[0;36m<module>\u001b[0;34m\u001b[0m\n\u001b[0;32m----> 1\u001b[0;31m \u001b[0mnext\u001b[0m\u001b[0;34m(\u001b[0m\u001b[0mmy_list\u001b[0m\u001b[0;34m)\u001b[0m\u001b[0;34m\u001b[0m\u001b[0;34m\u001b[0m\u001b[0m\n\u001b[0m",
      "\u001b[0;31mTypeError\u001b[0m: 'list' object is not an iterator"
     ]
    }
   ],
   "source": [
    "next(my_list) # my_list is not an iterator as the error indicates "
   ]
  },
  {
   "cell_type": "markdown",
   "id": "26313024-192a-4210-8ff0-00e3524ee4cb",
   "metadata": {},
   "source": [
    "#### For loop calles next() on a iterator. so we get the items one by one\n",
    "#### Some examples of for loop:"
   ]
  },
  {
   "cell_type": "code",
   "execution_count": 2,
   "id": "0fb9c413-0157-466f-ae07-ad35f368dcd0",
   "metadata": {},
   "outputs": [],
   "source": [
    "d = {\n",
    "    'Ali' : 29,\n",
    "    'Niloufar' : 22,\n",
    "    'Hasan' : 73, \n",
    "}"
   ]
  },
  {
   "cell_type": "code",
   "execution_count": 3,
   "id": "305672b1-4ee9-47e1-a091-bff52936a46d",
   "metadata": {},
   "outputs": [
    {
     "name": "stdout",
     "output_type": "stream",
     "text": [
      "Ali\n",
      "Niloufar\n",
      "Hasan\n"
     ]
    }
   ],
   "source": [
    "for key in d:\n",
    "    print(key)"
   ]
  },
  {
   "cell_type": "code",
   "execution_count": null,
   "id": "9e838305-da19-4198-8d29-fe5bdfeaef79",
   "metadata": {},
   "outputs": [],
   "source": []
  },
  {
   "cell_type": "code",
   "execution_count": 4,
   "id": "b50b071b-684f-425e-94fb-f4e2c6729d97",
   "metadata": {},
   "outputs": [
    {
     "name": "stdout",
     "output_type": "stream",
     "text": [
      "29\n",
      "22\n",
      "73\n"
     ]
    }
   ],
   "source": [
    "for value in d.values():\n",
    "    print(value)"
   ]
  },
  {
   "cell_type": "code",
   "execution_count": 5,
   "id": "dc82a22e-126f-41f7-bca4-59cbaff9d644",
   "metadata": {},
   "outputs": [
    {
     "name": "stdout",
     "output_type": "stream",
     "text": [
      "Ali 29\n",
      "Niloufar 22\n",
      "Hasan 73\n"
     ]
    }
   ],
   "source": [
    "# when we get items from Dictionary, each element in the collection is a tuple, which we get that tuple\n",
    "#here we unpack the tuple here (keys to key ==> values to value):===> (This is the faster version)\n",
    "\n",
    "for key, value in d.items():\n",
    "    print(key, value)"
   ]
  },
  {
   "cell_type": "code",
   "execution_count": 8,
   "id": "38d3452f-ec4b-4cad-934f-fc801150b44e",
   "metadata": {},
   "outputs": [
    {
     "name": "stdout",
     "output_type": "stream",
     "text": [
      "Ali 29\n",
      "Niloufar 22\n",
      "Hasan 73\n"
     ]
    }
   ],
   "source": [
    "#or we can write it like this: (this is slower because it does a look-up)\n",
    "for key in d:\n",
    "    value = d[key]\n",
    "    print(key, value)"
   ]
  },
  {
   "cell_type": "code",
   "execution_count": 9,
   "id": "a4a22800-395f-40c0-ad64-efce7d8cd946",
   "metadata": {},
   "outputs": [
    {
     "name": "stdout",
     "output_type": "stream",
     "text": [
      "My friend Ali is 29 years old\n",
      "My friend Niloufar is 22 years old\n",
      "My friend Hasan is 73 years old\n"
     ]
    }
   ],
   "source": [
    "for key, value in d.items():\n",
    "    print(f\"My friend {key} is {value} years old\")"
   ]
  },
  {
   "cell_type": "markdown",
   "id": "e3b69599-cde9-4f9f-a2a4-3db2faac779a",
   "metadata": {},
   "source": [
    " ```python\n",
    " range(first, last, step)\n",
    " \n",
    " ```\n",
    " ### range function\n",
    " #### creates a range of values which we can loop over (creates a collection) which for loop returns them\n",
    "    "
   ]
  },
  {
   "cell_type": "code",
   "execution_count": 11,
   "id": "d237f750-2f0c-420c-90f4-d6af7628e24e",
   "metadata": {},
   "outputs": [
    {
     "name": "stdout",
     "output_type": "stream",
     "text": [
      "10\n",
      "12\n",
      "14\n",
      "16\n",
      "18\n"
     ]
    }
   ],
   "source": [
    "for n in range (10,20,2):\n",
    "    print(n)"
   ]
  },
  {
   "cell_type": "markdown",
   "id": "b1eac618-1f83-4a1a-8c62-d5cf43737e79",
   "metadata": {},
   "source": [
    " ```python\n",
    "list(range(10)) \n",
    " ```\n",
    " ### list() is a function that reads an iterable and then unpacks all the elements in the list"
   ]
  },
  {
   "cell_type": "code",
   "execution_count": 12,
   "id": "5556141b-6727-405f-8e81-9c922e125129",
   "metadata": {},
   "outputs": [
    {
     "data": {
      "text/plain": [
       "[0, 1, 2, 3, 4, 5, 6, 7, 8, 9]"
      ]
     },
     "execution_count": 12,
     "metadata": {},
     "output_type": "execute_result"
    }
   ],
   "source": [
    "list(range(10)) \n"
   ]
  },
  {
   "cell_type": "code",
   "execution_count": 13,
   "id": "1d9aab3f-a474-403c-bfa1-3534de2a20e8",
   "metadata": {},
   "outputs": [],
   "source": [
    "## range is efficient because it works like this:\n",
    "start = 0\n",
    "end = 10\n",
    "step = 1\n",
    "current_value = 6\n",
    "\n",
    "# so it has this 4 values. it does not hold all values in itself for example for a list of 1 milion items"
   ]
  },
  {
   "cell_type": "code",
   "execution_count": 14,
   "id": "23d87e90-72b4-42a3-a2af-e0871b0ddf59",
   "metadata": {},
   "outputs": [
    {
     "data": {
      "text/plain": [
       "[0, -1, -2, -3, -4, -5, -6, -7, -8, -9]"
      ]
     },
     "execution_count": 14,
     "metadata": {},
     "output_type": "execute_result"
    }
   ],
   "source": [
    "list( range (0, -10, -1))"
   ]
  },
  {
   "cell_type": "code",
   "execution_count": 16,
   "id": "cb49e0e0-9861-44e2-afd8-eb0bab925da6",
   "metadata": {},
   "outputs": [
    {
     "name": "stdout",
     "output_type": "stream",
     "text": [
      "1\n",
      "3\n",
      "5\n",
      "7\n",
      "9\n",
      "11\n",
      "13\n",
      "15\n",
      "17\n",
      "19\n"
     ]
    }
   ],
   "source": [
    "## continue\n",
    "for i in range (20):\n",
    "    if i % 2 == 0:\n",
    "        continue\n",
    "        \n",
    "    print (i)"
   ]
  },
  {
   "cell_type": "code",
   "execution_count": 17,
   "id": "180cb256-47a6-4218-aa17-86bbd2a51547",
   "metadata": {},
   "outputs": [
    {
     "name": "stdout",
     "output_type": "stream",
     "text": [
      "0\n",
      "1\n",
      "2\n",
      "3\n",
      "4\n"
     ]
    }
   ],
   "source": [
    "## break\n",
    "for i in range (20):\n",
    "    if i  == 5:\n",
    "        break\n",
    "        \n",
    "    print (i)"
   ]
  },
  {
   "cell_type": "code",
   "execution_count": 18,
   "id": "c0ab8ad6-f3c4-456a-8ff5-cd634c3cd219",
   "metadata": {},
   "outputs": [],
   "source": [
    "## pass\n",
    "for i in range (20):\n",
    "    pass\n"
   ]
  },
  {
   "cell_type": "markdown",
   "id": "f72cd7e6-df85-431a-ac3a-5b37be72ea4c",
   "metadata": {},
   "source": [
    "### Question and Answer:"
   ]
  },
  {
   "cell_type": "code",
   "execution_count": 24,
   "id": "481d5ff5-9448-4c7e-8ee8-b4835cfb296f",
   "metadata": {},
   "outputs": [],
   "source": [
    "n = 0"
   ]
  },
  {
   "cell_type": "code",
   "execution_count": 20,
   "id": "245d1359-2a38-4ef5-a4c0-ab5a766a5c25",
   "metadata": {},
   "outputs": [
    {
     "name": "stdout",
     "output_type": "stream",
     "text": [
      "0\n",
      "1\n",
      "2\n",
      "3\n",
      "4\n",
      "5\n",
      "6\n"
     ]
    }
   ],
   "source": [
    "# prints 6\n",
    "while n < 10:\n",
    "    print(n)\n",
    "    \n",
    "    if n == 6:\n",
    "        break\n",
    "        \n",
    "    n+=1"
   ]
  },
  {
   "cell_type": "code",
   "execution_count": 28,
   "id": "f98df56b-65b4-4bbd-b776-b356e17b53f0",
   "metadata": {},
   "outputs": [],
   "source": [
    "n = 0"
   ]
  },
  {
   "cell_type": "code",
   "execution_count": 29,
   "id": "ada9e698-697f-4f26-97d6-b009be5a1e5a",
   "metadata": {},
   "outputs": [
    {
     "name": "stdout",
     "output_type": "stream",
     "text": [
      "0\n",
      "1\n",
      "2\n",
      "3\n",
      "4\n",
      "5\n"
     ]
    }
   ],
   "source": [
    "# does not print 6\n",
    "\n",
    "while n < 10:\n",
    "    \n",
    "    if n == 6:\n",
    "        break  \n",
    "        \n",
    "    print(n)\n",
    "    n+=1"
   ]
  },
  {
   "cell_type": "code",
   "execution_count": null,
   "id": "343a9fd0-2f07-42db-bce4-5e8c46ca6437",
   "metadata": {},
   "outputs": [],
   "source": [
    "# infinit loop:\n",
    "while n < 10:\n",
    "    \n",
    "    if n == 6:\n",
    "        continue  ##==> Here continues and doesn't allow to print 6. So it stays on 6 for ever!!!  \n",
    "        \n",
    "    print(n)\n",
    "    n+=1"
   ]
  },
  {
   "cell_type": "code",
   "execution_count": 31,
   "id": "97d18aed-5474-4ae5-b332-7d507d30fb1d",
   "metadata": {},
   "outputs": [],
   "source": [
    "n=0"
   ]
  },
  {
   "cell_type": "code",
   "execution_count": 32,
   "id": "33672b35-5644-42e3-b547-7ec88dc5bb68",
   "metadata": {},
   "outputs": [
    {
     "name": "stdout",
     "output_type": "stream",
     "text": [
      "1\n",
      "2\n",
      "3\n",
      "4\n",
      "5\n",
      "7\n",
      "8\n",
      "9\n",
      "10\n"
     ]
    }
   ],
   "source": [
    "# This doesn't print 6 only!\n",
    "while n < 10:\n",
    "    n+=1\n",
    "    if n == 6:\n",
    "        continue  ##==> Here continues and doesn't allow to print 6. So it stays on 6 for ever!!!  \n",
    "        \n",
    "    print(n)\n"
   ]
  },
  {
   "cell_type": "code",
   "execution_count": 33,
   "id": "531b0dd2-a761-427c-a2d0-828903d06b0a",
   "metadata": {},
   "outputs": [],
   "source": [
    "#using loop to open file example.txt"
   ]
  },
  {
   "cell_type": "code",
   "execution_count": 37,
   "id": "bb2f3acf-6391-476a-ae9e-74f8d927547f",
   "metadata": {},
   "outputs": [],
   "source": [
    "#creating a file with 1 milion lines and then reading it\n",
    "with open('file.txt', 'w') as f: #created 26MB txt file\n",
    "    for i in range(1000000):\n",
    "        f.write(f'this is line number {i}\\n' )\n",
    "        f.write\n",
    "        \n",
    "        print"
   ]
  },
  {
   "cell_type": "code",
   "execution_count": 39,
   "id": "9a184b66-2e88-4a8b-93f9-101659299caa",
   "metadata": {},
   "outputs": [],
   "source": [
    "## for loop can read this file with no problem (!!don't run this CELL)\n",
    "with open('file.txt', 'r') as f:\n",
    "    for line in f:\n",
    "        print(line)"
   ]
  },
  {
   "cell_type": "code",
   "execution_count": 35,
   "id": "10e02c5b-7c79-4ee9-a715-5fae91a78d85",
   "metadata": {},
   "outputs": [
    {
     "name": "stdout",
     "output_type": "stream",
     "text": [
      "this is line 1\n",
      "\n",
      "this is line 1\n",
      "\n",
      "this is line 1\n",
      "\n",
      "this is line 1\n",
      "\n",
      "this is line 1\n",
      "\n",
      "this is line 1\n",
      "\n",
      "this is line 1\n",
      "\n",
      "this is line 1\n",
      "\n",
      "this is line 1\n",
      "\n",
      "this is line 1\n"
     ]
    }
   ],
   "source": [
    "with open('example.txt', 'r') as f:\n",
    "    for line in f:\n",
    "        print(line)"
   ]
  },
  {
   "cell_type": "code",
   "execution_count": 41,
   "id": "85e9fd13-356e-4061-af30-fcff2dd23baf",
   "metadata": {},
   "outputs": [],
   "source": [
    "## f.readlines takes a lot of memory ==> use for loop"
   ]
  },
  {
   "cell_type": "code",
   "execution_count": 42,
   "id": "c4e9ee1f-7c0a-4cf7-94f3-41160beb2c9d",
   "metadata": {},
   "outputs": [],
   "source": [
    "## pytorch dataloader is like forloop\n",
    "\n"
   ]
  },
  {
   "cell_type": "code",
   "execution_count": null,
   "id": "d903afaf-93f7-4655-b325-136b872c178b",
   "metadata": {},
   "outputs": [],
   "source": []
  },
  {
   "cell_type": "code",
   "execution_count": null,
   "id": "299b0686-a93d-4d6d-b0e4-6a394d48f793",
   "metadata": {},
   "outputs": [],
   "source": []
  },
  {
   "cell_type": "code",
   "execution_count": null,
   "id": "6bdc89ac-fdf2-42bb-824e-5d5ecb34324a",
   "metadata": {},
   "outputs": [],
   "source": []
  },
  {
   "cell_type": "code",
   "execution_count": null,
   "id": "3a98bd16-8917-400c-ada2-7ff3ce6e8412",
   "metadata": {},
   "outputs": [],
   "source": []
  },
  {
   "cell_type": "code",
   "execution_count": null,
   "id": "1c78df88-edf6-40b3-af8a-dc67b7695104",
   "metadata": {},
   "outputs": [],
   "source": []
  }
 ],
 "metadata": {
  "kernelspec": {
   "display_name": "Python 3 (ipykernel)",
   "language": "python",
   "name": "python3"
  },
  "language_info": {
   "codemirror_mode": {
    "name": "ipython",
    "version": 3
   },
   "file_extension": ".py",
   "mimetype": "text/x-python",
   "name": "python",
   "nbconvert_exporter": "python",
   "pygments_lexer": "ipython3",
   "version": "3.7.10"
  }
 },
 "nbformat": 4,
 "nbformat_minor": 5
}
