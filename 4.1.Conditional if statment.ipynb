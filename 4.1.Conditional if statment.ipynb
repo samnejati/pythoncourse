{
 "cells": [
  {
   "cell_type": "markdown",
   "id": "841ffd36-d114-4b64-b3c0-cda0ad96ba63",
   "metadata": {},
   "source": [
    "## Session 4.1. Conditional if statment\n",
    "#### A coder to a problem solver is a typist to an author"
   ]
  },
  {
   "cell_type": "markdown",
   "id": "6d314afe-ec45-424c-9f58-a7a615066786",
   "metadata": {},
   "source": [
    "## sequential execution vs control structures"
   ]
  },
  {
   "cell_type": "markdown",
   "id": "2f2ee0e8-8713-4078-80d9-23172e52fe95",
   "metadata": {},
   "source": [
    "\n",
    "```\n",
    "if< expression>:\n",
    "    <statment>\n",
    "```"
   ]
  },
  {
   "cell_type": "code",
   "execution_count": 3,
   "id": "f94aefa6-44ee-4554-8c2f-e808a8f485d2",
   "metadata": {},
   "outputs": [],
   "source": [
    "x = 2"
   ]
  },
  {
   "cell_type": "code",
   "execution_count": 4,
   "id": "f84bd04c-5529-4522-9960-bfd46680d65c",
   "metadata": {},
   "outputs": [
    {
     "name": "stdout",
     "output_type": "stream",
     "text": [
      "x is 2\n"
     ]
    }
   ],
   "source": [
    "if x == 2:\n",
    "    print ('x is 2')"
   ]
  },
  {
   "cell_type": "code",
   "execution_count": 8,
   "id": "e53e887b-ac0c-4021-9c32-03d345b0f61c",
   "metadata": {},
   "outputs": [
    {
     "name": "stdout",
     "output_type": "stream",
     "text": [
      "x is 2\n"
     ]
    }
   ],
   "source": [
    "if 1:\n",
    "    print ('x is 2')"
   ]
  },
  {
   "cell_type": "code",
   "execution_count": 10,
   "id": "2b9a7142-1aa6-455a-9f19-c9cecc564114",
   "metadata": {},
   "outputs": [],
   "source": [
    "if 0:\n",
    "    print ('x is 2') ## 0, False, empty set or empty list, None and etc. are evaluated to FALSE, so they won't print"
   ]
  },
  {
   "cell_type": "code",
   "execution_count": 11,
   "id": "72ec3ac2-5bfd-4488-85cf-d85ba9a5d3a9",
   "metadata": {},
   "outputs": [
    {
     "data": {
      "text/plain": [
       "True"
      ]
     },
     "execution_count": 11,
     "metadata": {},
     "output_type": "execute_result"
    }
   ],
   "source": [
    "bool (int) # bool function"
   ]
  },
  {
   "cell_type": "code",
   "execution_count": 13,
   "id": "33e3838c-fab9-4575-8757-0bd5b1994b86",
   "metadata": {},
   "outputs": [
    {
     "data": {
      "text/plain": [
       "False"
      ]
     },
     "execution_count": 13,
     "metadata": {},
     "output_type": "execute_result"
    }
   ],
   "source": [
    "bool (0)\n"
   ]
  },
  {
   "cell_type": "code",
   "execution_count": 14,
   "id": "c047d75b-4ec4-47e6-aa92-6b5f193a7079",
   "metadata": {},
   "outputs": [
    {
     "data": {
      "text/plain": [
       "False"
      ]
     },
     "execution_count": 14,
     "metadata": {},
     "output_type": "execute_result"
    }
   ],
   "source": [
    "bool (None)\n"
   ]
  },
  {
   "cell_type": "code",
   "execution_count": 15,
   "id": "94250bd4-fc1d-4e4c-9eb1-8419ac7287b6",
   "metadata": {},
   "outputs": [
    {
     "data": {
      "text/plain": [
       "False"
      ]
     },
     "execution_count": 15,
     "metadata": {},
     "output_type": "execute_result"
    }
   ],
   "source": [
    "bool (False)"
   ]
  },
  {
   "cell_type": "code",
   "execution_count": 16,
   "id": "8b6d6772-8406-4b9f-ae71-2e305de84245",
   "metadata": {},
   "outputs": [
    {
     "data": {
      "text/plain": [
       "True"
      ]
     },
     "execution_count": 16,
     "metadata": {},
     "output_type": "execute_result"
    }
   ],
   "source": [
    "bool (True)"
   ]
  },
  {
   "cell_type": "code",
   "execution_count": 17,
   "id": "9a3d0a93-da5e-4c8e-a994-fc8c17b4a80b",
   "metadata": {},
   "outputs": [],
   "source": [
    "if 0: \n",
    "    print ('zero is False')"
   ]
  },
  {
   "cell_type": "markdown",
   "id": "0dbdf450-737c-48ee-b9dc-a199c1f1a380",
   "metadata": {},
   "source": [
    "```\n",
    "if TRUE:\n",
    "    Execute the code\n",
    "    x\n",
    "    x\n",
    "    x (This is part of the code)\n",
    "    x it needs 4 sapces or a tab // OFF-SIDE RULE\n",
    "```    "
   ]
  },
  {
   "cell_type": "code",
   "execution_count": 18,
   "id": "a2cedff8-1c25-4ccf-b574-1a26ef193bf5",
   "metadata": {},
   "outputs": [],
   "source": [
    "x = 2\n",
    "y = 5"
   ]
  },
  {
   "cell_type": "code",
   "execution_count": 20,
   "id": "7c872513-702b-430c-b4b1-772f0c93008b",
   "metadata": {},
   "outputs": [],
   "source": [
    "if (x < 100) and (y < 0):\n",
    "    print('x is less than 100 and y is negative')"
   ]
  },
  {
   "cell_type": "code",
   "execution_count": 21,
   "id": "e4e1d956-0253-43aa-ab03-bc920c60f59d",
   "metadata": {},
   "outputs": [
    {
     "name": "stdout",
     "output_type": "stream",
     "text": [
      "a is in ali string\n"
     ]
    }
   ],
   "source": [
    "# search in string:\n",
    "if 'a' in 'ali':\n",
    "    print('a is in ali string')"
   ]
  },
  {
   "cell_type": "code",
   "execution_count": 22,
   "id": "dcda8dd8-f2f2-4041-a8d5-0581c9762797",
   "metadata": {},
   "outputs": [
    {
     "name": "stdout",
     "output_type": "stream",
     "text": [
      "found a\n"
     ]
    }
   ],
   "source": [
    "if 'a' in ['a', 'b', 'c', 'd']:\n",
    "    print('found a')"
   ]
  },
  {
   "cell_type": "code",
   "execution_count": 27,
   "id": "ce417b13-5c8c-4a65-a2e6-dafa4641f283",
   "metadata": {},
   "outputs": [
    {
     "name": "stdout",
     "output_type": "stream",
     "text": [
      "use is +18\n",
      "obese\n"
     ]
    }
   ],
   "source": [
    "#nested if\n",
    "user = 'Ali'\n",
    "age = 19\n",
    "weight = 70\n",
    "\n",
    "if user == 'Ali':\n",
    "    if age > 18:\n",
    "        print('use is +18')\n",
    "        \n",
    "    if weight > 60:\n",
    "        print('obese')\n",
    "    "
   ]
  },
  {
   "cell_type": "code",
   "execution_count": 35,
   "id": "ab7636df-3f00-467a-aa56-21f780df7bba",
   "metadata": {},
   "outputs": [],
   "source": [
    "x = 4"
   ]
  },
  {
   "cell_type": "code",
   "execution_count": 36,
   "id": "82116e5c-64f1-43e8-a0a0-3c36dc944262",
   "metadata": {},
   "outputs": [
    {
     "name": "stdout",
     "output_type": "stream",
     "text": [
      "x is positive\n"
     ]
    }
   ],
   "source": [
    "if x > 0:\n",
    "    print('x is positive')\n",
    "else:\n",
    "    print('x is negative')"
   ]
  },
  {
   "cell_type": "code",
   "execution_count": 39,
   "id": "956bee18-fff3-4e93-b6ed-bc15cd26040a",
   "metadata": {},
   "outputs": [
    {
     "name": "stdout",
     "output_type": "stream",
     "text": [
      "4\n"
     ]
    }
   ],
   "source": [
    "if x == 0:\n",
    "    print('x is positive')\n",
    "elif x == 3:\n",
    "    print('3')\n",
    "elif x == 4:\n",
    "    print('4')\n",
    "else:\n",
    "    print('none of the above')"
   ]
  },
  {
   "cell_type": "code",
   "execution_count": 40,
   "id": "679c47c5-2eef-4d12-803d-d000cfc30c20",
   "metadata": {},
   "outputs": [
    {
     "name": "stdout",
     "output_type": "stream",
     "text": [
      "x is 2\n"
     ]
    }
   ],
   "source": [
    "x = 2\n",
    "#one line if statment: (not recommanded)\n",
    "if x == 2: print ('x is 2')"
   ]
  },
  {
   "cell_type": "code",
   "execution_count": 41,
   "id": "2559c384-d1a6-40f3-bea6-ed3919b6d2f5",
   "metadata": {},
   "outputs": [],
   "source": [
    "## Switch case in JAVA and C++ exists in Python 3.10 called? Match case?"
   ]
  },
  {
   "cell_type": "code",
   "execution_count": 42,
   "id": "2ebc7030-373c-4e8a-8097-d82168072148",
   "metadata": {},
   "outputs": [],
   "source": [
    "# unary  and ternary operators"
   ]
  },
  {
   "cell_type": "code",
   "execution_count": 58,
   "id": "1cbb4a1f-012d-4819-81e4-b6e22b975d58",
   "metadata": {},
   "outputs": [],
   "source": [
    "# Ternery operators in other languages\n",
    "#x == 2 ? print('x is 2') : print ('x is not 2')"
   ]
  },
  {
   "cell_type": "code",
   "execution_count": 44,
   "id": "7ba4a993-fcad-43fd-b9e5-a653e1ec0e6a",
   "metadata": {},
   "outputs": [
    {
     "name": "stdout",
     "output_type": "stream",
     "text": [
      "x is 2\n"
     ]
    }
   ],
   "source": [
    "# ternary in python:\n",
    "print('x is 2') if x == 2 else print ('x is not 2')"
   ]
  },
  {
   "cell_type": "code",
   "execution_count": 45,
   "id": "33156c44-42fb-4921-a4ad-ac9d42d67ede",
   "metadata": {},
   "outputs": [],
   "source": [
    "age = 12\n",
    "can_have_twitter = True if age > 13 else False"
   ]
  },
  {
   "cell_type": "code",
   "execution_count": 46,
   "id": "fc81eacc-e009-4de8-b1ac-4db76edfa0be",
   "metadata": {},
   "outputs": [
    {
     "data": {
      "text/plain": [
       "False"
      ]
     },
     "execution_count": 46,
     "metadata": {},
     "output_type": "execute_result"
    }
   ],
   "source": [
    "can_have_twitter"
   ]
  },
  {
   "cell_type": "code",
   "execution_count": 50,
   "id": "bd2b28d8-0e6e-48fb-88d0-a692a87bdfeb",
   "metadata": {},
   "outputs": [],
   "source": [
    "age = 12\n",
    "can_have_twitter = 'YES' if age > 13 else 'NO'\n",
    "# if the if expression (age > 13 ) evaluates to true goes to left side ('Yes') else goes to right side ('No')"
   ]
  },
  {
   "cell_type": "code",
   "execution_count": 51,
   "id": "11035f51-1289-42fe-9c4e-49aae19099ab",
   "metadata": {},
   "outputs": [
    {
     "data": {
      "text/plain": [
       "'NO'"
      ]
     },
     "execution_count": 51,
     "metadata": {},
     "output_type": "execute_result"
    }
   ],
   "source": [
    "can_have_twitter"
   ]
  },
  {
   "cell_type": "markdown",
   "id": "4a83f801-028c-483a-a12c-831f8ed04d4f",
   "metadata": {},
   "source": [
    "### pass\n",
    "#### is used when you just don't want to do anything at that moment"
   ]
  },
  {
   "cell_type": "code",
   "execution_count": 52,
   "id": "4cae5bf4-30b2-44dd-b99a-a9064f6e33bf",
   "metadata": {},
   "outputs": [],
   "source": [
    "is_user_logged_in = True "
   ]
  },
  {
   "cell_type": "code",
   "execution_count": 54,
   "id": "2382ec52-5d6e-4337-aca4-e360f9b0ec9d",
   "metadata": {},
   "outputs": [],
   "source": [
    "if is_user_logged_in:\n",
    "    #TODO: SHow User Profile\n",
    "    pass\n",
    "else:\n",
    "    #TODO: Show sign in button\n",
    "    pass"
   ]
  },
  {
   "cell_type": "code",
   "execution_count": 56,
   "id": "ad4461ff-f81b-4ae7-9d81-2477551ecb05",
   "metadata": {},
   "outputs": [],
   "source": [
    "# also for functions:\n",
    "def func(a, b):\n",
    "    pass"
   ]
  },
  {
   "cell_type": "code",
   "execution_count": 57,
   "id": "4e7bdbb1-6857-45fd-bd76-4783e00fb894",
   "metadata": {},
   "outputs": [],
   "source": [
    "try:\n",
    "    pass\n",
    "except:\n",
    "    pass"
   ]
  },
  {
   "cell_type": "markdown",
   "id": "a829af91-011c-4aff-bcb7-99596da2cfdc",
   "metadata": {},
   "source": [
    "\n",
    "## Shift + Tab ==> \n",
    "#### Takes your code a tab back"
   ]
  },
  {
   "cell_type": "code",
   "execution_count": null,
   "id": "e7b5f2bc-3b3a-4cc4-9981-56cafa3a0039",
   "metadata": {},
   "outputs": [],
   "source": [
    "try:\n",
    "    pass\n",
    "except:\n",
    "    pass"
   ]
  },
  {
   "cell_type": "code",
   "execution_count": 59,
   "id": "07c10f2d-2520-433c-9171-524d73307a18",
   "metadata": {},
   "outputs": [
    {
     "data": {
      "text/plain": [
       "True"
      ]
     },
     "execution_count": 59,
     "metadata": {},
     "output_type": "execute_result"
    }
   ],
   "source": [
    "# interpreted languages are first come first serve. Thats's why the code below runs but not the one after that\n",
    "True or 0/0"
   ]
  },
  {
   "cell_type": "code",
   "execution_count": 60,
   "id": "4c54cd91-0f03-4520-8f5b-bf6f3a31d971",
   "metadata": {},
   "outputs": [
    {
     "ename": "ZeroDivisionError",
     "evalue": "division by zero",
     "output_type": "error",
     "traceback": [
      "\u001b[0;31m---------------------------------------------------------------------------\u001b[0m",
      "\u001b[0;31mZeroDivisionError\u001b[0m                         Traceback (most recent call last)",
      "\u001b[0;32m/tmp/ipykernel_16489/256770642.py\u001b[0m in \u001b[0;36m<module>\u001b[0;34m\u001b[0m\n\u001b[0;32m----> 1\u001b[0;31m \u001b[0;36m0\u001b[0m\u001b[0;34m/\u001b[0m\u001b[0;36m0\u001b[0m \u001b[0;32mor\u001b[0m \u001b[0;32mTrue\u001b[0m\u001b[0;34m\u001b[0m\u001b[0;34m\u001b[0m\u001b[0m\n\u001b[0m",
      "\u001b[0;31mZeroDivisionError\u001b[0m: division by zero"
     ]
    }
   ],
   "source": [
    "0/0 or True"
   ]
  },
  {
   "cell_type": "code",
   "execution_count": null,
   "id": "e7ae1524-0fd1-42e9-a9b8-898e97ab66a1",
   "metadata": {},
   "outputs": [],
   "source": []
  },
  {
   "cell_type": "code",
   "execution_count": 61,
   "id": "1cdd14b4-027e-4d67-945e-142eae970bc2",
   "metadata": {},
   "outputs": [],
   "source": [
    "import numpy as np"
   ]
  },
  {
   "cell_type": "code",
   "execution_count": 112,
   "id": "0f600fd8-f248-498c-b1bd-cf9387c740df",
   "metadata": {},
   "outputs": [
    {
     "data": {
      "text/plain": [
       "array([ 38,   6, 118])"
      ]
     },
     "execution_count": 112,
     "metadata": {},
     "output_type": "execute_result"
    }
   ],
   "source": [
    "np.random.randint(2, 200, size = 3)"
   ]
  },
  {
   "cell_type": "code",
   "execution_count": 113,
   "id": "7e823655-79b5-4a97-a3e9-eb195f619319",
   "metadata": {},
   "outputs": [],
   "source": [
    "def myiter():\n",
    "    for i in range(100):\n",
    "        yield np.random.randint(2, 78)"
   ]
  },
  {
   "cell_type": "code",
   "execution_count": 114,
   "id": "7cedcb7c-c4c5-49a0-8006-fb77de44ecdc",
   "metadata": {},
   "outputs": [],
   "source": [
    "g = myiter() #function call"
   ]
  },
  {
   "cell_type": "code",
   "execution_count": 115,
   "id": "e25533c4-6ce2-42e3-ae87-56543d15ce2f",
   "metadata": {},
   "outputs": [
    {
     "data": {
      "text/plain": [
       "59"
      ]
     },
     "execution_count": 115,
     "metadata": {},
     "output_type": "execute_result"
    }
   ],
   "source": [
    "next(g)"
   ]
  },
  {
   "cell_type": "code",
   "execution_count": 116,
   "id": "e4f3125b-2010-41e2-9ec4-6a8e6a566479",
   "metadata": {},
   "outputs": [
    {
     "data": {
      "text/plain": [
       "62"
      ]
     },
     "execution_count": 116,
     "metadata": {},
     "output_type": "execute_result"
    }
   ],
   "source": [
    "next(g)"
   ]
  },
  {
   "cell_type": "code",
   "execution_count": 117,
   "id": "812a1fee-96d2-4abd-bc3c-c5158de44ac8",
   "metadata": {},
   "outputs": [
    {
     "data": {
      "text/plain": [
       "72"
      ]
     },
     "execution_count": 117,
     "metadata": {},
     "output_type": "execute_result"
    }
   ],
   "source": [
    "next(g)"
   ]
  },
  {
   "cell_type": "code",
   "execution_count": 118,
   "id": "12376185-bc97-4266-861c-9ead0f8b8277",
   "metadata": {},
   "outputs": [
    {
     "data": {
      "text/plain": [
       "43"
      ]
     },
     "execution_count": 118,
     "metadata": {},
     "output_type": "execute_result"
    }
   ],
   "source": [
    "next(g)"
   ]
  },
  {
   "cell_type": "code",
   "execution_count": 119,
   "id": "51a25c2a-a28b-4502-9e9b-fa050dd1cd2a",
   "metadata": {},
   "outputs": [
    {
     "data": {
      "text/plain": [
       "11"
      ]
     },
     "execution_count": 119,
     "metadata": {},
     "output_type": "execute_result"
    }
   ],
   "source": [
    "next(g)"
   ]
  },
  {
   "cell_type": "code",
   "execution_count": 120,
   "id": "35978e76-fb6e-4dbd-8768-2144062c0bf5",
   "metadata": {},
   "outputs": [
    {
     "data": {
      "text/plain": [
       "20"
      ]
     },
     "execution_count": 120,
     "metadata": {},
     "output_type": "execute_result"
    }
   ],
   "source": [
    "next(g)"
   ]
  },
  {
   "cell_type": "markdown",
   "id": "9f274213-b84a-4cbc-bf62-bc60a2e8ceff",
   "metadata": {},
   "source": [
    "#### same thing on all lines:\n",
    "# ctrl + alt (vscode) your action\n"
   ]
  },
  {
   "cell_type": "code",
   "execution_count": 123,
   "id": "949bd743-a288-4273-a75c-7efb355f3fd2",
   "metadata": {
    "scrolled": true,
    "tags": []
   },
   "outputs": [],
   "source": [
    "names = [\"Mohammad khalili\",\n",
    "\"behnoosh farzanmanesh \",\n",
    "\"mitra kian mehr\",\n",
    "\"Mohammad Shirdel {Sky]\",\n",
    "\"Hamed Valaei\",\n",
    "\"yasin tehrani\",\n",
    "\"Ali Asadi\",\n",
    "\"Nasrin Moosivand\",\n",
    "\"mahdi moushekhian\",\n",
    "\"Fatemeh Ghaderinezhad\",\n",
    "\"Ali Asadi\",\n",
    "\"fateme Barkhordari \",\n",
    "\"Hamidreza Hajiani\",\n",
    "\"Somayeh Madani\",\n",
    "\"Shahrzad Behrouzi\",\n",
    "\"Siavash Ebrahimi Kamal\",\n",
    "\"Hoda Masha\",\n",
    "\"Ali Razzaghi\",\n",
    "\"Erfan GhaziAsgar\",\n",
    "\"AIi Barmaki\",\n",
    "\"saba maleki\",\n",
    "\"Omid Mirabzadeh Ardakani (omirabzadeh)\",\n",
    "\"Ali Ostovar\",\n",
    "\"Mojtaba Nasiryani\",\n",
    "\"Mitra Seifari\",\n",
    "\"elham heydari\",\n",
    "\"Maham Kheiriyeh\",\n",
    "\"Sina Talebi\",\n",
    "\"arezou pakseresht\",\n",
    "\"behrad eskandari\",\n",
    "\"arezoo afshari\",\n",
    "\"sajad parhizgar\",\n",
    "\"Ali Hosseini\",\n",
    "\"vahid majidi\",\n",
    "\"Elnaz hesami\",\n",
    "\"mahdi saadati\",\n",
    "\"AMIN Najafi\",\n",
    "\"Alireza LIAGHAT\",\n",
    "\"mehrdad aflakparast\",\n",
    "\"marjan jafari\",\n",
    "\"pouria tofighi\",\n",
    "\"Sara Kheirkhah\",\n",
    "\"Hamed Razeghi\",\n",
    "\"zahra keshavarz\",\n",
    "\"taravat jabbari\",\n",
    "\"Pegah Iranfar\",\n",
    "\"Bahar Rostamizadeh\",\n",
    "\"haniye kosarian\",\n",
    "\"Fatemeh Honarvar\",\n",
    "\"HOSSEIN SENOBARI\",\n",
    "\"hasan yousefi\",\n",
    "\"Mansoure Jahanian\",\n",
    "\"Atena khavaninzade\",\n",
    "\"نرگس کلانتری\",\n",
    "\"Mojtaba gh\",\n",
    "\"sajad baharloo\",\n",
    "\"Mohammad Ashrafy\",\n",
    "\"Hasti saber \",\n",
    "\"Ramin Babazadeh\",\n",
    "\"\",\n",
    "\"nasrin shayesteh\",\n",
    "\"\",\n",
    "\"Ghazal_hoseyni\",\n",
    "\"Masoud Mahdavi\",\n",
    "\"Mehran Shirazi\",\n",
    "\"\",\n",
    "\"niki negahdari\",\n",
    "\"\",\n",
    "\"Sara Moghaddam\",\n",
    "\"Ramin Shojaeeghalehney\",\n",
    "\"MHMDRZA Golnesaei\",\n",
    "\"Ali farshian\",\n",
    "\"hadiseh arbabpour\",\n",
    "\"zahra mahboudi\",\n",
    "\"zahra zahmatkesh\",\n",
    "\"farkhonde babapour\",\n",
    "]"
   ]
  },
  {
   "cell_type": "code",
   "execution_count": 124,
   "id": "cb6db05f-0053-4044-8c87-3fd71a99d842",
   "metadata": {},
   "outputs": [
    {
     "ename": "ValueError",
     "evalue": "not enough values to unpack (expected 2, got 0)",
     "output_type": "error",
     "traceback": [
      "\u001b[0;31m---------------------------------------------------------------------------\u001b[0m",
      "\u001b[0;31mValueError\u001b[0m                                Traceback (most recent call last)",
      "\u001b[0;32m/tmp/ipykernel_16489/2680691556.py\u001b[0m in \u001b[0;36m<module>\u001b[0;34m\u001b[0m\n\u001b[1;32m      1\u001b[0m \u001b[0;32mfor\u001b[0m \u001b[0mname\u001b[0m \u001b[0;32min\u001b[0m \u001b[0mnames\u001b[0m\u001b[0;34m:\u001b[0m\u001b[0;34m\u001b[0m\u001b[0;34m\u001b[0m\u001b[0m\n\u001b[0;32m----> 2\u001b[0;31m     \u001b[0mfname\u001b[0m\u001b[0;34m,\u001b[0m \u001b[0mlname\u001b[0m \u001b[0;34m=\u001b[0m \u001b[0mname\u001b[0m\u001b[0;34m.\u001b[0m\u001b[0msplit\u001b[0m\u001b[0;34m(\u001b[0m\u001b[0;34m)\u001b[0m \u001b[0;34m[\u001b[0m\u001b[0;34m:\u001b[0m\u001b[0;36m2\u001b[0m\u001b[0;34m]\u001b[0m\u001b[0;34m\u001b[0m\u001b[0;34m\u001b[0m\u001b[0m\n\u001b[0m",
      "\u001b[0;31mValueError\u001b[0m: not enough values to unpack (expected 2, got 0)"
     ]
    }
   ],
   "source": [
    "for name in names:\n",
    "    fname, lname = name.split() [:2]"
   ]
  },
  {
   "cell_type": "code",
   "execution_count": 125,
   "id": "0839d1f2-0b4b-4d9d-aea8-14e45a7074ff",
   "metadata": {},
   "outputs": [
    {
     "name": "stdout",
     "output_type": "stream",
     "text": [
      "Mohammad khalili\n",
      "behnoosh farzanmanesh\n",
      "mitra kian\n",
      "Mohammad Shirdel\n",
      "Hamed Valaei\n",
      "yasin tehrani\n",
      "Ali Asadi\n",
      "Nasrin Moosivand\n",
      "mahdi moushekhian\n",
      "Fatemeh Ghaderinezhad\n",
      "Ali Asadi\n",
      "fateme Barkhordari\n",
      "Hamidreza Hajiani\n",
      "Somayeh Madani\n",
      "Shahrzad Behrouzi\n",
      "Siavash Ebrahimi\n",
      "Hoda Masha\n",
      "Ali Razzaghi\n",
      "Erfan GhaziAsgar\n",
      "AIi Barmaki\n",
      "saba maleki\n",
      "Omid Mirabzadeh\n",
      "Ali Ostovar\n",
      "Mojtaba Nasiryani\n",
      "Mitra Seifari\n",
      "elham heydari\n",
      "Maham Kheiriyeh\n",
      "Sina Talebi\n",
      "arezou pakseresht\n",
      "behrad eskandari\n",
      "arezoo afshari\n",
      "sajad parhizgar\n",
      "Ali Hosseini\n",
      "vahid majidi\n",
      "Elnaz hesami\n",
      "mahdi saadati\n",
      "AMIN Najafi\n",
      "Alireza LIAGHAT\n",
      "mehrdad aflakparast\n",
      "marjan jafari\n",
      "pouria tofighi\n",
      "Sara Kheirkhah\n",
      "Hamed Razeghi\n",
      "zahra keshavarz\n",
      "taravat jabbari\n",
      "Pegah Iranfar\n",
      "Bahar Rostamizadeh\n",
      "haniye kosarian\n",
      "Fatemeh Honarvar\n",
      "HOSSEIN SENOBARI\n",
      "hasan yousefi\n",
      "Mansoure Jahanian\n",
      "Atena khavaninzade\n",
      "نرگس کلانتری\n",
      "Mojtaba gh\n",
      "sajad baharloo\n",
      "Mohammad Ashrafy\n",
      "Hasti saber\n",
      "Ramin Babazadeh\n",
      "nasrin shayesteh\n",
      "Masoud Mahdavi\n",
      "Mehran Shirazi\n",
      "niki negahdari\n",
      "Sara Moghaddam\n",
      "Ramin Shojaeeghalehney\n",
      "MHMDRZA Golnesaei\n",
      "Ali farshian\n",
      "hadiseh arbabpour\n",
      "zahra mahboudi\n",
      "zahra zahmatkesh\n",
      "farkhonde babapour\n"
     ]
    }
   ],
   "source": [
    "for name in names:\n",
    "    if len(name.split()) < 2:\n",
    "        continue # igones if the names is less than 2 parts\n",
    "        \n",
    "    fname, lname = name.split() [:2]\n",
    "    print(fname, lname)"
   ]
  },
  {
   "cell_type": "code",
   "execution_count": 126,
   "id": "7f6ae4d2-90bd-4477-87d4-fee1fdd1576a",
   "metadata": {},
   "outputs": [
    {
     "name": "stdout",
     "output_type": "stream",
     "text": [
      "Mohammad Shirdel\n",
      "Hamed Valaei\n",
      "Ali Asadi\n",
      "Nasrin Moosivand\n",
      "Fatemeh Ghaderinezhad\n",
      "Ali Asadi\n",
      "Hamidreza Hajiani\n",
      "Somayeh Madani\n",
      "Shahrzad Behrouzi\n",
      "Siavash Ebrahimi\n",
      "Hoda Masha\n",
      "Ali Razzaghi\n",
      "Omid Mirabzadeh\n",
      "Ali Ostovar\n",
      "Mojtaba Nasiryani\n",
      "Mitra Seifari\n",
      "Maham Kheiriyeh\n",
      "Sina Talebi\n",
      "Ali Hosseini\n",
      "Sara Kheirkhah\n",
      "Hamed Razeghi\n",
      "Pegah Iranfar\n",
      "Bahar Rostamizadeh\n",
      "Fatemeh Honarvar\n",
      "Mansoure Jahanian\n",
      "نرگس کلانتری\n",
      "Mohammad Ashrafy\n",
      "Ramin Babazadeh\n",
      "Masoud Mahdavi\n",
      "Mehran Shirazi\n",
      "Sara Moghaddam\n",
      "Ramin Shojaeeghalehney\n"
     ]
    }
   ],
   "source": [
    "# اسمهای که دو قسمت با حرف بزرگ شروع کردند\n",
    "new_names = []\n",
    "for name in names:\n",
    "    if len(name.split()) < 2:\n",
    "        continue # igones if the names is less than 2 parts\n",
    "        \n",
    "    fname, lname = name.split() [:2]\n",
    "    \n",
    "    if fname.title() == fname and lname.title() == lname:\n",
    "        print(fname, lname)\n"
   ]
  },
  {
   "cell_type": "code",
   "execution_count": 129,
   "id": "1b0e57c2-f256-4ccc-a04b-ad0eb142a204",
   "metadata": {},
   "outputs": [],
   "source": [
    "new_names = []\n",
    "for ind, name in enumerate (names): # keeps the indice\n",
    "    if len(name.split()) < 2:\n",
    "        continue # igones if the names is less than 2 parts\n",
    "        \n",
    "    fname, lname = name.split() [:2]\n",
    "    \n",
    "    if fname.title() == fname and lname.title() == lname:\n",
    "        new_names.append(name)"
   ]
  },
  {
   "cell_type": "code",
   "execution_count": 130,
   "id": "3c2185ff-5533-4854-81fc-44613dc51701",
   "metadata": {},
   "outputs": [
    {
     "data": {
      "text/plain": [
       "['Mohammad Shirdel {Sky]',\n",
       " 'Hamed Valaei',\n",
       " 'Ali Asadi',\n",
       " 'Nasrin Moosivand',\n",
       " 'Fatemeh Ghaderinezhad',\n",
       " 'Ali Asadi',\n",
       " 'Hamidreza Hajiani',\n",
       " 'Somayeh Madani',\n",
       " 'Shahrzad Behrouzi',\n",
       " 'Siavash Ebrahimi Kamal',\n",
       " 'Hoda Masha',\n",
       " 'Ali Razzaghi',\n",
       " 'Omid Mirabzadeh Ardakani (omirabzadeh)',\n",
       " 'Ali Ostovar',\n",
       " 'Mojtaba Nasiryani',\n",
       " 'Mitra Seifari',\n",
       " 'Maham Kheiriyeh',\n",
       " 'Sina Talebi',\n",
       " 'Ali Hosseini',\n",
       " 'Sara Kheirkhah',\n",
       " 'Hamed Razeghi',\n",
       " 'Pegah Iranfar',\n",
       " 'Bahar Rostamizadeh',\n",
       " 'Fatemeh Honarvar',\n",
       " 'Mansoure Jahanian',\n",
       " 'نرگس کلانتری',\n",
       " 'Mohammad Ashrafy',\n",
       " 'Ramin Babazadeh',\n",
       " 'Masoud Mahdavi',\n",
       " 'Mehran Shirazi',\n",
       " 'Sara Moghaddam',\n",
       " 'Ramin Shojaeeghalehney']"
      ]
     },
     "execution_count": 130,
     "metadata": {},
     "output_type": "execute_result"
    }
   ],
   "source": [
    "new_names"
   ]
  },
  {
   "cell_type": "code",
   "execution_count": 133,
   "id": "86570a30-be31-4920-b9fd-d0b3656d4820",
   "metadata": {},
   "outputs": [],
   "source": [
    "import random\n"
   ]
  },
  {
   "cell_type": "code",
   "execution_count": 150,
   "id": "10936509-ac0f-47d2-991a-c95bc5efa3d0",
   "metadata": {},
   "outputs": [
    {
     "data": {
      "text/plain": [
       "1"
      ]
     },
     "execution_count": 150,
     "metadata": {},
     "output_type": "execute_result"
    }
   ],
   "source": [
    "random.choice([1,2,3,])"
   ]
  },
  {
   "cell_type": "code",
   "execution_count": 160,
   "id": "027e8687-b19a-4095-baf6-fa49f78c25eb",
   "metadata": {},
   "outputs": [
    {
     "data": {
      "text/plain": [
       "'Ali Hosseini'"
      ]
     },
     "execution_count": 160,
     "metadata": {},
     "output_type": "execute_result"
    }
   ],
   "source": [
    "random.choice(new_names)"
   ]
  },
  {
   "cell_type": "code",
   "execution_count": 164,
   "id": "40a68222-0fab-4d8e-bad8-dd43bac9d5a7",
   "metadata": {},
   "outputs": [
    {
     "data": {
      "text/plain": [
       "'Ali Ostovar'"
      ]
     },
     "execution_count": 164,
     "metadata": {},
     "output_type": "execute_result"
    }
   ],
   "source": [
    "random.choice(new_names)"
   ]
  },
  {
   "cell_type": "code",
   "execution_count": 165,
   "id": "89dc9f01-251c-40bc-ba63-58bbf77aaf17",
   "metadata": {},
   "outputs": [
    {
     "data": {
      "text/plain": [
       "'Somayeh Madani'"
      ]
     },
     "execution_count": 165,
     "metadata": {},
     "output_type": "execute_result"
    }
   ],
   "source": [
    "random.choice(new_names)"
   ]
  },
  {
   "cell_type": "code",
   "execution_count": null,
   "id": "1b01924a-c660-43e3-808b-a11eda933ceb",
   "metadata": {},
   "outputs": [],
   "source": []
  }
 ],
 "metadata": {
  "kernelspec": {
   "display_name": "Python 3 (ipykernel)",
   "language": "python",
   "name": "python3"
  },
  "language_info": {
   "codemirror_mode": {
    "name": "ipython",
    "version": 3
   },
   "file_extension": ".py",
   "mimetype": "text/x-python",
   "name": "python",
   "nbconvert_exporter": "python",
   "pygments_lexer": "ipython3",
   "version": "3.7.10"
  }
 },
 "nbformat": 4,
 "nbformat_minor": 5
}
