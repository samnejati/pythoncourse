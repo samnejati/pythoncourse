{
 "cells": [
  {
   "cell_type": "markdown",
   "id": "cc456c02-afb6-4dd1-a16e-482a1458a0ec",
   "metadata": {},
   "source": [
    "## 6_3_Namespaces and Scope in Python ## "
   ]
  },
  {
   "cell_type": "code",
   "execution_count": 1,
   "id": "d4322224-e6ef-48d1-beb5-1543e5ef6bb8",
   "metadata": {},
   "outputs": [],
   "source": [
    "# we need identifiers to differentiate bwteeen the objects of the same name "
   ]
  },
  {
   "cell_type": "markdown",
   "id": "99198919-8fdc-464e-8981-91aef00a7ac5",
   "metadata": {},
   "source": [
    "An **assignment statement** creates a **symbolic name** that you can use to reference an object. The statement `x = 'foo'` creates a symbolic name `x` that refers to the string object `'foo'`."
   ]
  },
  {
   "cell_type": "markdown",
   "id": "f747aa17-189d-4e96-b8c0-30d480adf1b6",
   "metadata": {},
   "source": [
    "A namespace is a collection of currently defined symbolic names along with information about the object that each name references. You can think of a namespace as a **dictionary in which the keys are the object names and the values are the objects themselves**. Each key-value pair maps a name to its corresponding object."
   ]
  },
  {
   "cell_type": "code",
   "execution_count": 3,
   "id": "b9bec069-eb2b-46e1-b733-d7c270f12f73",
   "metadata": {},
   "outputs": [],
   "source": [
    "## example of seeing a namespace as a dictionary:\n",
    "namespace_x = {\n",
    "    'x': 2,\n",
    "    'y': [],\n",
    "    'z': {'a': 1}\n",
    "}"
   ]
  },
  {
   "cell_type": "markdown",
   "id": "fb9afe39-74e5-4b5b-b910-53ed177ef245",
   "metadata": {},
   "source": [
    "In a Python program, there are four types of namespaces:\n",
    "\n",
    "1. Built-In\n",
    "2. Global\n",
    "3. Enclosing\n",
    "4. Local"
   ]
  },
  {
   "cell_type": "code",
   "execution_count": 4,
   "id": "ad92dde8-5e15-45b6-ab19-8ac1019191ba",
   "metadata": {},
   "outputs": [],
   "source": [
    "# چگونه از وریبل هایی که در نیم اسپیس های مختلف تعریف میگردد استفاده کنیم؟"
   ]
  },
  {
   "cell_type": "markdown",
   "id": "27250ddb-fee2-4168-90da-77f1c9685087",
   "metadata": {},
   "source": [
    "The **built-in namespace** contains the names of all of Python’s built-in objects. These are available at all times when Python is running. You can list the objects in the built-in namespace with the following command:"
   ]
  },
  {
   "cell_type": "code",
   "execution_count": 7,
   "id": "f2682d7a-879c-4380-98fb-dbfdf4246537",
   "metadata": {},
   "outputs": [],
   "source": [
    "import builtins"
   ]
  },
  {
   "cell_type": "code",
   "execution_count": 10,
   "id": "a0da6889-f4c8-4dea-b7d9-f21aa9a8fe92",
   "metadata": {},
   "outputs": [
    {
     "data": {
      "text/plain": [
       "['ArithmeticError',\n",
       " 'AssertionError',\n",
       " 'AttributeError',\n",
       " 'BaseException',\n",
       " 'BlockingIOError',\n",
       " 'BrokenPipeError',\n",
       " 'BufferError',\n",
       " 'BytesWarning',\n",
       " 'ChildProcessError',\n",
       " 'ConnectionAbortedError',\n",
       " 'ConnectionError',\n",
       " 'ConnectionRefusedError',\n",
       " 'ConnectionResetError',\n",
       " 'DeprecationWarning',\n",
       " 'EOFError',\n",
       " 'Ellipsis',\n",
       " 'EnvironmentError',\n",
       " 'Exception',\n",
       " 'False',\n",
       " 'FileExistsError',\n",
       " 'FileNotFoundError',\n",
       " 'FloatingPointError',\n",
       " 'FutureWarning',\n",
       " 'GeneratorExit',\n",
       " 'IOError',\n",
       " 'ImportError',\n",
       " 'ImportWarning',\n",
       " 'IndentationError',\n",
       " 'IndexError',\n",
       " 'InterruptedError',\n",
       " 'IsADirectoryError',\n",
       " 'KeyError',\n",
       " 'KeyboardInterrupt',\n",
       " 'LookupError',\n",
       " 'MemoryError',\n",
       " 'ModuleNotFoundError',\n",
       " 'NameError',\n",
       " 'None',\n",
       " 'NotADirectoryError',\n",
       " 'NotImplemented',\n",
       " 'NotImplementedError',\n",
       " 'OSError',\n",
       " 'OverflowError',\n",
       " 'PendingDeprecationWarning',\n",
       " 'PermissionError',\n",
       " 'ProcessLookupError',\n",
       " 'RecursionError',\n",
       " 'ReferenceError',\n",
       " 'ResourceWarning',\n",
       " 'RuntimeError',\n",
       " 'RuntimeWarning',\n",
       " 'StopAsyncIteration',\n",
       " 'StopIteration',\n",
       " 'SyntaxError',\n",
       " 'SyntaxWarning',\n",
       " 'SystemError',\n",
       " 'SystemExit',\n",
       " 'TabError',\n",
       " 'TimeoutError',\n",
       " 'True',\n",
       " 'TypeError',\n",
       " 'UnboundLocalError',\n",
       " 'UnicodeDecodeError',\n",
       " 'UnicodeEncodeError',\n",
       " 'UnicodeError',\n",
       " 'UnicodeTranslateError',\n",
       " 'UnicodeWarning',\n",
       " 'UserWarning',\n",
       " 'ValueError',\n",
       " 'Warning',\n",
       " 'ZeroDivisionError',\n",
       " '__IPYTHON__',\n",
       " '__build_class__',\n",
       " '__debug__',\n",
       " '__doc__',\n",
       " '__import__',\n",
       " '__loader__',\n",
       " '__name__',\n",
       " '__package__',\n",
       " '__spec__',\n",
       " 'abs',\n",
       " 'all',\n",
       " 'any',\n",
       " 'ascii',\n",
       " 'bin',\n",
       " 'bool',\n",
       " 'breakpoint',\n",
       " 'bytearray',\n",
       " 'bytes',\n",
       " 'callable',\n",
       " 'chr',\n",
       " 'classmethod',\n",
       " 'compile',\n",
       " 'complex',\n",
       " 'copyright',\n",
       " 'credits',\n",
       " 'delattr',\n",
       " 'dict',\n",
       " 'dir',\n",
       " 'display',\n",
       " 'divmod',\n",
       " 'enumerate',\n",
       " 'eval',\n",
       " 'exec',\n",
       " 'execfile',\n",
       " 'filter',\n",
       " 'float',\n",
       " 'format',\n",
       " 'frozenset',\n",
       " 'get_ipython',\n",
       " 'getattr',\n",
       " 'globals',\n",
       " 'hasattr',\n",
       " 'hash',\n",
       " 'help',\n",
       " 'hex',\n",
       " 'id',\n",
       " 'input',\n",
       " 'int',\n",
       " 'isinstance',\n",
       " 'issubclass',\n",
       " 'iter',\n",
       " 'len',\n",
       " 'license',\n",
       " 'list',\n",
       " 'locals',\n",
       " 'map',\n",
       " 'max',\n",
       " 'memoryview',\n",
       " 'min',\n",
       " 'next',\n",
       " 'object',\n",
       " 'oct',\n",
       " 'open',\n",
       " 'ord',\n",
       " 'pow',\n",
       " 'print',\n",
       " 'property',\n",
       " 'range',\n",
       " 'repr',\n",
       " 'reversed',\n",
       " 'round',\n",
       " 'runfile',\n",
       " 'set',\n",
       " 'setattr',\n",
       " 'slice',\n",
       " 'sorted',\n",
       " 'staticmethod',\n",
       " 'str',\n",
       " 'sum',\n",
       " 'super',\n",
       " 'tuple',\n",
       " 'type',\n",
       " 'vars',\n",
       " 'zip']"
      ]
     },
     "execution_count": 10,
     "metadata": {},
     "output_type": "execute_result"
    }
   ],
   "source": [
    "# هر انچه که وقتی پایتون ران میشه قابل استفاده هست توی این نیم اسپیس تعریف شده\n",
    "#در هر استارت برنامه و اینترپرتر پایتون این ها اجرا و قابل استقاده میشوند:\n",
    "#eg: list, tuple, str,.... very important stuff\n",
    "dir(builtins)"
   ]
  },
  {
   "cell_type": "markdown",
   "id": "ab1c2e55-4975-43a7-ac5b-1998f41725ca",
   "metadata": {},
   "source": [
    "#### هر متغییر یا وریبلی که در لول اصلی برنامه تعریف شود میرود در گلوبال نیم اسپیس\n",
    "### The Global Namespace "
   ]
  },
  {
   "cell_type": "code",
   "execution_count": 11,
   "id": "4807f62e-4fc4-4530-8735-e309e83c64e7",
   "metadata": {},
   "outputs": [],
   "source": [
    "### The Global Namespace :\n",
    "x= 2\n",
    "y=3\n",
    "z= [1,2,3]"
   ]
  },
  {
   "cell_type": "code",
   "execution_count": 14,
   "id": "0ba959b5-48b7-4663-a62b-441a3892f6aa",
   "metadata": {},
   "outputs": [],
   "source": [
    "# access everything in the gobal namespace\n",
    "globals() #==> It s a long list/ Don't run it now"
   ]
  },
  {
   "cell_type": "markdown",
   "id": "84bc578d-31ee-4021-b293-646123a06319",
   "metadata": {},
   "source": [
    "The **global namespace** contains any names defined at the level of the main program. Python creates the global namespace when the main program body starts, and it remains in existence until the interpreter terminates.\n",
    "\n",
    "Strictly speaking, this may not be the only global namespace that exists. The interpreter also creates a global namespace for any **module** that your program loads with the import statement. Further information on main functions and modules in Python will be covered later after OOP."
   ]
  },
  {
   "cell_type": "code",
   "execution_count": null,
   "id": "13572ace-4e8e-46cf-84b4-f8ee928d5f2b",
   "metadata": {},
   "outputs": [],
   "source": []
  },
  {
   "cell_type": "markdown",
   "id": "c32e2cc5-02ea-4cc3-ab91-5d4b99e3f370",
   "metadata": {},
   "source": [
    "<a class=\"anchor\" id=\"the_local_and_enclosing_namespaces\"></a>\n",
    "### The Local and Enclosing Namespaces\n",
    "\n",
    "As you learned in the previous tutorial on functions, the interpreter creates a new namespace whenever a function executes. That namespace is local to the function and remains in existence until the function terminates.\n",
    "\n",
    "Functions don’t exist independently from one another only at the level of the main program. You can also define one function inside another:"
   ]
  },
  {
   "cell_type": "code",
   "execution_count": 20,
   "id": "ca4ea90d-84d9-4802-9084-8fec0b1fb3bb",
   "metadata": {},
   "outputs": [],
   "source": [
    "def add(a, b):\n",
    "    # Here is the LOCAL NAMESPACE ==> variables x, y come to function and are defined as: a, b \n",
    "    \n",
    "    \n",
    "    return a + b"
   ]
  },
  {
   "cell_type": "code",
   "execution_count": 21,
   "id": "ca060308-b678-441b-be7f-d9fe1bab5236",
   "metadata": {},
   "outputs": [],
   "source": [
    "x, y = 3, 4"
   ]
  },
  {
   "cell_type": "code",
   "execution_count": 22,
   "id": "e61234c8-e7fc-47cb-9602-18c42152f9a6",
   "metadata": {},
   "outputs": [
    {
     "data": {
      "text/plain": [
       "7"
      ]
     },
     "execution_count": 22,
     "metadata": {},
     "output_type": "execute_result"
    }
   ],
   "source": [
    "add(x, y)"
   ]
  },
  {
   "cell_type": "markdown",
   "id": "b2eaad04-5f87-4fed-8ec7-ca3212006d6f",
   "metadata": {},
   "source": [
    "#### Enclosing namespace:"
   ]
  },
  {
   "cell_type": "code",
   "execution_count": 24,
   "id": "6a3b54bb-ec5a-4252-82e5-a08b0a2ba54a",
   "metadata": {},
   "outputs": [],
   "source": [
    "def new_add(a, b):\n",
    "    \n",
    "    # نیم اسپیس لوکال ادد ، نیم اسپیس ساب را در بر یا انکوز کرده \n",
    "    \n",
    "    ## defining a new Local namespace which is ENCLOSED in the new_add 's local namespace:\n",
    "    ##Enclosing namespace\n",
    "    def sub (c, d):\n",
    "        return c - d\n",
    "    \n",
    "    return a + b"
   ]
  },
  {
   "cell_type": "code",
   "execution_count": null,
   "id": "7257f960-44d1-49e4-9d6b-1380ace40c32",
   "metadata": {},
   "outputs": [],
   "source": []
  },
  {
   "cell_type": "markdown",
   "id": "bcba4d69-595c-4583-bb00-827bfe9e13c1",
   "metadata": {},
   "source": [
    "<a class=\"anchor\" id=\"variable_scope\"></a>\n",
    "## Variable Scope\n",
    "\n",
    "The existence of multiple, distinct namespaces means several different instances of a particular name can exist simultaneously while a Python program runs. As long as each instance is in a different namespace, they’re all maintained separately and won’t interfere with one another.\n",
    "\n",
    "But that raises a question: Suppose you refer to the name `x` in your code, and `x` exists in several namespaces. How does Python know which one you mean?\n",
    "\n",
    "The answer lies in the concept of **scope**. The scope of a name is the region of a program in which that name has meaning. The interpreter determines this at runtime based on where the name definition occurs and where in the code the name is referenced."
   ]
  },
  {
   "cell_type": "markdown",
   "id": "89c3d2bf-9ddb-4b80-bdbd-70f4548644de",
   "metadata": {},
   "source": [
    "To return to the above question, if your code refers to the name `x`, then Python searches for `x` in the following namespaces in the order shown:\n",
    "\n",
    "1. **Local**: If you refer to `x` inside a function, then the interpreter first searches for it in the innermost scope that’s local to that function.\n",
    "2. **Enclosing**: If `x` isn’t in the local scope but appears in a function that resides inside another function, then the interpreter searches in the enclosing function’s scope.\n",
    "3. **Global**: If neither of the above searches is fruitful, then the interpreter looks in the global scope next.\n",
    "4. **Built-in**: If it can’t find x anywhere else, then the interpreter tries the built-in scope."
   ]
  },
  {
   "cell_type": "markdown",
   "id": "9d853580-a988-4dbe-92fe-4a16446a6961",
   "metadata": {},
   "source": [
    "# LEGB\n",
    "\n",
    "This is the **LEGB rule** as it’s commonly called in Python literature (although the term doesn’t actually appear in the Python documentation). The interpreter searches for a name from the inside out, looking in the **l**ocal, **e**nclosing, **g**lobal, and finally the **b**uilt-in scope:\n",
    "\n",
    "<img src=\"https://hands-on.cloud/wp-content/uploads/2021/07/Scope-in-Python-Scope-Inclusion-and-execution-order-1024x1024.png\" alt=\"LEGB rule\" width=200 align=\"center\" />"
   ]
  },
  {
   "cell_type": "code",
   "execution_count": 34,
   "id": "d5b8639e-db55-41e0-acdb-467c8d88cd0a",
   "metadata": {},
   "outputs": [],
   "source": [
    "x = 'global'\n",
    "\n",
    "def f():    \n",
    "    def g():\n",
    "        print(x)"
   ]
  },
  {
   "cell_type": "code",
   "execution_count": 32,
   "id": "8da8325c-99dd-4935-aab8-1f6ed5309129",
   "metadata": {},
   "outputs": [],
   "source": [
    "f() # nothing prints, we need to call g() function too"
   ]
  },
  {
   "cell_type": "code",
   "execution_count": 35,
   "id": "c06cd8dd-988c-46fd-b3ff-ab3c25d975d7",
   "metadata": {},
   "outputs": [
    {
     "ename": "NameError",
     "evalue": "name 'g' is not defined",
     "output_type": "error",
     "traceback": [
      "\u001b[0;31m---------------------------------------------------------------------------\u001b[0m",
      "\u001b[0;31mNameError\u001b[0m                                 Traceback (most recent call last)",
      "\u001b[0;32m/tmp/ipykernel_6136/3799533058.py\u001b[0m in \u001b[0;36m<module>\u001b[0;34m\u001b[0m\n\u001b[0;32m----> 1\u001b[0;31m \u001b[0mf\u001b[0m\u001b[0;34m(\u001b[0m\u001b[0mg\u001b[0m\u001b[0;34m(\u001b[0m\u001b[0;34m)\u001b[0m\u001b[0;34m)\u001b[0m\u001b[0;34m\u001b[0m\u001b[0;34m\u001b[0m\u001b[0m\n\u001b[0m",
      "\u001b[0;31mNameError\u001b[0m: name 'g' is not defined"
     ]
    }
   ],
   "source": [
    "f(g()) # we need to call g() function from within the function"
   ]
  },
  {
   "cell_type": "code",
   "execution_count": 36,
   "id": "efb69790-4b4d-4bf8-bd90-bfe3dd3e6406",
   "metadata": {},
   "outputs": [],
   "source": [
    "x = 'global'\n",
    "\n",
    "def f():    \n",
    "    \n",
    "    def g():\n",
    "        print(x)\n",
    "        \n",
    "    g()"
   ]
  },
  {
   "cell_type": "code",
   "execution_count": 37,
   "id": "51b6ccd4-6601-43ab-907c-52bf6f0e9273",
   "metadata": {},
   "outputs": [
    {
     "name": "stdout",
     "output_type": "stream",
     "text": [
      "global\n"
     ]
    }
   ],
   "source": [
    "f() "
   ]
  },
  {
   "cell_type": "code",
   "execution_count": 40,
   "id": "12d5454f-69a8-4c8c-99a7-6b94dd7d2e64",
   "metadata": {},
   "outputs": [],
   "source": [
    "x = 'global'\n",
    "\n",
    "def f():   \n",
    "    x = 'enclosing'\n",
    "    \n",
    "    def g():\n",
    "        print(x)  #checks local name sopace here->No x var, goes to Enclosing namespace->Oh there is one X there -> prints that x='enlcosing' (not checking Globa)\n",
    "        \n",
    "    g()"
   ]
  },
  {
   "cell_type": "code",
   "execution_count": 41,
   "id": "094edb35-7337-4966-91a2-14451839740a",
   "metadata": {},
   "outputs": [
    {
     "name": "stdout",
     "output_type": "stream",
     "text": [
      "enclosing\n"
     ]
    }
   ],
   "source": [
    "f()"
   ]
  },
  {
   "cell_type": "code",
   "execution_count": 42,
   "id": "ba557ca0-9200-4e35-ac2b-52a9f8dcc8be",
   "metadata": {},
   "outputs": [],
   "source": [
    "x = 'global'\n",
    "\n",
    "def f():   \n",
    "    x = 'enclosing'\n",
    "    \n",
    "    def g():\n",
    "        x = 'local' \n",
    "        print(x) # Variable x is locally defined. So it prints it!\n",
    "        \n",
    "    g()"
   ]
  },
  {
   "cell_type": "code",
   "execution_count": 43,
   "id": "a9ee178d-9f40-49b4-8840-0ed11197b6fe",
   "metadata": {},
   "outputs": [
    {
     "name": "stdout",
     "output_type": "stream",
     "text": [
      "local\n"
     ]
    }
   ],
   "source": [
    "f()"
   ]
  },
  {
   "cell_type": "code",
   "execution_count": 45,
   "id": "8d58e7bf-e9f1-41d7-84f9-6b15bd262d34",
   "metadata": {},
   "outputs": [
    {
     "data": {
      "text/plain": [
       "'2'"
      ]
     },
     "execution_count": 45,
     "metadata": {},
     "output_type": "execute_result"
    }
   ],
   "source": [
    "# eg.: str() function is built in. But you can define a global str variable .. but since it is global, the built-in str() won't run. You have to delet it!\n",
    "str(2)"
   ]
  },
  {
   "cell_type": "code",
   "execution_count": 53,
   "id": "d804b7e2-4fdf-466c-85a1-d85222ac43f4",
   "metadata": {},
   "outputs": [],
   "source": [
    "str = 'hi'"
   ]
  },
  {
   "cell_type": "code",
   "execution_count": 54,
   "id": "07ee73e3-e842-4783-bc8c-c162f801d87d",
   "metadata": {},
   "outputs": [
    {
     "ename": "TypeError",
     "evalue": "'str' object is not callable",
     "output_type": "error",
     "traceback": [
      "\u001b[0;31m---------------------------------------------------------------------------\u001b[0m",
      "\u001b[0;31mTypeError\u001b[0m                                 Traceback (most recent call last)",
      "\u001b[0;32m/tmp/ipykernel_6136/3611978592.py\u001b[0m in \u001b[0;36m<module>\u001b[0;34m\u001b[0m\n\u001b[1;32m      1\u001b[0m \u001b[0;31m# we have now a global variable str--> built-in str() won't run\u001b[0m\u001b[0;34m\u001b[0m\u001b[0;34m\u001b[0m\u001b[0;34m\u001b[0m\u001b[0m\n\u001b[0;32m----> 2\u001b[0;31m \u001b[0mstr\u001b[0m\u001b[0;34m(\u001b[0m\u001b[0;36m2\u001b[0m\u001b[0;34m)\u001b[0m\u001b[0;34m\u001b[0m\u001b[0;34m\u001b[0m\u001b[0m\n\u001b[0m",
      "\u001b[0;31mTypeError\u001b[0m: 'str' object is not callable"
     ]
    }
   ],
   "source": [
    "# we have now a global variable str--> built-in str() won't run\n",
    "str(2)"
   ]
  },
  {
   "cell_type": "code",
   "execution_count": 55,
   "id": "d1380ddb-9ef8-4942-9727-2afebe53bff0",
   "metadata": {},
   "outputs": [],
   "source": [
    "#deleting the global str\n",
    "del str "
   ]
  },
  {
   "cell_type": "code",
   "execution_count": 56,
   "id": "195566d1-4f4d-4967-9daa-59ad5b0c719e",
   "metadata": {},
   "outputs": [
    {
     "data": {
      "text/plain": [
       "'2'"
      ]
     },
     "execution_count": 56,
     "metadata": {},
     "output_type": "execute_result"
    }
   ],
   "source": [
    "str(2)"
   ]
  },
  {
   "cell_type": "code",
   "execution_count": 57,
   "id": "9f5ee9c5-21da-4c8b-a878-4b1527e179e2",
   "metadata": {},
   "outputs": [
    {
     "data": {
      "text/plain": [
       "[1, 2, 3]"
      ]
     },
     "execution_count": 57,
     "metadata": {},
     "output_type": "execute_result"
    }
   ],
   "source": [
    "# same as list() function\n",
    "list((1,2,3,))"
   ]
  },
  {
   "cell_type": "code",
   "execution_count": 58,
   "id": "29e599b7-b5cf-4b74-a52e-cb5bf4abffbc",
   "metadata": {},
   "outputs": [],
   "source": [
    "list = [1,2,]"
   ]
  },
  {
   "cell_type": "code",
   "execution_count": 60,
   "id": "05fdc05e-bab7-4e27-b1fc-1c0175e2edd2",
   "metadata": {},
   "outputs": [
    {
     "data": {
      "text/plain": [
       "[1, 2]"
      ]
     },
     "execution_count": 60,
     "metadata": {},
     "output_type": "execute_result"
    }
   ],
   "source": [
    "list   # -->  This is not a function any more, it's just variable name  "
   ]
  },
  {
   "cell_type": "code",
   "execution_count": 61,
   "id": "c6d8445a-39da-4784-820c-df5877de3b0e",
   "metadata": {},
   "outputs": [
    {
     "ename": "TypeError",
     "evalue": "'list' object is not callable",
     "output_type": "error",
     "traceback": [
      "\u001b[0;31m---------------------------------------------------------------------------\u001b[0m",
      "\u001b[0;31mTypeError\u001b[0m                                 Traceback (most recent call last)",
      "\u001b[0;32m/tmp/ipykernel_6136/3652701389.py\u001b[0m in \u001b[0;36m<module>\u001b[0;34m\u001b[0m\n\u001b[1;32m      1\u001b[0m \u001b[0;31m# this will be an error. We have defined list as global variable. It is not a built-in function name again\u001b[0m\u001b[0;34m\u001b[0m\u001b[0;34m\u001b[0m\u001b[0;34m\u001b[0m\u001b[0m\n\u001b[0;32m----> 2\u001b[0;31m \u001b[0mlist\u001b[0m \u001b[0;34m(\u001b[0m\u001b[0;34m(\u001b[0m\u001b[0;36m1\u001b[0m\u001b[0;34m,\u001b[0m\u001b[0;36m2\u001b[0m\u001b[0;34m,\u001b[0m\u001b[0;36m3\u001b[0m\u001b[0;34m,\u001b[0m\u001b[0;34m)\u001b[0m\u001b[0;34m)\u001b[0m\u001b[0;34m\u001b[0m\u001b[0;34m\u001b[0m\u001b[0m\n\u001b[0m",
      "\u001b[0;31mTypeError\u001b[0m: 'list' object is not callable"
     ]
    }
   ],
   "source": [
    "# this will be an error. We have defined list as global variable. It is not a built-in function name again\n",
    "list ((1,2,3,))"
   ]
  },
  {
   "cell_type": "markdown",
   "id": "6e0a2378-08ef-4c40-8e98-b7fe796f7761",
   "metadata": {},
   "source": [
    "**TypeError: 'list' object is not callable** --> This is not a function any more, its just an object of type list which contains [1,2,]"
   ]
  },
  {
   "cell_type": "code",
   "execution_count": 62,
   "id": "fe782996-ef92-42aa-b211-82e1991ee1d5",
   "metadata": {},
   "outputs": [],
   "source": [
    "del list"
   ]
  },
  {
   "cell_type": "code",
   "execution_count": 63,
   "id": "a133cb37-79cd-4e13-829e-ddcae9027ad6",
   "metadata": {},
   "outputs": [
    {
     "data": {
      "text/plain": [
       "[1, 2, 3]"
      ]
     },
     "execution_count": 63,
     "metadata": {},
     "output_type": "execute_result"
    }
   ],
   "source": [
    "# now it works:\n",
    "list ((1,2,3,))"
   ]
  },
  {
   "cell_type": "markdown",
   "id": "8a31af92-0e65-4164-a65f-07f15575e3bd",
   "metadata": {},
   "source": [
    "<a class=\"anchor\" id=\"the_`globals()`_function\"></a>\n",
    "### The `globals()` function\n",
    "\n",
    "The built-in function `globals()` returns a reference to the current global namespace dictionary. You can use it to access the objects in the global namespace. Here’s an example of what it looks like when the main program starts:"
   ]
  },
  {
   "cell_type": "code",
   "execution_count": 64,
   "id": "e91d5334-d8d1-4a12-bc4a-89e33f3d307c",
   "metadata": {},
   "outputs": [],
   "source": [
    "# so namespaces work like a dictionary:\n",
    "x = 10"
   ]
  },
  {
   "cell_type": "code",
   "execution_count": null,
   "id": "ee530352-cfce-4d39-89c9-4fd7dc6bd672",
   "metadata": {},
   "outputs": [],
   "source": [
    "globals()  # running will return all the global namespaces (too long)"
   ]
  },
  {
   "cell_type": "code",
   "execution_count": 65,
   "id": "936bb047-afc5-476d-80ec-658c7bfcf688",
   "metadata": {},
   "outputs": [
    {
     "data": {
      "text/plain": [
       "10"
      ]
     },
     "execution_count": 65,
     "metadata": {},
     "output_type": "execute_result"
    }
   ],
   "source": [
    "globals()['x'] # will return the value"
   ]
  },
  {
   "cell_type": "code",
   "execution_count": null,
   "id": "fda721ec-74fa-4849-bdc2-56b4e8efeec2",
   "metadata": {},
   "outputs": [],
   "source": []
  },
  {
   "cell_type": "code",
   "execution_count": 95,
   "id": "7367ba9c-561f-4b7d-84a0-12f22330b55a",
   "metadata": {},
   "outputs": [],
   "source": [
    "x = 'global'\n",
    "\n",
    "def f():   \n",
    "    x = 'local'\n",
    "    \n",
    "    print (locals())  #returns a dictionary contaning variables which are defined in the local namespace of this function f().\n",
    "    "
   ]
  },
  {
   "cell_type": "code",
   "execution_count": 96,
   "id": "9423f635-81c3-4dc1-a4ab-85cf7de3719d",
   "metadata": {},
   "outputs": [
    {
     "name": "stdout",
     "output_type": "stream",
     "text": [
      "{'x': 'local'}\n"
     ]
    }
   ],
   "source": [
    "f()"
   ]
  },
  {
   "cell_type": "code",
   "execution_count": 97,
   "id": "2c1288fd-acc9-4746-bfdb-70545104be60",
   "metadata": {},
   "outputs": [],
   "source": [
    "# from 2021\n",
    "# NameSpaces are defined as Dictionaies\n",
    "def f():\n",
    "    print(f'before:{locals()}')\n",
    "    x=2\n",
    "    def g():\n",
    "        pass\n",
    "    print(f'before:{locals()}')"
   ]
  },
  {
   "cell_type": "code",
   "execution_count": 98,
   "id": "33f8e868-e240-4a9b-a23c-00135eadae95",
   "metadata": {},
   "outputs": [
    {
     "name": "stdout",
     "output_type": "stream",
     "text": [
      "before:{}\n",
      "before:{'x': 2, 'g': <function f.<locals>.g at 0x7f78745f4290>}\n"
     ]
    }
   ],
   "source": [
    "f()"
   ]
  },
  {
   "cell_type": "code",
   "execution_count": 99,
   "id": "973f7706-fd58-4b7f-81d9-f8ab56a3aa91",
   "metadata": {},
   "outputs": [
    {
     "data": {
      "text/plain": [
       "builtin_function_or_method"
      ]
     },
     "execution_count": 99,
     "metadata": {},
     "output_type": "execute_result"
    }
   ],
   "source": [
    "type(globals)"
   ]
  },
  {
   "cell_type": "code",
   "execution_count": 100,
   "id": "9d4123a8-4b82-4ecb-918c-e2209510e58d",
   "metadata": {},
   "outputs": [],
   "source": [
    "d = globals()"
   ]
  },
  {
   "cell_type": "code",
   "execution_count": 101,
   "id": "79bc6e63-c084-499c-b0ee-fe60be831816",
   "metadata": {},
   "outputs": [
    {
     "data": {
      "text/plain": [
       "dict"
      ]
     },
     "execution_count": 101,
     "metadata": {},
     "output_type": "execute_result"
    }
   ],
   "source": [
    "type(d) ## the output of globals() built-in function is a dictionary"
   ]
  },
  {
   "cell_type": "code",
   "execution_count": 102,
   "id": "4cceffed-2559-44f6-bf53-2c0c0a7bcc96",
   "metadata": {},
   "outputs": [
    {
     "data": {
      "text/plain": [
       "True"
      ]
     },
     "execution_count": 102,
     "metadata": {},
     "output_type": "execute_result"
    }
   ],
   "source": [
    "# search a variable in the global nameSpace:\n",
    "d is globals()"
   ]
  },
  {
   "cell_type": "code",
   "execution_count": 104,
   "id": "1ebda6d4-4305-4806-8284-6aa6d833f3f2",
   "metadata": {},
   "outputs": [
    {
     "ename": "NameError",
     "evalue": "name 'g' is not defined",
     "output_type": "error",
     "traceback": [
      "\u001b[0;31m---------------------------------------------------------------------------\u001b[0m",
      "\u001b[0;31mNameError\u001b[0m                                 Traceback (most recent call last)",
      "\u001b[0;32m/tmp/ipykernel_6136/3641922461.py\u001b[0m in \u001b[0;36m<module>\u001b[0;34m\u001b[0m\n\u001b[0;32m----> 1\u001b[0;31m \u001b[0mg\u001b[0m \u001b[0;32mis\u001b[0m \u001b[0mglobals\u001b[0m\u001b[0;34m(\u001b[0m\u001b[0;34m)\u001b[0m\u001b[0;34m\u001b[0m\u001b[0;34m\u001b[0m\u001b[0m\n\u001b[0m",
      "\u001b[0;31mNameError\u001b[0m: name 'g' is not defined"
     ]
    }
   ],
   "source": [
    "g is globals()"
   ]
  },
  {
   "cell_type": "code",
   "execution_count": 105,
   "id": "eacc81a6-0961-4589-8a80-536b0c8b962b",
   "metadata": {},
   "outputs": [
    {
     "data": {
      "text/plain": [
       "False"
      ]
     },
     "execution_count": 105,
     "metadata": {},
     "output_type": "execute_result"
    }
   ],
   "source": [
    "x is locals()"
   ]
  },
  {
   "cell_type": "code",
   "execution_count": 107,
   "id": "e0a6db6e-5e8b-4966-9d27-9a3fd49d3c8d",
   "metadata": {},
   "outputs": [
    {
     "data": {
      "text/plain": [
       "False"
      ]
     },
     "execution_count": 107,
     "metadata": {},
     "output_type": "execute_result"
    }
   ],
   "source": [
    "x is globals()"
   ]
  },
  {
   "cell_type": "code",
   "execution_count": 106,
   "id": "4c1262e6-a8cd-49d5-979a-516a9436d403",
   "metadata": {},
   "outputs": [
    {
     "data": {
      "text/plain": [
       "True"
      ]
     },
     "execution_count": 106,
     "metadata": {},
     "output_type": "execute_result"
    }
   ],
   "source": [
    "x is globals()['x']"
   ]
  },
  {
   "cell_type": "code",
   "execution_count": null,
   "id": "e9ee1d59-4402-446d-adc6-69ad3ddfec87",
   "metadata": {},
   "outputs": [],
   "source": []
  },
  {
   "cell_type": "code",
   "execution_count": null,
   "id": "0c0bb92f-0a42-4467-8961-18c2bc4e255d",
   "metadata": {},
   "outputs": [],
   "source": []
  },
  {
   "cell_type": "code",
   "execution_count": 108,
   "id": "d21fd3b0-e63f-4394-8623-d374aa049c53",
   "metadata": {},
   "outputs": [],
   "source": [
    " x = 'global'\n",
    "def f():\n",
    "    x = 'local'\n",
    "    \n",
    "    print(locals())"
   ]
  },
  {
   "cell_type": "code",
   "execution_count": 109,
   "id": "511eb9fc-0e16-40a8-b133-c2d2834100cb",
   "metadata": {},
   "outputs": [
    {
     "name": "stdout",
     "output_type": "stream",
     "text": [
      "{'x': 'local'}\n"
     ]
    }
   ],
   "source": [
    "f()"
   ]
  },
  {
   "cell_type": "code",
   "execution_count": null,
   "id": "33b84204-a51d-4fec-b9f7-f4535feb83c1",
   "metadata": {},
   "outputs": [],
   "source": [
    "#name space e global toye yek dictionary zakhireh shodeh\n",
    "# ke age bekhaiem oon dictionary ro begirim function globals() ro call mikonim\n",
    "globals()"
   ]
  },
  {
   "cell_type": "code",
   "execution_count": 110,
   "id": "fd75bc33-798d-49e3-a158-ad836e6baeea",
   "metadata": {},
   "outputs": [],
   "source": [
    "## age bekhaiem dictionary locals ro begirim function locals() ro call mikonim"
   ]
  },
  {
   "cell_type": "code",
   "execution_count": null,
   "id": "c4d2f520-2fbf-42fa-8a7b-6cab6f6cd4a3",
   "metadata": {},
   "outputs": [],
   "source": [
    "globals()[] ==> changes the actual value // it's a reference not a copy\n",
    "locals()[] == > does not//"
   ]
  },
  {
   "cell_type": "code",
   "execution_count": 112,
   "id": "a8546a7b-11f8-495d-8bd2-fb4bce3146e9",
   "metadata": {},
   "outputs": [
    {
     "data": {
      "text/plain": [
       "2"
      ]
     },
     "execution_count": 112,
     "metadata": {},
     "output_type": "execute_result"
    }
   ],
   "source": [
    "x = 2\n",
    "globals()['x'] # this is a reference to variable x"
   ]
  },
  {
   "cell_type": "code",
   "execution_count": 113,
   "id": "06e3e810-e5e3-43f4-8df7-af2fb0c39cfa",
   "metadata": {},
   "outputs": [],
   "source": [
    "globals()['x'] = 10 # this will update value of x"
   ]
  },
  {
   "cell_type": "code",
   "execution_count": 115,
   "id": "614bb6d4-a456-46f5-b08e-a0ab0ec1ce93",
   "metadata": {},
   "outputs": [
    {
     "data": {
      "text/plain": [
       "10"
      ]
     },
     "execution_count": 115,
     "metadata": {},
     "output_type": "execute_result"
    }
   ],
   "source": [
    "x  # --> its updates"
   ]
  },
  {
   "cell_type": "code",
   "execution_count": 116,
   "id": "a57382b4-6dee-4feb-bcf8-2be7733e17db",
   "metadata": {},
   "outputs": [],
   "source": [
    "# But this won't work for locals()"
   ]
  },
  {
   "cell_type": "code",
   "execution_count": 117,
   "id": "81774070-2c3e-4db4-992d-f6ea4180554e",
   "metadata": {},
   "outputs": [],
   "source": [
    "x = 'global'\n",
    "def f():\n",
    "    x = 'local'\n",
    "    \n",
    "    print(locals())\n",
    "    locals()['x'] = 'whatever, but won''t change'\n",
    "    \n",
    "    print(x)"
   ]
  },
  {
   "cell_type": "code",
   "execution_count": 119,
   "id": "6f6954f6-86a3-4a61-b7a0-63e86a037682",
   "metadata": {},
   "outputs": [
    {
     "name": "stdout",
     "output_type": "stream",
     "text": [
      "{'x': 'local'}\n",
      "local\n"
     ]
    }
   ],
   "source": [
    "f() ## 'whatever ' is not printed"
   ]
  },
  {
   "cell_type": "code",
   "execution_count": 120,
   "id": "059d04d9-4cd0-4728-a849-6bfec226cd7f",
   "metadata": {},
   "outputs": [],
   "source": [
    "x = 'global'\n",
    "def f():\n",
    "    x = 'local'\n",
    "    loc = locals()\n",
    "    \n",
    "    x = 'whatever'\n",
    "    print(loc) #   تغییر نمیکند\n",
    "    print(locals()) # تغییر میکند"
   ]
  },
  {
   "cell_type": "code",
   "execution_count": 121,
   "id": "5b5c5e21-71fe-4910-a80a-363d1c6e32bb",
   "metadata": {},
   "outputs": [
    {
     "name": "stdout",
     "output_type": "stream",
     "text": [
      "{'x': 'local'}\n",
      "{'x': 'whatever', 'loc': {...}}\n"
     ]
    }
   ],
   "source": [
    "f()"
   ]
  },
  {
   "cell_type": "code",
   "execution_count": null,
   "id": "12fce169-7fa2-4f2d-ac3e-d4294e4baa9b",
   "metadata": {},
   "outputs": [],
   "source": []
  },
  {
   "cell_type": "markdown",
   "id": "a23e1189-efeb-4e34-aec4-38d1495a09ae",
   "metadata": {},
   "source": [
    "If you call `locals()` outside a function in the main program, then it behaves the same as `globals()`. **examples**:"
   ]
  },
  {
   "cell_type": "code",
   "execution_count": 125,
   "id": "fde57f62-d10e-4e68-8c29-3e98c8ca5f86",
   "metadata": {
    "collapsed": true,
    "jupyter": {
     "outputs_hidden": true
    },
    "tags": []
   },
   "outputs": [
    {
     "name": "stdout",
     "output_type": "stream",
     "text": [
      "6\n"
     ]
    }
   ],
   "source": [
    "x= 5\n",
    "globals()['x'] = 6\n",
    "print(x)"
   ]
  },
  {
   "cell_type": "code",
   "execution_count": 126,
   "id": "c584fdea-43ae-4e7e-bb08-ee268916a9f5",
   "metadata": {},
   "outputs": [
    {
     "name": "stdout",
     "output_type": "stream",
     "text": [
      "7\n"
     ]
    }
   ],
   "source": [
    "locals()['x'] = 7  \n",
    "print(x)"
   ]
  },
  {
   "cell_type": "code",
   "execution_count": 127,
   "id": "4023ca65-fd15-4227-af38-2c9d021ffebb",
   "metadata": {},
   "outputs": [],
   "source": [
    "#conclusion:\n",
    "#globals will return exactly the dictionary (returns the reference)\n",
    "#locals doesn't change the dictionary (returns the copy)\n"
   ]
  },
  {
   "cell_type": "code",
   "execution_count": 128,
   "id": "9890cc8f-7208-4f29-b522-c691abb1b492",
   "metadata": {},
   "outputs": [
    {
     "name": "stdout",
     "output_type": "stream",
     "text": [
      "The Zen of Python, by Tim Peters\n",
      "\n",
      "Beautiful is better than ugly.\n",
      "Explicit is better than implicit.\n",
      "Simple is better than complex.\n",
      "Complex is better than complicated.\n",
      "Flat is better than nested.\n",
      "Sparse is better than dense.\n",
      "Readability counts.\n",
      "Special cases aren't special enough to break the rules.\n",
      "Although practicality beats purity.\n",
      "Errors should never pass silently.\n",
      "Unless explicitly silenced.\n",
      "In the face of ambiguity, refuse the temptation to guess.\n",
      "There should be one-- and preferably only one --obvious way to do it.\n",
      "Although that way may not be obvious at first unless you're Dutch.\n",
      "Now is better than never.\n",
      "Although never is often better than *right* now.\n",
      "If the implementation is hard to explain, it's a bad idea.\n",
      "If the implementation is easy to explain, it may be a good idea.\n",
      "Namespaces are one honking great idea -- let's do more of those!\n"
     ]
    }
   ],
   "source": [
    "#importing Zen of Python:\n",
    "import this"
   ]
  },
  {
   "cell_type": "markdown",
   "id": "531331eb-992c-4ce6-a822-007667bd6fcc",
   "metadata": {},
   "source": [
    "**Things to learn now**\n",
    "- Problem Solving\n",
    "- logical thinking"
   ]
  },
  {
   "cell_type": "code",
   "execution_count": null,
   "id": "3ec07743-3dca-46c8-9968-9555da07dc30",
   "metadata": {},
   "outputs": [],
   "source": []
  },
  {
   "cell_type": "code",
   "execution_count": null,
   "id": "7734d996-8e65-4d93-aacb-f31ffa172dfc",
   "metadata": {},
   "outputs": [],
   "source": []
  },
  {
   "cell_type": "code",
   "execution_count": null,
   "id": "641d237d-0e93-46aa-b178-5cfa76ac8d9f",
   "metadata": {},
   "outputs": [],
   "source": []
  },
  {
   "cell_type": "code",
   "execution_count": null,
   "id": "970b5ad4-2c07-4252-b8fc-67341956d583",
   "metadata": {},
   "outputs": [],
   "source": []
  },
  {
   "cell_type": "code",
   "execution_count": null,
   "id": "1b1b612d-898c-4eef-92a2-f73ffc84ea45",
   "metadata": {},
   "outputs": [],
   "source": []
  },
  {
   "cell_type": "code",
   "execution_count": null,
   "id": "f65de448-2ef8-4984-90ba-9591db1ebb7a",
   "metadata": {},
   "outputs": [],
   "source": []
  },
  {
   "cell_type": "code",
   "execution_count": null,
   "id": "9b3d34d6-12a2-4a3f-a9b0-7c1c298056b1",
   "metadata": {},
   "outputs": [],
   "source": []
  },
  {
   "cell_type": "code",
   "execution_count": null,
   "id": "92dc5df5-8c05-4326-93ad-0750795937b1",
   "metadata": {},
   "outputs": [],
   "source": []
  }
 ],
 "metadata": {
  "kernelspec": {
   "display_name": "Python 3 (ipykernel)",
   "language": "python",
   "name": "python3"
  },
  "language_info": {
   "codemirror_mode": {
    "name": "ipython",
    "version": 3
   },
   "file_extension": ".py",
   "mimetype": "text/x-python",
   "name": "python",
   "nbconvert_exporter": "python",
   "pygments_lexer": "ipython3",
   "version": "3.7.10"
  }
 },
 "nbformat": 4,
 "nbformat_minor": 5
}
