{
 "cells": [
  {
   "cell_type": "markdown",
   "id": "55520ea4-08d4-497d-88e0-4d4c635c8b2a",
   "metadata": {},
   "source": [
    "### Defining Your Own Python Function, Part #2"
   ]
  },
  {
   "cell_type": "code",
   "execution_count": 1,
   "id": "99a3d11f-903f-48a4-9194-c36e324fd393",
   "metadata": {},
   "outputs": [],
   "source": [
    "def calc_four(a,b):\n",
    "    return a+b,a - b, a * b, a / b, a //b "
   ]
  },
  {
   "cell_type": "code",
   "execution_count": 2,
   "id": "6508825e-fdc8-409b-9e49-e1363882f225",
   "metadata": {},
   "outputs": [
    {
     "data": {
      "text/plain": [
       "(7, -1, 12, 0.75, 0)"
      ]
     },
     "execution_count": 2,
     "metadata": {},
     "output_type": "execute_result"
    }
   ],
   "source": [
    "calc_four(3,4)"
   ]
  },
  {
   "cell_type": "code",
   "execution_count": 3,
   "id": "fc80b36a-45e8-49f7-a7a9-bc707de96ad3",
   "metadata": {},
   "outputs": [],
   "source": [
    "def avg3(a, b, c):\n",
    "    return (a + b + c) / 3"
   ]
  },
  {
   "cell_type": "code",
   "execution_count": 4,
   "id": "07b3885e-18ca-4410-bc94-8283efed3fd9",
   "metadata": {},
   "outputs": [
    {
     "data": {
      "text/plain": [
       "2.0"
      ]
     },
     "execution_count": 4,
     "metadata": {},
     "output_type": "execute_result"
    }
   ],
   "source": [
    "avg3(1, 2, 3)"
   ]
  },
  {
   "cell_type": "code",
   "execution_count": 5,
   "id": "84370368-fbd1-4510-a806-86da9006b17b",
   "metadata": {},
   "outputs": [],
   "source": [
    "## We have to change the input into a list so this function works\n",
    "def avg(a):\n",
    "    total = 0\n",
    "    for item in a:\n",
    "        total += item\n",
    "        \n",
    "    return total / len(a)"
   ]
  },
  {
   "cell_type": "code",
   "execution_count": 6,
   "id": "f8e00988-3553-4e16-a26c-80792572abbf",
   "metadata": {},
   "outputs": [
    {
     "data": {
      "text/plain": [
       "2.0"
      ]
     },
     "execution_count": 6,
     "metadata": {},
     "output_type": "execute_result"
    }
   ],
   "source": [
    "avg([1,2,3,])"
   ]
  },
  {
   "cell_type": "markdown",
   "id": "0afadba9-3431-4957-a92d-236cc624e969",
   "metadata": {},
   "source": [
    "<a class=\"anchor\" id=\"argument_tuple_packing\"></a>\n",
    "### Argument Tuple Packing\n",
    "\n",
    "When a parameter name in a Python function definition is preceded by an asterisk (`*`), it indicates **argument tuple packing**. Any corresponding arguments in the function call are packed into a tuple that the function can refer to by the given parameter name. Here’s an example:"
   ]
  },
  {
   "cell_type": "code",
   "execution_count": 7,
   "id": "b10789d4-d4bb-4b22-9270-ef8138b0adb9",
   "metadata": {},
   "outputs": [],
   "source": [
    "# previously we had tuple unpacked "
   ]
  },
  {
   "cell_type": "code",
   "execution_count": 8,
   "id": "62c0c94f-bab6-4f3b-adb1-620c9ba635e2",
   "metadata": {},
   "outputs": [],
   "source": [
    "a,b,c = (2, 3, 4,)"
   ]
  },
  {
   "cell_type": "code",
   "execution_count": 9,
   "id": "97bb1e87-c2bc-4c07-b661-6eb4a5ecaf1a",
   "metadata": {},
   "outputs": [
    {
     "data": {
      "text/plain": [
       "3"
      ]
     },
     "execution_count": 9,
     "metadata": {},
     "output_type": "execute_result"
    }
   ],
   "source": [
    "b"
   ]
  },
  {
   "cell_type": "code",
   "execution_count": 10,
   "id": "954960b9-56da-47d5-812d-3d4047c02a0d",
   "metadata": {},
   "outputs": [],
   "source": [
    "# for a longer tuple:\n",
    "a, *ignore, b, c, d = (2, 3, 4, 5, 6, 7, 8, 9)"
   ]
  },
  {
   "cell_type": "code",
   "execution_count": 11,
   "id": "96f1329f-7a8e-452e-bb03-928a48ef3171",
   "metadata": {},
   "outputs": [
    {
     "data": {
      "text/plain": [
       "(7, 8, 9)"
      ]
     },
     "execution_count": 11,
     "metadata": {},
     "output_type": "execute_result"
    }
   ],
   "source": [
    "b,c,d # result is a tuple of the last variables"
   ]
  },
  {
   "cell_type": "code",
   "execution_count": 12,
   "id": "f6fb5999-500a-4475-911d-0e603e1fd6a6",
   "metadata": {},
   "outputs": [
    {
     "data": {
      "text/plain": [
       "[3, 4, 5, 6]"
      ]
     },
     "execution_count": 12,
     "metadata": {},
     "output_type": "execute_result"
    }
   ],
   "source": [
    "ignore # is a list of the unassigned variables"
   ]
  },
  {
   "cell_type": "markdown",
   "id": "ae299a6f-55aa-44f2-9aa0-b797c679a983",
   "metadata": {},
   "source": [
    "#### def func(*args):"
   ]
  },
  {
   "cell_type": "code",
   "execution_count": 13,
   "id": "0b9ff58e-ee1a-4f02-ad87-f4a3c10b2b07",
   "metadata": {},
   "outputs": [],
   "source": [
    "def my_args(*args):\n",
    "    print (args)"
   ]
  },
  {
   "cell_type": "code",
   "execution_count": 14,
   "id": "536ddd2b-06d1-4583-8a16-17a940448b2e",
   "metadata": {},
   "outputs": [
    {
     "name": "stdout",
     "output_type": "stream",
     "text": [
      "(2, 3, 4)\n"
     ]
    }
   ],
   "source": [
    "my_args(2, 3, 4)"
   ]
  },
  {
   "cell_type": "code",
   "execution_count": 15,
   "id": "43944e31-3f10-456a-bf14-3d605abb62b0",
   "metadata": {},
   "outputs": [],
   "source": [
    "## Get input (not knowing how many) and outputing the vaerage:\n",
    "def avg_args(*args): # هر تعداد وروردی رو مثل سیاه چاله جدب خودش میکند\n",
    "    total = 0 \n",
    "    for num in args:\n",
    "        total += num\n",
    "    return total / len(args)"
   ]
  },
  {
   "cell_type": "code",
   "execution_count": 16,
   "id": "6163c3d7-ce83-4cb9-af64-cd968e4717ab",
   "metadata": {},
   "outputs": [
    {
     "data": {
      "text/plain": [
       "2.0"
      ]
     },
     "execution_count": 16,
     "metadata": {},
     "output_type": "execute_result"
    }
   ],
   "source": [
    "avg_args(2)"
   ]
  },
  {
   "cell_type": "code",
   "execution_count": 17,
   "id": "a8ba27a8-ce04-40f1-b917-a32fc8caad5b",
   "metadata": {},
   "outputs": [
    {
     "data": {
      "text/plain": [
       "4.0"
      ]
     },
     "execution_count": 17,
     "metadata": {},
     "output_type": "execute_result"
    }
   ],
   "source": [
    "avg_args(2,3,4, 5, 6)"
   ]
  },
  {
   "cell_type": "markdown",
   "id": "8cb11b43-1d3e-4a01-8e08-0f0a434a40f4",
   "metadata": {},
   "source": [
    "<a class=\"anchor\" id=\"argument_tuple_unpacking\"></a>\n",
    "### Argument Tuple Unpacking\n",
    "\n",
    "An analogous operation is available on the other side of the equation in a Python function call. When an argument in a function call is preceded by an asterisk (`*`), it indicates that the argument is a tuple that should be **unpacked** and passed to the function as separate values:"
   ]
  },
  {
   "cell_type": "code",
   "execution_count": null,
   "id": "fa7bbdfc-821a-4aa1-afd1-c85283eea3e9",
   "metadata": {},
   "outputs": [],
   "source": []
  },
  {
   "cell_type": "code",
   "execution_count": 18,
   "id": "2aa3d20f-edee-4bb5-abf4-502151639b97",
   "metadata": {},
   "outputs": [],
   "source": [
    "#example of unpacking:\n",
    "x = [1, 2, 3]\n",
    "a, b, c = x # we are unpacking an iterable "
   ]
  },
  {
   "cell_type": "code",
   "execution_count": 19,
   "id": "7c27717f-b4a4-4113-8ddb-384051983937",
   "metadata": {},
   "outputs": [],
   "source": [
    "my_num = [2, 3, 4, 5, 6,]"
   ]
  },
  {
   "cell_type": "code",
   "execution_count": 20,
   "id": "41f7faf2-3eea-4094-ad28-15ba40e8ced9",
   "metadata": {},
   "outputs": [
    {
     "ename": "TypeError",
     "evalue": "unsupported operand type(s) for +=: 'int' and 'list'",
     "output_type": "error",
     "traceback": [
      "\u001b[0;31m---------------------------------------------------------------------------\u001b[0m",
      "\u001b[0;31mTypeError\u001b[0m                                 Traceback (most recent call last)",
      "\u001b[0;32m/tmp/ipykernel_3191/1970819787.py\u001b[0m in \u001b[0;36m<module>\u001b[0;34m\u001b[0m\n\u001b[0;32m----> 1\u001b[0;31m \u001b[0mavg_args\u001b[0m\u001b[0;34m(\u001b[0m\u001b[0mmy_num\u001b[0m\u001b[0;34m)\u001b[0m\u001b[0;34m\u001b[0m\u001b[0;34m\u001b[0m\u001b[0m\n\u001b[0m",
      "\u001b[0;32m/tmp/ipykernel_3191/359001129.py\u001b[0m in \u001b[0;36mavg_args\u001b[0;34m(*args)\u001b[0m\n\u001b[1;32m      3\u001b[0m     \u001b[0mtotal\u001b[0m \u001b[0;34m=\u001b[0m \u001b[0;36m0\u001b[0m\u001b[0;34m\u001b[0m\u001b[0;34m\u001b[0m\u001b[0m\n\u001b[1;32m      4\u001b[0m     \u001b[0;32mfor\u001b[0m \u001b[0mnum\u001b[0m \u001b[0;32min\u001b[0m \u001b[0margs\u001b[0m\u001b[0;34m:\u001b[0m\u001b[0;34m\u001b[0m\u001b[0;34m\u001b[0m\u001b[0m\n\u001b[0;32m----> 5\u001b[0;31m         \u001b[0mtotal\u001b[0m \u001b[0;34m+=\u001b[0m \u001b[0mnum\u001b[0m\u001b[0;34m\u001b[0m\u001b[0;34m\u001b[0m\u001b[0m\n\u001b[0m\u001b[1;32m      6\u001b[0m     \u001b[0;32mreturn\u001b[0m \u001b[0mtotal\u001b[0m \u001b[0;34m/\u001b[0m \u001b[0mlen\u001b[0m\u001b[0;34m(\u001b[0m\u001b[0margs\u001b[0m\u001b[0;34m)\u001b[0m\u001b[0;34m\u001b[0m\u001b[0;34m\u001b[0m\u001b[0m\n",
      "\u001b[0;31mTypeError\u001b[0m: unsupported operand type(s) for +=: 'int' and 'list'"
     ]
    }
   ],
   "source": [
    "avg_args(my_num)"
   ]
  },
  {
   "cell_type": "code",
   "execution_count": 21,
   "id": "e090962e-7b47-4262-8a41-535ce509e4ae",
   "metadata": {},
   "outputs": [
    {
     "data": {
      "text/plain": [
       "4.0"
      ]
     },
     "execution_count": 21,
     "metadata": {},
     "output_type": "execute_result"
    }
   ],
   "source": [
    "avg_args(*my_num) # We need the \" * \" to unpack it as an input to the function"
   ]
  },
  {
   "cell_type": "markdown",
   "id": "1e0c5757-1d4c-45fb-a60b-4ffde5b8472d",
   "metadata": {},
   "source": [
    "#### avg( [2,3,4] ) ==> is converted to ==> avg(2, 3, 4,)\n",
    "\n",
    "#### *x can only be used in functions "
   ]
  },
  {
   "cell_type": "code",
   "execution_count": 5,
   "id": "f7725c6a-699f-4c32-93e4-dd4557a5c7d9",
   "metadata": {},
   "outputs": [],
   "source": [
    "def avg_args2(*args): \n",
    "    print (type(args)) #  tuple سوال مصاحبه. تایپ آرگز چیست؟\n",
    "    total = 0 \n",
    "    for num in args:\n",
    "        total += num\n",
    "    return total / len(args)"
   ]
  },
  {
   "cell_type": "code",
   "execution_count": 23,
   "id": "535f8a8c-8495-4116-9052-fb523e4dbe3e",
   "metadata": {},
   "outputs": [
    {
     "name": "stdout",
     "output_type": "stream",
     "text": [
      "<class 'tuple'>\n"
     ]
    },
    {
     "data": {
      "text/plain": [
       "1.5"
      ]
     },
     "execution_count": 23,
     "metadata": {},
     "output_type": "execute_result"
    }
   ],
   "source": [
    "avg_args2(1,2) # args type is \"Tuple\""
   ]
  },
  {
   "cell_type": "code",
   "execution_count": 24,
   "id": "6c7354fe-1951-48ab-925f-51e3ecefa4e7",
   "metadata": {},
   "outputs": [
    {
     "data": {
      "text/plain": [
       "[2, 3, 4, 5, 6]"
      ]
     },
     "execution_count": 24,
     "metadata": {},
     "output_type": "execute_result"
    }
   ],
   "source": [
    "my_num"
   ]
  },
  {
   "cell_type": "code",
   "execution_count": 25,
   "id": "f9207b1e-1a59-4030-84f4-8f42ee02919d",
   "metadata": {},
   "outputs": [
    {
     "data": {
      "text/plain": [
       "4.0"
      ]
     },
     "execution_count": 25,
     "metadata": {},
     "output_type": "execute_result"
    }
   ],
   "source": [
    "# to unpack the list 3 times:\n",
    "avg_args(*my_num, *my_num, *my_num) # ==> avg_args([2, 3, 4, 5, 6], [2, 3, 4, 5, 6], [2, 3, 4, 5, 6]"
   ]
  },
  {
   "cell_type": "code",
   "execution_count": 26,
   "id": "a254afeb-74fb-4bc2-b900-1089de390d76",
   "metadata": {},
   "outputs": [
    {
     "data": {
      "text/plain": [
       "4.0"
      ]
     },
     "execution_count": 26,
     "metadata": {},
     "output_type": "execute_result"
    }
   ],
   "source": [
    "avg_args(*my_num,)"
   ]
  },
  {
   "cell_type": "code",
   "execution_count": 27,
   "id": "edcf881c-7a20-4ab3-a4b2-854aabb038e0",
   "metadata": {},
   "outputs": [
    {
     "data": {
      "text/plain": [
       "7.142857142857143"
      ]
     },
     "execution_count": 27,
     "metadata": {},
     "output_type": "execute_result"
    }
   ],
   "source": [
    "avg_args(*my_num, 10, 20) # ==> ([2, 3, 4, 5, 6],10 ,20 ==> Avg of all these"
   ]
  },
  {
   "cell_type": "markdown",
   "id": "fecb11f2-f7c4-40cf-8a22-2fc72fd4a2c9",
   "metadata": {},
   "source": [
    "##### These were tuple unpacking. We can have dictionary Unpacking:"
   ]
  },
  {
   "cell_type": "markdown",
   "id": "9f682b69-00d2-485c-a6ee-76bd7b58e280",
   "metadata": {},
   "source": [
    "<a class=\"anchor\" id=\"argument_dictionary_packing\"></a>\n",
    "### Argument Dictionary Packing\n",
    "\n",
    "Python has a similar operator, the double asterisk (`**`), which can be used with Python function parameters and arguments to specify **dictionary packing and unpacking**. Preceding a parameter in a Python function definition by a double asterisk (`**`) indicates that the corresponding arguments, which are expected to be `key=value` pairs, should be packed into a dictionary:"
   ]
  },
  {
   "cell_type": "code",
   "execution_count": 28,
   "id": "a0f251ba-ffa5-497b-adc4-38dc1d2986d2",
   "metadata": {},
   "outputs": [],
   "source": [
    "def print_age(**kwargs):  # ارگومانها رو بصورت دیکشنری دخیره میکند در متعییر کی دابلیو آرگز\n",
    "    print(kwargs) \n",
    "    "
   ]
  },
  {
   "cell_type": "code",
   "execution_count": 29,
   "id": "726eeb1b-2bc6-423e-9b66-0b58be16a20e",
   "metadata": {},
   "outputs": [
    {
     "name": "stdout",
     "output_type": "stream",
     "text": [
      "{'ali': 2, 'reza': 3, 'hasan': 4}\n"
     ]
    }
   ],
   "source": [
    "print_age(ali=2, reza=3, hasan=4) # retunr is a Dictionary"
   ]
  },
  {
   "cell_type": "markdown",
   "id": "0052a4a7-c723-4452-b841-0e905486fbf6",
   "metadata": {},
   "source": [
    "### **kwargs ==> به مصابح یک ساه چاله ای هست که تمام کیورد آرگیومنت های که با ان بدهیم را جذب میکند.\n",
    "\n",
    "#### *args ==>Arguments\n",
    "#### **kwargs ==>Keyword Arguments\n",
    "#### *args and **kwargs could be any thing (**hessam) but as an standard they should be name that"
   ]
  },
  {
   "cell_type": "code",
   "execution_count": 30,
   "id": "d1f4f4fd-9a27-45bb-92fb-8db54f149a2c",
   "metadata": {},
   "outputs": [],
   "source": [
    "age_dict = {\n",
    "    'Ali': 2,\n",
    "    'Reza': 3,\n",
    "    'Hasan':4,\n",
    "    'Niloufar':10,\n",
    "}"
   ]
  },
  {
   "cell_type": "code",
   "execution_count": 31,
   "id": "2da70dd4-c827-4553-8612-ca811391d232",
   "metadata": {},
   "outputs": [],
   "source": [
    "new_age_dict = {\n",
    "    'Hashem':50,\n",
    "    'Mohammad': 30,\n",
    "}"
   ]
  },
  {
   "cell_type": "code",
   "execution_count": 34,
   "id": "32efd1a7-403d-4470-b49e-b276bebad38b",
   "metadata": {},
   "outputs": [
    {
     "ename": "TypeError",
     "evalue": "print_age() takes 0 positional arguments but 4 were given",
     "output_type": "error",
     "traceback": [
      "\u001b[0;31m---------------------------------------------------------------------------\u001b[0m",
      "\u001b[0;31mTypeError\u001b[0m                                 Traceback (most recent call last)",
      "\u001b[0;32m/tmp/ipykernel_3191/1065348808.py\u001b[0m in \u001b[0;36m<module>\u001b[0;34m\u001b[0m\n\u001b[0;32m----> 1\u001b[0;31m \u001b[0mprint_age\u001b[0m\u001b[0;34m(\u001b[0m\u001b[0;34m*\u001b[0m\u001b[0mage_dict\u001b[0m\u001b[0;34m)\u001b[0m \u001b[0;31m# it is a dictionary so we need 2 **\u001b[0m\u001b[0;34m\u001b[0m\u001b[0;34m\u001b[0m\u001b[0m\n\u001b[0m",
      "\u001b[0;31mTypeError\u001b[0m: print_age() takes 0 positional arguments but 4 were given"
     ]
    }
   ],
   "source": [
    "print_age(*age_dict) # it is a dictionary so we need 2 **"
   ]
  },
  {
   "cell_type": "code",
   "execution_count": 35,
   "id": "7afb5194-b5b9-4bf7-a9e1-390060c70ee6",
   "metadata": {},
   "outputs": [
    {
     "name": "stdout",
     "output_type": "stream",
     "text": [
      "Ali             is   2 years old\n",
      "Reza            is   3 years old\n",
      "Hasan           is   4 years old\n",
      "Niloufar        is  10 years old\n"
     ]
    }
   ],
   "source": [
    "print_age(**age_dict) # we unpack the dictionary with **"
   ]
  },
  {
   "cell_type": "code",
   "execution_count": 36,
   "id": "dd5b7be1-5f05-434a-957c-bf15699edd96",
   "metadata": {},
   "outputs": [],
   "source": [
    "def print_age(**kwargs):\n",
    "    for name, age in kwargs.items():\n",
    "        print(f'{name:15} is {age:3} years old') # 15, 3 are spaces after"
   ]
  },
  {
   "cell_type": "code",
   "execution_count": 37,
   "id": "d4367196-ad87-43fd-9cb7-b343508048c3",
   "metadata": {},
   "outputs": [
    {
     "name": "stdout",
     "output_type": "stream",
     "text": [
      "Ali             is   2 years old\n",
      "Reza            is   3 years old\n",
      "Hasan           is   4 years old\n",
      "Niloufar        is  10 years old\n"
     ]
    }
   ],
   "source": [
    "print_age(**age_dict)"
   ]
  },
  {
   "cell_type": "raw",
   "id": "e944a91e-7110-45d2-98f2-a781ded152fe",
   "metadata": {},
   "source": [
    "(**age_dict)"
   ]
  },
  {
   "cell_type": "code",
   "execution_count": 38,
   "id": "3fad4b5f-fdec-4226-9824-b76b1b75559a",
   "metadata": {},
   "outputs": [
    {
     "name": "stdout",
     "output_type": "stream",
     "text": [
      "Hashem          is  50 years old\n",
      "Mohammad        is  30 years old\n"
     ]
    }
   ],
   "source": [
    "print_age(**new_age_dict)"
   ]
  },
  {
   "cell_type": "code",
   "execution_count": 39,
   "id": "4e09ec7c-5e57-46e2-b9fa-f013732245ab",
   "metadata": {},
   "outputs": [
    {
     "name": "stdout",
     "output_type": "stream",
     "text": [
      "Ali             is   2 years old\n",
      "Reza            is   3 years old\n",
      "Hasan           is   4 years old\n",
      "Niloufar        is  10 years old\n",
      "Hashem          is  50 years old\n",
      "Mohammad        is  30 years old\n"
     ]
    }
   ],
   "source": [
    "print_age(**age_dict, **new_age_dict) # unpacking 2 or more different dictionaries // They can't be the same like Tuple (cuz KEYs can't be repeated!!!)"
   ]
  },
  {
   "cell_type": "markdown",
   "id": "a8cd5544-710c-4a66-b239-0da1ff34568a",
   "metadata": {},
   "source": [
    "## 0:27:41 Watch the rest"
   ]
  },
  {
   "cell_type": "code",
   "execution_count": 40,
   "id": "ab983592-f22f-423a-82ed-9ce537f5e4b9",
   "metadata": {},
   "outputs": [],
   "source": [
    "## you can unpack many dictionaries as long as the keys are not the same"
   ]
  },
  {
   "cell_type": "code",
   "execution_count": 41,
   "id": "4df35a22-53aa-4e6d-86d5-3a8356d1ef79",
   "metadata": {},
   "outputs": [],
   "source": [
    "d_1 = {\n",
    "    'Ali': 2,\n",
    "    'Reza': 3,\n",
    "    'Hasan':4,\n",
    "    'Niloufar':10,\n",
    "}"
   ]
  },
  {
   "cell_type": "code",
   "execution_count": 42,
   "id": "050c2d59-fb04-43e9-8c8c-7478ccd1c03c",
   "metadata": {},
   "outputs": [],
   "source": [
    "d_2 = {\n",
    "    'Hashem':50,\n",
    "    'Mohammad': 30,\n",
    "}"
   ]
  },
  {
   "cell_type": "code",
   "execution_count": 46,
   "id": "161d5cb6-a546-4487-a5af-769e09509f6a",
   "metadata": {},
   "outputs": [],
   "source": [
    "#برا تازه کار ها\n",
    "d = {}\n",
    "\n",
    "for key, value in d_1.items():\n",
    "    d[key] = value\n",
    "for key, value in d_2.items():\n",
    "    d[key] = value"
   ]
  },
  {
   "cell_type": "code",
   "execution_count": 48,
   "id": "31878c3f-cd71-40d3-a6d7-b7793c7a6fde",
   "metadata": {},
   "outputs": [
    {
     "name": "stdout",
     "output_type": "stream",
     "text": [
      "Ali             is   2 years old\n",
      "Reza            is   3 years old\n",
      "Hasan           is   4 years old\n",
      "Niloufar        is  10 years old\n",
      "Hashem          is  50 years old\n",
      "Mohammad        is  30 years old\n"
     ]
    }
   ],
   "source": [
    "print_age(**d) # unpacking two dictionaries"
   ]
  },
  {
   "cell_type": "code",
   "execution_count": 51,
   "id": "2c464146-d67e-46d0-817b-69e8aa4c3be6",
   "metadata": {},
   "outputs": [],
   "source": [
    "# to avoid generating this much code we can unpack the 2 dictionaries like this:\n",
    "# this is also a good way to merge dictionaries:\n",
    "new_d = {**d_1, **d_2}"
   ]
  },
  {
   "cell_type": "code",
   "execution_count": 52,
   "id": "c29be474-2b84-47bf-9e69-5761cc7ee4ea",
   "metadata": {},
   "outputs": [
    {
     "data": {
      "text/plain": [
       "{'Ali': 2, 'Reza': 3, 'Hasan': 4, 'Niloufar': 10, 'Hashem': 50, 'Mohammad': 30}"
      ]
     },
     "execution_count": 52,
     "metadata": {},
     "output_type": "execute_result"
    }
   ],
   "source": [
    "new_d"
   ]
  },
  {
   "cell_type": "code",
   "execution_count": 1,
   "id": "d82d9c23-1d32-49dd-af6f-ef7a31ad977a",
   "metadata": {},
   "outputs": [],
   "source": [
    "#other usages:\n"
   ]
  },
  {
   "cell_type": "code",
   "execution_count": 2,
   "id": "d877ebe4-64ed-45bb-84a3-9cd6329e112d",
   "metadata": {},
   "outputs": [],
   "source": [
    "a_num = [2, 3, 4, 5, 6]\n",
    "b_num = [2, 3, 4,]"
   ]
  },
  {
   "cell_type": "code",
   "execution_count": 8,
   "id": "a1fea65c-a5cb-4959-ae5a-6576f2103782",
   "metadata": {},
   "outputs": [
    {
     "name": "stdout",
     "output_type": "stream",
     "text": [
      "<class 'tuple'>\n"
     ]
    },
    {
     "data": {
      "text/plain": [
       "3.625"
      ]
     },
     "execution_count": 8,
     "metadata": {},
     "output_type": "execute_result"
    }
   ],
   "source": [
    "avg_args2(*a_num, *b_num) # this is efficient"
   ]
  },
  {
   "cell_type": "code",
   "execution_count": 9,
   "id": "49901d69-2fb1-4b37-8240-43d7b9c72022",
   "metadata": {},
   "outputs": [],
   "source": [
    "# the other inefficient way:\n",
    "new_list = []\n",
    "for item in a_num:\n",
    "    new_list.append(item)\n",
    "for item in b_num:\n",
    "    new_list.append(item)\n"
   ]
  },
  {
   "cell_type": "markdown",
   "id": "3c1c8f39-be50-40cf-9113-b3c28905346a",
   "metadata": {},
   "source": [
    "### We have learnt the following input for functions:\n",
    "- 1. positional argument\n",
    "- 2. keyword argument\n",
    "- 3. variable length positional argument ==> *args\n",
    "- 4. variable length keyword argument    ==> **kwargs\n",
    "\n"
   ]
  },
  {
   "cell_type": "code",
   "execution_count": 17,
   "id": "8d7d7dd6-104c-44b8-a854-7de6edaed25b",
   "metadata": {},
   "outputs": [],
   "source": [
    "def f(*args, **kwargs):\n",
    "    print(f'args:   {args}')  #positional arguments\n",
    "    print(f'kwargs: {kwargs}') #keyword arguments"
   ]
  },
  {
   "cell_type": "code",
   "execution_count": 18,
   "id": "a7b78f2c-55a2-4b3f-8e1c-09d4ad51915f",
   "metadata": {},
   "outputs": [
    {
     "name": "stdout",
     "output_type": "stream",
     "text": [
      "args:   (2, 3, 4)\n",
      "kwargs: {'a': 5, 'b': 6, 'c': 7}\n"
     ]
    }
   ],
   "source": [
    "f(2, 3, 4, a=5, b=6, c=7)\n",
    "#args become a tuple which has (2, 3, 4)\n",
    "# kwargs becomes a diction"
   ]
  },
  {
   "cell_type": "code",
   "execution_count": 19,
   "id": "271ff224-3917-4a53-9fab-83e1c7e8700f",
   "metadata": {},
   "outputs": [
    {
     "name": "stdout",
     "output_type": "stream",
     "text": [
      "args:   ()\n",
      "kwargs: {'a': 5, 'b': 6, 'c': 7}\n"
     ]
    }
   ],
   "source": [
    "f( a=5, b=6, c=7)\n"
   ]
  },
  {
   "cell_type": "code",
   "execution_count": 20,
   "id": "35faafef-32d9-4121-9124-a5b67f5a6391",
   "metadata": {},
   "outputs": [
    {
     "name": "stdout",
     "output_type": "stream",
     "text": [
      "args:   ()\n",
      "kwargs: {}\n"
     ]
    }
   ],
   "source": [
    "f()"
   ]
  },
  {
   "cell_type": "code",
   "execution_count": 21,
   "id": "9ed1c644-cd93-4ed1-97e9-69207f03b850",
   "metadata": {},
   "outputs": [
    {
     "name": "stdout",
     "output_type": "stream",
     "text": [
      "args:   (2, 3)\n",
      "kwargs: {}\n"
     ]
    }
   ],
   "source": [
    "f(2,3) "
   ]
  },
  {
   "cell_type": "code",
   "execution_count": 23,
   "id": "ad7152b1-9b8b-47ac-a7c2-ba623f3f96ed",
   "metadata": {},
   "outputs": [
    {
     "name": "stdout",
     "output_type": "stream",
     "text": [
      "args:   (2, 3, 4, 5, 6, 7)\n",
      "kwargs: {'a': 5, 'b': 6, 'c': 7}\n"
     ]
    }
   ],
   "source": [
    "f(2, 3, 4, 5, 6, 7,  a=5, b=6, c=7) # اعداد میرن پوزیشنال و کیورد ها میرن کی دابلیو ارگز\n"
   ]
  },
  {
   "cell_type": "code",
   "execution_count": null,
   "id": "d9e1d7ea-78d1-45ca-b19a-cb2b35cc86b0",
   "metadata": {},
   "outputs": [],
   "source": []
  },
  {
   "cell_type": "code",
   "execution_count": 28,
   "id": "e7553e82-593d-42f4-84ac-ff3339def7b2",
   "metadata": {},
   "outputs": [],
   "source": [
    "def f(x, y, *args, **kwargs):\n",
    "    print(x, y) ##1. positional arguments\n",
    "    print(f'args:   {args}')  #3.variable length positional argument\n",
    "    print(f'kwargs: {kwargs}') #4. variable length keyword arguments "
   ]
  },
  {
   "cell_type": "code",
   "execution_count": 30,
   "id": "e23fae72-9c00-4dc0-9b51-85cdf8db60ad",
   "metadata": {},
   "outputs": [
    {
     "name": "stdout",
     "output_type": "stream",
     "text": [
      "2 3\n",
      "args:   (4, 5, 6)\n",
      "kwargs: {'a': 9, 'b': 99, 'c': 999}\n"
     ]
    }
   ],
   "source": [
    "f(2,3,4,5,6, a=9,b=99, c=999) # x=2, y=3, *args=4,5,6, **kwargs= the rest"
   ]
  },
  {
   "cell_type": "code",
   "execution_count": 33,
   "id": "3d38af99-0669-4565-9108-d44e57703640",
   "metadata": {},
   "outputs": [],
   "source": [
    "## Keyword arguments must follow positional arguments. This will be an error:"
   ]
  },
  {
   "cell_type": "code",
   "execution_count": 34,
   "id": "dc46d347-49c1-456f-99a8-bd0684d88fb7",
   "metadata": {},
   "outputs": [
    {
     "ename": "SyntaxError",
     "evalue": "positional argument follows keyword argument (860270247.py, line 1)",
     "output_type": "error",
     "traceback": [
      "\u001b[0;36m  File \u001b[0;32m\"/tmp/ipykernel_1019/860270247.py\"\u001b[0;36m, line \u001b[0;32m1\u001b[0m\n\u001b[0;31m    f(a=2, 2,3)\u001b[0m\n\u001b[0m          ^\u001b[0m\n\u001b[0;31mSyntaxError\u001b[0m\u001b[0;31m:\u001b[0m positional argument follows keyword argument\n"
     ]
    }
   ],
   "source": [
    "f(a=2, 2,3)"
   ]
  },
  {
   "cell_type": "code",
   "execution_count": 36,
   "id": "bfc111c6-06b7-40d9-801a-c34e83bf6f8b",
   "metadata": {},
   "outputs": [],
   "source": [
    "def new_f( *args, x, y, **kwargs):\n",
    "    print(x, y) ##1. positional arguments\n",
    "    print(f'args:   {args}')  #3.variable length positional argument\n",
    "    print(f'kwargs: {kwargs}') #4. variable length keyword arguments "
   ]
  },
  {
   "cell_type": "code",
   "execution_count": 37,
   "id": "5b1f629c-ecc1-4851-bc48-319bed1e3742",
   "metadata": {},
   "outputs": [
    {
     "ename": "TypeError",
     "evalue": "new_f() missing 2 required keyword-only arguments: 'x' and 'y'",
     "output_type": "error",
     "traceback": [
      "\u001b[0;31m---------------------------------------------------------------------------\u001b[0m",
      "\u001b[0;31mTypeError\u001b[0m                                 Traceback (most recent call last)",
      "\u001b[0;32m/tmp/ipykernel_1019/343667992.py\u001b[0m in \u001b[0;36m<module>\u001b[0;34m\u001b[0m\n\u001b[0;32m----> 1\u001b[0;31m \u001b[0mnew_f\u001b[0m\u001b[0;34m(\u001b[0m\u001b[0;36m2\u001b[0m\u001b[0;34m,\u001b[0m\u001b[0;36m3\u001b[0m\u001b[0;34m,\u001b[0m\u001b[0;34m)\u001b[0m\u001b[0;34m\u001b[0m\u001b[0;34m\u001b[0m\u001b[0m\n\u001b[0m",
      "\u001b[0;31mTypeError\u001b[0m: new_f() missing 2 required keyword-only arguments: 'x' and 'y'"
     ]
    }
   ],
   "source": [
    "new_f(2,3,) # this is an error because we should specify \"keyword Only arguments x and y\""
   ]
  },
  {
   "cell_type": "code",
   "execution_count": 38,
   "id": "b22fb77b-de02-4849-b4a4-15c773f21b88",
   "metadata": {},
   "outputs": [
    {
     "name": "stdout",
     "output_type": "stream",
     "text": [
      "4 5\n",
      "args:   (2, 3)\n",
      "kwargs: {'a': 2, 'b': 24}\n"
     ]
    }
   ],
   "source": [
    "## this will work;\n",
    "new_f(2,3, x=4, y=5, a=2, b=24)"
   ]
  },
  {
   "cell_type": "markdown",
   "id": "ce8587e9-1191-4a60-a3da-a073326db862",
   "metadata": {},
   "source": [
    "## ***********"
   ]
  },
  {
   "cell_type": "code",
   "execution_count": 39,
   "id": "adb674b0-614d-4351-bbf2-a5cb536b093a",
   "metadata": {},
   "outputs": [
    {
     "data": {
      "text/plain": [
       "'a,b,c'"
      ]
     },
     "execution_count": 39,
     "metadata": {},
     "output_type": "execute_result"
    }
   ],
   "source": [
    "# join function on iterables:\n",
    "','.join(['a', 'b', 'c']) # list as input"
   ]
  },
  {
   "cell_type": "code",
   "execution_count": 41,
   "id": "d17a8b99-9caf-48fe-9585-ca14921c5020",
   "metadata": {},
   "outputs": [
    {
     "data": {
      "text/plain": [
       "'a_b_c'"
      ]
     },
     "execution_count": 41,
     "metadata": {},
     "output_type": "execute_result"
    }
   ],
   "source": [
    "'_'.join(('a', 'b', 'c')) # tuple as input"
   ]
  },
  {
   "cell_type": "markdown",
   "id": "c17e1cc0-a9a0-450b-87e5-75ec43fc5b93",
   "metadata": {},
   "source": [
    "#### We can write our own join function:\n"
   ]
  },
  {
   "cell_type": "code",
   "execution_count": 43,
   "id": "38a27e03-c128-4a21-8605-904b8d8b338f",
   "metadata": {},
   "outputs": [],
   "source": [
    "l = ['a', 'b', 'c']"
   ]
  },
  {
   "cell_type": "code",
   "execution_count": 44,
   "id": "60ef01fd-841c-4a5e-bffe-df0bc736dee5",
   "metadata": {},
   "outputs": [],
   "source": [
    "new_str = ''\n",
    "for item in l:\n",
    "    new_str += item\n",
    "    new_str +=', '"
   ]
  },
  {
   "cell_type": "code",
   "execution_count": 45,
   "id": "4b5bf5f4-fa13-426e-90f2-ab6215ab6955",
   "metadata": {},
   "outputs": [
    {
     "data": {
      "text/plain": [
       "'a, b, c, '"
      ]
     },
     "execution_count": 45,
     "metadata": {},
     "output_type": "execute_result"
    }
   ],
   "source": [
    "new_str"
   ]
  },
  {
   "cell_type": "code",
   "execution_count": null,
   "id": "6ee51489-7a19-4f15-bc36-a38dc573ce01",
   "metadata": {},
   "outputs": [],
   "source": [
    "# to avoid the final ','"
   ]
  },
  {
   "cell_type": "code",
   "execution_count": 48,
   "id": "8434f166-54bd-4e01-8ed6-6b09d48f2bd2",
   "metadata": {},
   "outputs": [],
   "source": [
    "## This function we defined works just like \".join\" function in python  \n",
    "new_str = ''\n",
    "for index, item in enumerate (l):\n",
    "    new_str += item\n",
    "    #if index != len(l) - 1:\n",
    "    if index < len(l) - 1:\n",
    "        new_str +=', '"
   ]
  },
  {
   "cell_type": "code",
   "execution_count": 49,
   "id": "a69eb24f-a01f-4d36-b9cb-21f6a58ff577",
   "metadata": {},
   "outputs": [
    {
     "data": {
      "text/plain": [
       "'a, b, c'"
      ]
     },
     "execution_count": 49,
     "metadata": {},
     "output_type": "execute_result"
    }
   ],
   "source": [
    "new_str"
   ]
  },
  {
   "cell_type": "code",
   "execution_count": 50,
   "id": "162bf515-c95d-4f76-8c7f-ac01e86948a2",
   "metadata": {},
   "outputs": [],
   "source": [
    "## now get back to the join:\n"
   ]
  },
  {
   "cell_type": "code",
   "execution_count": 52,
   "id": "81bed207-bc28-40ae-8b67-b16a55b825e7",
   "metadata": {},
   "outputs": [],
   "source": [
    "def concat(*args):\n",
    "    return '.'.join(args)"
   ]
  },
  {
   "cell_type": "code",
   "execution_count": 53,
   "id": "36ee3151-cffc-433e-9930-ea2c6a9fe744",
   "metadata": {},
   "outputs": [
    {
     "data": {
      "text/plain": [
       "'a.b.c'"
      ]
     },
     "execution_count": 53,
     "metadata": {},
     "output_type": "execute_result"
    }
   ],
   "source": [
    "concat('a', 'b', 'c')"
   ]
  },
  {
   "cell_type": "code",
   "execution_count": 54,
   "id": "f0d2a4a6-224a-4f1a-9b19-4f2c34f1176b",
   "metadata": {},
   "outputs": [],
   "source": [
    "###\n",
    "#Keyword Only argument helps the user and others know what to provide for the function:"
   ]
  },
  {
   "cell_type": "code",
   "execution_count": 56,
   "id": "f83f7cc9-5d5a-4e2c-8fbb-711f087c4613",
   "metadata": {},
   "outputs": [],
   "source": [
    "def concat(*args, prefix='-->'): ## default value for the positional argument is '-->'\n",
    "    return prefix + ' ' + '.'.join(args)"
   ]
  },
  {
   "cell_type": "code",
   "execution_count": 58,
   "id": "43977d8f-1410-4c18-afac-e401f165db0e",
   "metadata": {},
   "outputs": [
    {
     "data": {
      "text/plain": [
       "'--> a.b.c.d'"
      ]
     },
     "execution_count": 58,
     "metadata": {},
     "output_type": "execute_result"
    }
   ],
   "source": [
    "concat('a', 'b', 'c', 'd')"
   ]
  },
  {
   "cell_type": "code",
   "execution_count": 60,
   "id": "995a7796-83a9-49d8-873a-a993ba47b3f1",
   "metadata": {},
   "outputs": [
    {
     "data": {
      "text/plain": [
       "'?? a.b.c'"
      ]
     },
     "execution_count": 60,
     "metadata": {},
     "output_type": "execute_result"
    }
   ],
   "source": [
    "concat('a', 'b', 'c', prefix = '??') # we change the default value of the positional argument"
   ]
  },
  {
   "cell_type": "code",
   "execution_count": 61,
   "id": "ac612b12-b999-4735-b4c9-b7491ad0c72c",
   "metadata": {},
   "outputs": [],
   "source": [
    "def operation(x, y, op='+'):  #defualt is add\n",
    "    if op == '+':\n",
    "        return x + y\n",
    "    elif op == '-':\n",
    "        return x - y\n",
    "    elif op == '*':\n",
    "        return x * y\n",
    "    elif op == '/':\n",
    "        return x / y"
   ]
  },
  {
   "cell_type": "code",
   "execution_count": 62,
   "id": "cc22084f-c0aa-4222-9d33-26c1c620764e",
   "metadata": {},
   "outputs": [
    {
     "data": {
      "text/plain": [
       "7"
      ]
     },
     "execution_count": 62,
     "metadata": {},
     "output_type": "execute_result"
    }
   ],
   "source": [
    "operation(3,4 ) # op is not defined so the default op will be performed which is addition"
   ]
  },
  {
   "cell_type": "code",
   "execution_count": 64,
   "id": "24e138ff-027f-4b83-94f2-f3989f1028af",
   "metadata": {},
   "outputs": [
    {
     "data": {
      "text/plain": [
       "12"
      ]
     },
     "execution_count": 64,
     "metadata": {},
     "output_type": "execute_result"
    }
   ],
   "source": [
    "operation(3,4, '*') # we provided the positional argument and it perfomes multiplication"
   ]
  },
  {
   "cell_type": "code",
   "execution_count": 65,
   "id": "a110b932-9478-437b-85ba-4da432c5f68b",
   "metadata": {},
   "outputs": [],
   "source": [
    "# چگونه کاربر را مجبور به استفاده از پوزیشنال ارگیومنت کنیم؟"
   ]
  },
  {
   "cell_type": "code",
   "execution_count": 68,
   "id": "89e5fca0-82c6-4981-8def-822cb12d33d2",
   "metadata": {},
   "outputs": [],
   "source": [
    "def oper(x, y, *, op='+'):  # \"*\" =>مثل نقطه استاپی بر تمامی پوزیشنال ارگیومنت ها هست\n",
    "    if op == '+':\n",
    "        return x + y\n",
    "    elif op == '-':\n",
    "        return x - y\n",
    "    elif op == '*':\n",
    "        return x * y\n",
    "    elif op == '/':\n",
    "        return x / y"
   ]
  },
  {
   "cell_type": "code",
   "execution_count": null,
   "id": "68ff2c32-92c8-4bb8-b339-623db66471b3",
   "metadata": {},
   "outputs": [],
   "source": [
    "#types of errors we will get if we do not follow the function signiture we defined:\n",
    "## we have to define the positional argument==>eg: op = \"-\" because of \"*\""
   ]
  },
  {
   "cell_type": "code",
   "execution_count": 69,
   "id": "84ef1f0f-9c6e-44f9-9ac7-d5abfe6c7d64",
   "metadata": {},
   "outputs": [
    {
     "ename": "TypeError",
     "evalue": "oper() takes 2 positional arguments but 3 positional arguments (and 1 keyword-only argument) were given",
     "output_type": "error",
     "traceback": [
      "\u001b[0;31m---------------------------------------------------------------------------\u001b[0m",
      "\u001b[0;31mTypeError\u001b[0m                                 Traceback (most recent call last)",
      "\u001b[0;32m/tmp/ipykernel_1019/717444147.py\u001b[0m in \u001b[0;36m<module>\u001b[0;34m\u001b[0m\n\u001b[0;32m----> 1\u001b[0;31m \u001b[0moper\u001b[0m\u001b[0;34m(\u001b[0m\u001b[0;36m2\u001b[0m\u001b[0;34m,\u001b[0m\u001b[0;36m3\u001b[0m\u001b[0;34m,\u001b[0m\u001b[0;36m4\u001b[0m\u001b[0;34m,\u001b[0m \u001b[0mop\u001b[0m\u001b[0;34m=\u001b[0m\u001b[0;34m'/'\u001b[0m\u001b[0;34m)\u001b[0m\u001b[0;34m\u001b[0m\u001b[0;34m\u001b[0m\u001b[0m\n\u001b[0m",
      "\u001b[0;31mTypeError\u001b[0m: oper() takes 2 positional arguments but 3 positional arguments (and 1 keyword-only argument) were given"
     ]
    }
   ],
   "source": [
    "oper(2,3,4, op='/')"
   ]
  },
  {
   "cell_type": "code",
   "execution_count": 70,
   "id": "7273d946-71ab-4063-8271-75d7d145b77b",
   "metadata": {},
   "outputs": [
    {
     "ename": "TypeError",
     "evalue": "oper() takes 2 positional arguments but 3 were given",
     "output_type": "error",
     "traceback": [
      "\u001b[0;31m---------------------------------------------------------------------------\u001b[0m",
      "\u001b[0;31mTypeError\u001b[0m                                 Traceback (most recent call last)",
      "\u001b[0;32m/tmp/ipykernel_1019/2454558902.py\u001b[0m in \u001b[0;36m<module>\u001b[0;34m\u001b[0m\n\u001b[0;32m----> 1\u001b[0;31m \u001b[0moper\u001b[0m\u001b[0;34m(\u001b[0m\u001b[0;36m3\u001b[0m\u001b[0;34m,\u001b[0m \u001b[0;36m4\u001b[0m\u001b[0;34m,\u001b[0m \u001b[0;34m'/'\u001b[0m\u001b[0;34m)\u001b[0m\u001b[0;34m\u001b[0m\u001b[0;34m\u001b[0m\u001b[0m\n\u001b[0m",
      "\u001b[0;31mTypeError\u001b[0m: oper() takes 2 positional arguments but 3 were given"
     ]
    }
   ],
   "source": [
    "oper(3, 4, '/')"
   ]
  },
  {
   "cell_type": "code",
   "execution_count": 71,
   "id": "f77526a8-0994-459a-86de-4c7e795ed441",
   "metadata": {},
   "outputs": [
    {
     "data": {
      "text/plain": [
       "0.75"
      ]
     },
     "execution_count": 71,
     "metadata": {},
     "output_type": "execute_result"
    }
   ],
   "source": [
    "oper(3, 4, op='/')  ##op= is the keyword only argument"
   ]
  },
  {
   "cell_type": "markdown",
   "id": "995939a1-ac75-4c3f-86cd-59b980407485",
   "metadata": {},
   "source": [
    "The **bare variable argument parameter** `*` indicates that there aren’t any more positional parameters. This behavior generates appropriate error messages if extra ones are specified. It allows keyword-only parameters to follow."
   ]
  },
  {
   "cell_type": "markdown",
   "id": "29ce72bb-8712-4b02-992c-f85a231e62bb",
   "metadata": {},
   "source": [
    "<a class=\"anchor\" id=\"positional-only_arguments\"></a>\n",
    "## Positional-Only Arguments\n",
    "\n",
    "As of Python 3.8, function parameters can also be declared **positional-only**, meaning the corresponding arguments must be supplied positionally and can’t be specified by keyword.\n",
    "\n",
    "To designate some parameters as positional-only, you specify a bare slash (`/`) in the parameter list of a function definition. Any parameters to the left of the slash (`/`) must be specified positionally. For example, in the following function definition, `x` and `y` are positional-only parameters, but `z` may be specified by keyword:"
   ]
  },
  {
   "cell_type": "code",
   "execution_count": 78,
   "id": "a518bfa6-a007-4468-bb3c-7d4f0038c5e3",
   "metadata": {},
   "outputs": [
    {
     "data": {
      "text/plain": [
       "0.75"
      ]
     },
     "execution_count": 78,
     "metadata": {},
     "output_type": "execute_result"
    }
   ],
   "source": [
    "oper(3, 4, op='/')  ##op= is the keyword only argument"
   ]
  },
  {
   "cell_type": "code",
   "execution_count": 81,
   "id": "ec2fa1ec-3507-4ee2-94f4-014b6584cea8",
   "metadata": {},
   "outputs": [
    {
     "data": {
      "text/plain": [
       "0.75"
      ]
     },
     "execution_count": 81,
     "metadata": {},
     "output_type": "execute_result"
    }
   ],
   "source": [
    "oper(x=3, y=4, op='/')"
   ]
  },
  {
   "cell_type": "code",
   "execution_count": 73,
   "id": "bc0f1cd0-f757-4a2c-b9d6-968800ff24fa",
   "metadata": {},
   "outputs": [
    {
     "data": {
      "text/plain": [
       "3"
      ]
     },
     "execution_count": 73,
     "metadata": {},
     "output_type": "execute_result"
    }
   ],
   "source": [
    "len([1,2,3])"
   ]
  },
  {
   "cell_type": "code",
   "execution_count": 74,
   "id": "3d9f99a1-d209-462a-9207-bed49568db5d",
   "metadata": {},
   "outputs": [
    {
     "ename": "TypeError",
     "evalue": "len() takes no keyword arguments",
     "output_type": "error",
     "traceback": [
      "\u001b[0;31m---------------------------------------------------------------------------\u001b[0m",
      "\u001b[0;31mTypeError\u001b[0m                                 Traceback (most recent call last)",
      "\u001b[0;32m/tmp/ipykernel_1019/2125003307.py\u001b[0m in \u001b[0;36m<module>\u001b[0;34m\u001b[0m\n\u001b[0;32m----> 1\u001b[0;31m \u001b[0mlen\u001b[0m\u001b[0;34m(\u001b[0m\u001b[0mobj\u001b[0m\u001b[0;34m=\u001b[0m\u001b[0;34m[\u001b[0m\u001b[0;36m1\u001b[0m\u001b[0;34m,\u001b[0m\u001b[0;36m2\u001b[0m\u001b[0;34m,\u001b[0m\u001b[0;36m3\u001b[0m\u001b[0;34m]\u001b[0m\u001b[0;34m)\u001b[0m\u001b[0;34m\u001b[0m\u001b[0;34m\u001b[0m\u001b[0m\n\u001b[0m",
      "\u001b[0;31mTypeError\u001b[0m: len() takes no keyword arguments"
     ]
    }
   ],
   "source": [
    "len(obj=[1,2,3]) # this is wrong!!! because it takes no keyword Argument ==> obj=..."
   ]
  },
  {
   "cell_type": "markdown",
   "id": "4a8b5a8e-5793-49e8-9ca5-d02f853dbb94",
   "metadata": {},
   "source": [
    "# Shift+tab at first pranthesis ===> extra explanations "
   ]
  },
  {
   "cell_type": "code",
   "execution_count": null,
   "id": "4b839ca8-fe42-4085-9183-7b2a88cc73f1",
   "metadata": {},
   "outputs": [],
   "source": [
    "len("
   ]
  },
  {
   "cell_type": "code",
   "execution_count": 82,
   "id": "e3a3e3a2-dc51-4c7b-be1c-839c4d4f097b",
   "metadata": {},
   "outputs": [
    {
     "ename": "SyntaxError",
     "evalue": "unexpected EOF while parsing (4294497494.py, line 1)",
     "output_type": "error",
     "traceback": [
      "\u001b[0;36m  File \u001b[0;32m\"/tmp/ipykernel_1019/4294497494.py\"\u001b[0;36m, line \u001b[0;32m1\u001b[0m\n\u001b[0;31m    oper(\u001b[0m\n\u001b[0m         ^\u001b[0m\n\u001b[0;31mSyntaxError\u001b[0m\u001b[0;31m:\u001b[0m unexpected EOF while parsing\n"
     ]
    }
   ],
   "source": [
    "oper("
   ]
  },
  {
   "cell_type": "markdown",
   "id": "3acb6fe4-8690-4947-b5ed-c60831e3d8c6",
   "metadata": {},
   "source": [
    "#### seaborn has * as its aregument==> make it easy to be able to call this function with keyword arguments"
   ]
  },
  {
   "cell_type": "markdown",
   "id": "b6d292f5-93e4-4550-82dd-19ede3256e7c",
   "metadata": {},
   "source": [
    "seaborn.scatterplot\n",
    "seaborn.scatterplot(data=None, *, x=None, y=None, hue=None, size=None, style=None, palette=None, hue_order=None, hue_norm=None, sizes=None, size_order=None, size_norm=None, markers=True, style_order=None, legend='auto', ax=None, **kwargs)"
   ]
  },
  {
   "cell_type": "markdown",
   "id": "74c99335-ebc6-4758-827c-0ed58bb88606",
   "metadata": {},
   "source": [
    "**Python – Star or Asterisk operator ( * ):**\n",
    "\n",
    "https://www.geeksforgeeks.org/python-star-or-asterisk-operator/#:~:text=It%20is%20used%20to%20pass,and%20variable%2Dlength%20argument%20list."
   ]
  },
  {
   "cell_type": "markdown",
   "id": "db6c4d8c-a97d-45a2-9287-aa6ff16f9781",
   "metadata": {},
   "source": [
    "**for example scatterplot function can be called with keyword arguments.eg.: sns.scatterplot(date= df, x= .., y= ...) --> not positional argument there**\n",
    "```python\n",
    "sns.scatterplot(data = df, x = \"Economy (GDP per Capita)\", y = \"Happiness Score\")\n",
    "```"
   ]
  },
  {
   "cell_type": "markdown",
   "id": "7befedeb-43f9-4d95-8e3f-1f0f1f457fa6",
   "metadata": {},
   "source": []
  },
  {
   "cell_type": "markdown",
   "id": "257fd894-6e71-43f3-8f40-6d50caeb9bda",
   "metadata": {},
   "source": [
    "<a class=\"anchor\" id=\"docstrings\"></a>\n",
    "## Docstrings\n",
    "\n",
    "When the **first statement (string)** in the body of a Python function is a string literal, it’s known as the function’s **docstring**. A docstring is used to supply documentation for a function. It can contain the function’s purpose, what arguments it takes, information about return values, or any other information you think would be useful."
   ]
  },
  {
   "cell_type": "code",
   "execution_count": 85,
   "id": "01e1cada-d344-4a47-8b25-6f7bc777a13c",
   "metadata": {},
   "outputs": [],
   "source": [
    "def add(a,b):\n",
    "    \"this functions adds two input\"\n",
    "    return a+b"
   ]
  },
  {
   "cell_type": "code",
   "execution_count": 87,
   "id": "d9c5d861-fbf9-4022-9b32-cfb1ff45d576",
   "metadata": {},
   "outputs": [
    {
     "data": {
      "text/plain": [
       "'this functions adds two input'"
      ]
     },
     "execution_count": 87,
     "metadata": {},
     "output_type": "execute_result"
    }
   ],
   "source": [
    "add.__doc__"
   ]
  },
  {
   "cell_type": "code",
   "execution_count": null,
   "id": "2535399c-30b5-481d-a47f-3499d9f02790",
   "metadata": {},
   "outputs": [],
   "source": [
    "# docstring could be multi line\n",
    "def multiply(a,b):\n",
    "    \"this functions multiplies two input\"\n",
    "    return a*b"
   ]
  },
  {
   "cell_type": "code",
   "execution_count": null,
   "id": "28983e4d-ec9a-4e07-8d98-5fc61371e6f0",
   "metadata": {},
   "outputs": [],
   "source": []
  }
 ],
 "metadata": {
  "kernelspec": {
   "display_name": "Python 3 (ipykernel)",
   "language": "python",
   "name": "python3"
  },
  "language_info": {
   "codemirror_mode": {
    "name": "ipython",
    "version": 3
   },
   "file_extension": ".py",
   "mimetype": "text/x-python",
   "name": "python",
   "nbconvert_exporter": "python",
   "pygments_lexer": "ipython3",
   "version": "3.7.10"
  }
 },
 "nbformat": 4,
 "nbformat_minor": 5
}
