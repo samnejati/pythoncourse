{
 "cells": [
  {
   "cell_type": "markdown",
   "id": "3f4e2367-fd94-441c-aa92-f317281cde52",
   "metadata": {},
   "source": [
    "### 2021_practice_oop2_inheritance"
   ]
  },
  {
   "cell_type": "code",
   "execution_count": 15,
   "id": "20726789-d829-4e83-a620-e377d1e9421c",
   "metadata": {},
   "outputs": [],
   "source": [
    "class Shape():\n",
    "    def __init__(self, color='Black'):\n",
    "        self.color = color\n",
    "        \n",
    "    # def __str__(self):\n",
    "    #     return f\" Shape in {self.color}\"\n",
    "    \n",
    "    def __repr__(self):\n",
    "        return f\"Shape({self.color})\""
   ]
  },
  {
   "cell_type": "code",
   "execution_count": 16,
   "id": "04d62b37-51cf-4602-8673-7fcda5196b77",
   "metadata": {},
   "outputs": [],
   "source": [
    "# creaing an object names 'sh' from class \"Shape()\"\n",
    "sh = Shape()"
   ]
  },
  {
   "cell_type": "code",
   "execution_count": 17,
   "id": "51cee384-7591-490b-8277-7fed8e841cb3",
   "metadata": {},
   "outputs": [
    {
     "data": {
      "text/plain": [
       "'Shape(Black)'"
      ]
     },
     "execution_count": 17,
     "metadata": {},
     "output_type": "execute_result"
    }
   ],
   "source": [
    "str(sh)"
   ]
  },
  {
   "cell_type": "code",
   "execution_count": 5,
   "id": "3cf40729-3863-44c5-9558-1cdd029a63b6",
   "metadata": {},
   "outputs": [],
   "source": [
    "## Mostly if reper is modified, then str is checked, and then if nothing is in str, then reper is returned"
   ]
  },
  {
   "cell_type": "code",
   "execution_count": 18,
   "id": "abaec0d0-f196-48ca-ab09-49ed55c86e7a",
   "metadata": {},
   "outputs": [],
   "source": [
    "sh1 = Shape('Red')"
   ]
  },
  {
   "cell_type": "code",
   "execution_count": 20,
   "id": "e09ef6fc-9391-427c-8b3e-e361a9e8c750",
   "metadata": {},
   "outputs": [
    {
     "data": {
      "text/plain": [
       "'Shape(Red)'"
      ]
     },
     "execution_count": 20,
     "metadata": {},
     "output_type": "execute_result"
    }
   ],
   "source": [
    "str(sh1)"
   ]
  },
  {
   "cell_type": "code",
   "execution_count": null,
   "id": "a6e08627-7ceb-4e45-b2ae-2200534e6e90",
   "metadata": {},
   "outputs": [],
   "source": []
  },
  {
   "cell_type": "code",
   "execution_count": 27,
   "id": "6ce2b242-5e0f-4224-b476-8f7884a4bdae",
   "metadata": {},
   "outputs": [],
   "source": [
    "class Rectangle():\n",
    "    def __init__(self,  width, height):\n",
    "        self.width = width\n",
    "        self.height = height\n",
    "    \n",
    "    def __str__(self):\n",
    "        return f\"Rectangle ({self.width} x {self.height})\"\n",
    "    \n",
    "    def __repr__(self):\n",
    "        return f\"Rectangle ({self.width}, {self.height})\"\n",
    "         "
   ]
  },
  {
   "cell_type": "code",
   "execution_count": 28,
   "id": "033221d9-fe0c-4b17-bea8-4c71af9de503",
   "metadata": {},
   "outputs": [],
   "source": [
    "r = Rectangle(3, 4)"
   ]
  },
  {
   "cell_type": "code",
   "execution_count": 29,
   "id": "07779d21-f1b2-41ec-963c-83b5ca76287d",
   "metadata": {},
   "outputs": [
    {
     "name": "stdout",
     "output_type": "stream",
     "text": [
      "Rectangle (3 x 4)\n"
     ]
    }
   ],
   "source": [
    "print(r) ## printing str"
   ]
  },
  {
   "cell_type": "code",
   "execution_count": 31,
   "id": "fffee815-a200-4245-976c-933d699144c8",
   "metadata": {},
   "outputs": [
    {
     "data": {
      "text/plain": [
       "Rectangle (3, 4)"
      ]
     },
     "execution_count": 31,
     "metadata": {},
     "output_type": "execute_result"
    }
   ],
   "source": [
    "r   ## printing repr"
   ]
  },
  {
   "cell_type": "code",
   "execution_count": 33,
   "id": "48977569-4b11-4cdb-9722-9042c96438a3",
   "metadata": {},
   "outputs": [],
   "source": [
    "# builting function for inheritance\n",
    "#super()"
   ]
  },
  {
   "cell_type": "code",
   "execution_count": 34,
   "id": "8aa8271d-5bb3-429e-9a16-4ee733189f7b",
   "metadata": {},
   "outputs": [],
   "source": [
    "#Super explanation: 30:05 (OOP-Inheritance Video 2021)"
   ]
  },
  {
   "cell_type": "code",
   "execution_count": null,
   "id": "9c33d45f-f319-4c84-bfda-2a66799c7a4d",
   "metadata": {},
   "outputs": [],
   "source": []
  },
  {
   "cell_type": "code",
   "execution_count": 1,
   "id": "fb83c7ba-5ebd-41db-97b1-c5d24c913c32",
   "metadata": {},
   "outputs": [],
   "source": [
    "class Shape:\n",
    "    shape_id = 0\n",
    "    \n",
    "    def __init__(self, color='Black'):\n",
    "        print(\"Shape constructor called!\")\n",
    "        self.color = color\n",
    "        \n",
    "    def __str__(self, ):\n",
    "        return f\"Shape is {self.color}\""
   ]
  },
  {
   "cell_type": "code",
   "execution_count": 2,
   "id": "5ad120e2-5209-4b9e-899e-a987a94bb46b",
   "metadata": {},
   "outputs": [],
   "source": [
    "class Rectangle(Shape):\n",
    "    def __init__(self, width, height, color='Black'):\n",
    "        # You can also type `super(Rectangle, self)`\n",
    "        super().__init__(color)\n",
    "\n",
    "        print(\"Rectangle constructor called!\")\n",
    "        self.width = width\n",
    "        self.height = height\n",
    "    \n",
    "    # Extended\n",
    "    def area(self,):\n",
    "        return self.width * self.height\n",
    "    \n",
    "    def perimeter(self,):\n",
    "        return 2 * self.width + 2 * self.height \n",
    "    \n",
    "    \n",
    "    # Override\n",
    "    def __str__(self,):\n",
    "        return f\"Rectangle is {self.color}\""
   ]
  },
  {
   "cell_type": "code",
   "execution_count": 4,
   "id": "99d17ba7-f9cf-4bc6-9686-9acd25456e76",
   "metadata": {},
   "outputs": [],
   "source": [
    " issubclass(Square, Shape)"
   ]
  },
  {
   "cell_type": "code",
   "execution_count": 6,
   "id": "251d208a-f8d6-4476-9f4a-bbedaa96c0ba",
   "metadata": {},
   "outputs": [
    {
     "name": "stdout",
     "output_type": "stream",
     "text": [
      "Shape constructor called!\n",
      "Rectangle constructor called!\n"
     ]
    }
   ],
   "source": [
    "r =Rectangle(2, 4)"
   ]
  },
  {
   "cell_type": "code",
   "execution_count": 7,
   "id": "a3157ec3-1121-47ca-a5d6-e03034239063",
   "metadata": {},
   "outputs": [
    {
     "data": {
      "text/plain": [
       "True"
      ]
     },
     "execution_count": 7,
     "metadata": {},
     "output_type": "execute_result"
    }
   ],
   "source": [
    "isinstance(r, Shape)"
   ]
  },
  {
   "cell_type": "code",
   "execution_count": 8,
   "id": "9c07f015-a5d4-48c0-a59d-d9ff8995ab5e",
   "metadata": {},
   "outputs": [
    {
     "data": {
      "text/plain": [
       "True"
      ]
     },
     "execution_count": 8,
     "metadata": {},
     "output_type": "execute_result"
    }
   ],
   "source": [
    "isinstance(r, Rectangle)"
   ]
  },
  {
   "cell_type": "code",
   "execution_count": 9,
   "id": "12682d85-ec94-488e-8060-2edcb1e83bc9",
   "metadata": {},
   "outputs": [
    {
     "data": {
      "text/plain": [
       "True"
      ]
     },
     "execution_count": 9,
     "metadata": {},
     "output_type": "execute_result"
    }
   ],
   "source": [
    "#all classes inherite from OBJECT class\n",
    "issubclass(Rectangle, object)"
   ]
  },
  {
   "cell_type": "code",
   "execution_count": 10,
   "id": "b10bdc68-7038-4a0b-a42c-ff07ea2bd8b4",
   "metadata": {},
   "outputs": [
    {
     "data": {
      "text/plain": [
       "True"
      ]
     },
     "execution_count": 10,
     "metadata": {},
     "output_type": "execute_result"
    }
   ],
   "source": [
    "isinstance(Rectangle, object)"
   ]
  },
  {
   "cell_type": "code",
   "execution_count": 12,
   "id": "97bb5cd7-c65c-49e8-a6a3-2809403f4b8b",
   "metadata": {},
   "outputs": [
    {
     "name": "stdout",
     "output_type": "stream",
     "text": [
      "Shape constructor called!\n",
      "Rectangle constructor called!\n"
     ]
    }
   ],
   "source": [
    "obj = Rectangle(2,3)"
   ]
  },
  {
   "cell_type": "code",
   "execution_count": 13,
   "id": "d71c9938-089e-438f-b405-e0e93446bcc5",
   "metadata": {},
   "outputs": [
    {
     "data": {
      "text/plain": [
       "['__class__',\n",
       " '__delattr__',\n",
       " '__dict__',\n",
       " '__dir__',\n",
       " '__doc__',\n",
       " '__eq__',\n",
       " '__format__',\n",
       " '__ge__',\n",
       " '__getattribute__',\n",
       " '__gt__',\n",
       " '__hash__',\n",
       " '__init__',\n",
       " '__init_subclass__',\n",
       " '__le__',\n",
       " '__lt__',\n",
       " '__module__',\n",
       " '__ne__',\n",
       " '__new__',\n",
       " '__reduce__',\n",
       " '__reduce_ex__',\n",
       " '__repr__',\n",
       " '__setattr__',\n",
       " '__sizeof__',\n",
       " '__str__',\n",
       " '__subclasshook__',\n",
       " '__weakref__',\n",
       " 'area',\n",
       " 'color',\n",
       " 'height',\n",
       " 'perimeter',\n",
       " 'shape_id',\n",
       " 'width']"
      ]
     },
     "execution_count": 13,
     "metadata": {},
     "output_type": "execute_result"
    }
   ],
   "source": [
    "dir(obj)"
   ]
  },
  {
   "cell_type": "code",
   "execution_count": 14,
   "id": "2d18eba8-1915-4012-8348-d3cfa1f0bb56",
   "metadata": {},
   "outputs": [],
   "source": [
    "# most errors inherite from EXception"
   ]
  },
  {
   "cell_type": "code",
   "execution_count": 15,
   "id": "609036eb-2a08-4038-8b6c-3b7160137903",
   "metadata": {},
   "outputs": [
    {
     "data": {
      "text/plain": [
       "['ArithmeticError',\n",
       " 'AssertionError',\n",
       " 'AttributeError',\n",
       " 'BaseException',\n",
       " 'BlockingIOError',\n",
       " 'BrokenPipeError',\n",
       " 'BufferError',\n",
       " 'BytesWarning',\n",
       " 'ChildProcessError',\n",
       " 'ConnectionAbortedError',\n",
       " 'ConnectionError',\n",
       " 'ConnectionRefusedError',\n",
       " 'ConnectionResetError',\n",
       " 'DeprecationWarning',\n",
       " 'EOFError',\n",
       " 'Ellipsis',\n",
       " 'EnvironmentError',\n",
       " 'Exception',\n",
       " 'False',\n",
       " 'FileExistsError',\n",
       " 'FileNotFoundError',\n",
       " 'FloatingPointError',\n",
       " 'FutureWarning',\n",
       " 'GeneratorExit',\n",
       " 'IOError',\n",
       " 'ImportError',\n",
       " 'ImportWarning',\n",
       " 'IndentationError',\n",
       " 'IndexError',\n",
       " 'InterruptedError',\n",
       " 'IsADirectoryError',\n",
       " 'KeyError',\n",
       " 'KeyboardInterrupt',\n",
       " 'LookupError',\n",
       " 'MemoryError',\n",
       " 'ModuleNotFoundError',\n",
       " 'NameError',\n",
       " 'None',\n",
       " 'NotADirectoryError',\n",
       " 'NotImplemented',\n",
       " 'NotImplementedError',\n",
       " 'OSError',\n",
       " 'OverflowError',\n",
       " 'PendingDeprecationWarning',\n",
       " 'PermissionError',\n",
       " 'ProcessLookupError',\n",
       " 'RecursionError',\n",
       " 'ReferenceError',\n",
       " 'ResourceWarning',\n",
       " 'RuntimeError',\n",
       " 'RuntimeWarning',\n",
       " 'StopAsyncIteration',\n",
       " 'StopIteration',\n",
       " 'SyntaxError',\n",
       " 'SyntaxWarning',\n",
       " 'SystemError',\n",
       " 'SystemExit',\n",
       " 'TabError',\n",
       " 'TimeoutError',\n",
       " 'True',\n",
       " 'TypeError',\n",
       " 'UnboundLocalError',\n",
       " 'UnicodeDecodeError',\n",
       " 'UnicodeEncodeError',\n",
       " 'UnicodeError',\n",
       " 'UnicodeTranslateError',\n",
       " 'UnicodeWarning',\n",
       " 'UserWarning',\n",
       " 'ValueError',\n",
       " 'Warning',\n",
       " 'ZeroDivisionError',\n",
       " '__IPYTHON__',\n",
       " '__build_class__',\n",
       " '__debug__',\n",
       " '__doc__',\n",
       " '__import__',\n",
       " '__loader__',\n",
       " '__name__',\n",
       " '__package__',\n",
       " '__spec__',\n",
       " 'abs',\n",
       " 'all',\n",
       " 'any',\n",
       " 'ascii',\n",
       " 'bin',\n",
       " 'bool',\n",
       " 'breakpoint',\n",
       " 'bytearray',\n",
       " 'bytes',\n",
       " 'callable',\n",
       " 'chr',\n",
       " 'classmethod',\n",
       " 'compile',\n",
       " 'complex',\n",
       " 'copyright',\n",
       " 'credits',\n",
       " 'delattr',\n",
       " 'dict',\n",
       " 'dir',\n",
       " 'display',\n",
       " 'divmod',\n",
       " 'enumerate',\n",
       " 'eval',\n",
       " 'exec',\n",
       " 'execfile',\n",
       " 'filter',\n",
       " 'float',\n",
       " 'format',\n",
       " 'frozenset',\n",
       " 'get_ipython',\n",
       " 'getattr',\n",
       " 'globals',\n",
       " 'hasattr',\n",
       " 'hash',\n",
       " 'help',\n",
       " 'hex',\n",
       " 'id',\n",
       " 'input',\n",
       " 'int',\n",
       " 'isinstance',\n",
       " 'issubclass',\n",
       " 'iter',\n",
       " 'len',\n",
       " 'license',\n",
       " 'list',\n",
       " 'locals',\n",
       " 'map',\n",
       " 'max',\n",
       " 'memoryview',\n",
       " 'min',\n",
       " 'next',\n",
       " 'object',\n",
       " 'oct',\n",
       " 'open',\n",
       " 'ord',\n",
       " 'pow',\n",
       " 'print',\n",
       " 'property',\n",
       " 'range',\n",
       " 'repr',\n",
       " 'reversed',\n",
       " 'round',\n",
       " 'runfile',\n",
       " 'set',\n",
       " 'setattr',\n",
       " 'slice',\n",
       " 'sorted',\n",
       " 'staticmethod',\n",
       " 'str',\n",
       " 'sum',\n",
       " 'super',\n",
       " 'tuple',\n",
       " 'type',\n",
       " 'vars',\n",
       " 'zip']"
      ]
     },
     "execution_count": 15,
     "metadata": {},
     "output_type": "execute_result"
    }
   ],
   "source": [
    "dir(__builtin__)"
   ]
  },
  {
   "cell_type": "code",
   "execution_count": 17,
   "id": "4aeb3152-78d2-4ef9-bed9-ce53fbc9a803",
   "metadata": {},
   "outputs": [],
   "source": [
    "# Lookup: exception inheritance python"
   ]
  },
  {
   "cell_type": "code",
   "execution_count": 24,
   "id": "ed8e57df-8ba7-4625-8129-27ca932300e8",
   "metadata": {},
   "outputs": [],
   "source": [
    "class MyError(BaseException):\n",
    "    pass "
   ]
  },
  {
   "cell_type": "code",
   "execution_count": 25,
   "id": "25ddef4b-7b47-4f00-b8aa-8370c5bf749f",
   "metadata": {},
   "outputs": [
    {
     "ename": "MyError",
     "evalue": "",
     "output_type": "error",
     "traceback": [
      "\u001b[0;31m---------------------------------------------------------------------------\u001b[0m",
      "\u001b[0;31mMyError\u001b[0m                                   Traceback (most recent call last)",
      "\u001b[0;32m/tmp/ipykernel_394/1578886822.py\u001b[0m in \u001b[0;36m<module>\u001b[0;34m\u001b[0m\n\u001b[0;32m----> 1\u001b[0;31m \u001b[0;32mraise\u001b[0m \u001b[0mMyError\u001b[0m\u001b[0;34m\u001b[0m\u001b[0;34m\u001b[0m\u001b[0m\n\u001b[0m",
      "\u001b[0;31mMyError\u001b[0m: "
     ]
    }
   ],
   "source": [
    "raise MyError"
   ]
  },
  {
   "cell_type": "code",
   "execution_count": null,
   "id": "652fbc33-365f-4693-8fa9-87ecdb09cd19",
   "metadata": {},
   "outputs": [],
   "source": [
    "## https://github.com/RasaHQ/rasa"
   ]
  },
  {
   "cell_type": "code",
   "execution_count": 26,
   "id": "2ad35402-5325-40a4-9eb1-6268b716de8b",
   "metadata": {},
   "outputs": [],
   "source": [
    "# All objects inherit from BaseException (Except Exception class)"
   ]
  },
  {
   "cell_type": "markdown",
   "id": "96d45563-a6ed-47d3-be68-a0e6d4d9a6f0",
   "metadata": {},
   "source": [
    "## Abstract base class"
   ]
  },
  {
   "cell_type": "code",
   "execution_count": 30,
   "id": "240364e7-e0aa-4922-8276-d179045ec56c",
   "metadata": {},
   "outputs": [],
   "source": [
    "from abc import ABC, abstractmethod"
   ]
  },
  {
   "cell_type": "code",
   "execution_count": 31,
   "id": "851b296e-1ada-408c-bd70-e97b163c2ccc",
   "metadata": {},
   "outputs": [],
   "source": [
    "class Shape(ABC):\n",
    "    def __init__(self, color='Black'):\n",
    "        self.color = color\n",
    "        \n",
    "    @abstractmethod   ## If a class wants to inherite shape, they \"HAVE TO\" implement \"area()\" method too\n",
    "    def area(self):\n",
    "        pass"
   ]
  },
  {
   "cell_type": "code",
   "execution_count": 32,
   "id": "ba49a5d9-474d-476e-a03a-2c92eb576f4b",
   "metadata": {},
   "outputs": [],
   "source": [
    "class Rectangle(Shape):\n",
    "    def __init__(self, width, height):\n",
    "        self.width = width\n",
    "        self.height = height"
   ]
  },
  {
   "cell_type": "code",
   "execution_count": 33,
   "id": "7724b8c5-ed4e-4981-8fc3-3e2d74dddba9",
   "metadata": {},
   "outputs": [
    {
     "ename": "TypeError",
     "evalue": "Can't instantiate abstract class Rectangle with abstract methods area",
     "output_type": "error",
     "traceback": [
      "\u001b[0;31m---------------------------------------------------------------------------\u001b[0m",
      "\u001b[0;31mTypeError\u001b[0m                                 Traceback (most recent call last)",
      "\u001b[0;32m/tmp/ipykernel_394/3255568623.py\u001b[0m in \u001b[0;36m<module>\u001b[0;34m\u001b[0m\n\u001b[0;32m----> 1\u001b[0;31m \u001b[0mr\u001b[0m \u001b[0;34m=\u001b[0m \u001b[0mRectangle\u001b[0m\u001b[0;34m(\u001b[0m\u001b[0;36m3\u001b[0m\u001b[0;34m,\u001b[0m \u001b[0;36m4\u001b[0m\u001b[0;34m)\u001b[0m\u001b[0;34m\u001b[0m\u001b[0;34m\u001b[0m\u001b[0m\n\u001b[0m",
      "\u001b[0;31mTypeError\u001b[0m: Can't instantiate abstract class Rectangle with abstract methods area"
     ]
    }
   ],
   "source": [
    "r = Rectangle(3, 4)"
   ]
  },
  {
   "cell_type": "markdown",
   "id": "c2f1e718-09c7-416f-8c47-8c1dbfe94f51",
   "metadata": {},
   "source": [
    "**# The correct way: ==> SHould implement the \"abstract method area()\"**"
   ]
  },
  {
   "cell_type": "code",
   "execution_count": 34,
   "id": "8cd89945-d941-4b49-b9dc-b302dd8678e1",
   "metadata": {},
   "outputs": [],
   "source": [
    "class Rectangle(Shape):\n",
    "    def __init__(self, width, height):\n",
    "        self.width = width\n",
    "        self.height = height\n",
    "        \n",
    "    def area(self):\n",
    "        return self.width * self.height"
   ]
  },
  {
   "cell_type": "code",
   "execution_count": 35,
   "id": "09213f72-c838-4927-96ef-cecad512ec60",
   "metadata": {},
   "outputs": [],
   "source": [
    "# now object r can be created:\n",
    "r = Rectangle(3, 4)"
   ]
  },
  {
   "cell_type": "code",
   "execution_count": 36,
   "id": "9701f1e0-3f9d-4c71-a3e7-a66e46c1db76",
   "metadata": {},
   "outputs": [
    {
     "data": {
      "text/plain": [
       "12"
      ]
     },
     "execution_count": 36,
     "metadata": {},
     "output_type": "execute_result"
    }
   ],
   "source": [
    "r.area()"
   ]
  },
  {
   "cell_type": "code",
   "execution_count": 37,
   "id": "2369aac2-0896-4843-80f1-b3c6c304dd1e",
   "metadata": {},
   "outputs": [],
   "source": [
    "# duck typing"
   ]
  },
  {
   "cell_type": "code",
   "execution_count": null,
   "id": "2d81c8e0-8253-4ddc-80bf-964d6a294552",
   "metadata": {},
   "outputs": [],
   "source": [
    "# composition\n",
    "#overriding"
   ]
  },
  {
   "cell_type": "code",
   "execution_count": null,
   "id": "72225929-b0ac-4015-9fdc-bd9b77fb8c26",
   "metadata": {},
   "outputs": [],
   "source": []
  },
  {
   "cell_type": "code",
   "execution_count": null,
   "id": "eb7906eb-f202-42ed-9941-39b34ef2d17f",
   "metadata": {},
   "outputs": [],
   "source": []
  },
  {
   "cell_type": "code",
   "execution_count": null,
   "id": "d61c514f-6b0b-478f-9e08-a2afe7f5de31",
   "metadata": {},
   "outputs": [],
   "source": []
  },
  {
   "cell_type": "code",
   "execution_count": null,
   "id": "39c3ebbd-f26b-4cc2-bcc3-ca881934d6d8",
   "metadata": {},
   "outputs": [],
   "source": []
  },
  {
   "cell_type": "code",
   "execution_count": null,
   "id": "a33413ab-832d-46b7-9f89-38dab73ace26",
   "metadata": {},
   "outputs": [],
   "source": []
  },
  {
   "cell_type": "code",
   "execution_count": null,
   "id": "c055e641-5e23-466b-9197-5a6902d840ff",
   "metadata": {},
   "outputs": [],
   "source": []
  },
  {
   "cell_type": "code",
   "execution_count": null,
   "id": "0502dfbc-ca16-438e-bb14-9d77f7c2c624",
   "metadata": {},
   "outputs": [],
   "source": []
  }
 ],
 "metadata": {
  "kernelspec": {
   "display_name": "Python 3 (ipykernel)",
   "language": "python",
   "name": "python3"
  },
  "language_info": {
   "codemirror_mode": {
    "name": "ipython",
    "version": 3
   },
   "file_extension": ".py",
   "mimetype": "text/x-python",
   "name": "python",
   "nbconvert_exporter": "python",
   "pygments_lexer": "ipython3",
   "version": "3.7.10"
  }
 },
 "nbformat": 4,
 "nbformat_minor": 5
}
