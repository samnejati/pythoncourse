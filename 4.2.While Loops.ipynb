{
 "cells": [
  {
   "cell_type": "code",
   "execution_count": null,
   "id": "1cd3e201-42fd-4264-83e6-bcf628b8a178",
   "metadata": {},
   "outputs": [],
   "source": []
  },
  {
   "cell_type": "code",
   "execution_count": null,
   "id": "c4b77911-c18b-4a56-9592-912d34d95ae1",
   "metadata": {},
   "outputs": [],
   "source": []
  },
  {
   "cell_type": "code",
   "execution_count": 1,
   "id": "341e2bf7-dd53-4cbc-af11-f142421332e6",
   "metadata": {},
   "outputs": [],
   "source": [
    "x = 2\n"
   ]
  },
  {
   "cell_type": "code",
   "execution_count": 2,
   "id": "23677bd4-90ca-417d-961e-3f13278b2abc",
   "metadata": {},
   "outputs": [
    {
     "data": {
      "text/plain": [
       "int"
      ]
     },
     "execution_count": 2,
     "metadata": {},
     "output_type": "execute_result"
    }
   ],
   "source": [
    "type(x)"
   ]
  },
  {
   "cell_type": "code",
   "execution_count": 3,
   "id": "002685d4-7ec0-4eb0-9cf8-081545057ff7",
   "metadata": {},
   "outputs": [
    {
     "ename": "AttributeError",
     "evalue": "'int' object has no attribute 'len'",
     "output_type": "error",
     "traceback": [
      "\u001b[0;31m---------------------------------------------------------------------------\u001b[0m",
      "\u001b[0;31mAttributeError\u001b[0m                            Traceback (most recent call last)",
      "\u001b[0;32m/tmp/ipykernel_21459/3362026300.py\u001b[0m in \u001b[0;36m<module>\u001b[0;34m\u001b[0m\n\u001b[0;32m----> 1\u001b[0;31m \u001b[0mx\u001b[0m\u001b[0;34m.\u001b[0m\u001b[0mlen\u001b[0m\u001b[0;34m(\u001b[0m\u001b[0;34m)\u001b[0m\u001b[0;34m\u001b[0m\u001b[0;34m\u001b[0m\u001b[0m\n\u001b[0m",
      "\u001b[0;31mAttributeError\u001b[0m: 'int' object has no attribute 'len'"
     ]
    }
   ],
   "source": [
    "x.len()"
   ]
  },
  {
   "cell_type": "code",
   "execution_count": 6,
   "id": "592c1f7b-1d32-48bb-9ad6-bdc27de4b74c",
   "metadata": {},
   "outputs": [
    {
     "data": {
      "text/plain": [
       "['__abs__',\n",
       " '__add__',\n",
       " '__and__',\n",
       " '__bool__',\n",
       " '__ceil__',\n",
       " '__class__',\n",
       " '__delattr__',\n",
       " '__dir__',\n",
       " '__divmod__',\n",
       " '__doc__',\n",
       " '__eq__',\n",
       " '__float__',\n",
       " '__floor__',\n",
       " '__floordiv__',\n",
       " '__format__',\n",
       " '__ge__',\n",
       " '__getattribute__',\n",
       " '__getnewargs__',\n",
       " '__gt__',\n",
       " '__hash__',\n",
       " '__index__',\n",
       " '__init__',\n",
       " '__init_subclass__',\n",
       " '__int__',\n",
       " '__invert__',\n",
       " '__le__',\n",
       " '__lshift__',\n",
       " '__lt__',\n",
       " '__mod__',\n",
       " '__mul__',\n",
       " '__ne__',\n",
       " '__neg__',\n",
       " '__new__',\n",
       " '__or__',\n",
       " '__pos__',\n",
       " '__pow__',\n",
       " '__radd__',\n",
       " '__rand__',\n",
       " '__rdivmod__',\n",
       " '__reduce__',\n",
       " '__reduce_ex__',\n",
       " '__repr__',\n",
       " '__rfloordiv__',\n",
       " '__rlshift__',\n",
       " '__rmod__',\n",
       " '__rmul__',\n",
       " '__ror__',\n",
       " '__round__',\n",
       " '__rpow__',\n",
       " '__rrshift__',\n",
       " '__rshift__',\n",
       " '__rsub__',\n",
       " '__rtruediv__',\n",
       " '__rxor__',\n",
       " '__setattr__',\n",
       " '__sizeof__',\n",
       " '__str__',\n",
       " '__sub__',\n",
       " '__subclasshook__',\n",
       " '__truediv__',\n",
       " '__trunc__',\n",
       " '__xor__',\n",
       " 'bit_length',\n",
       " 'conjugate',\n",
       " 'denominator',\n",
       " 'from_bytes',\n",
       " 'imag',\n",
       " 'numerator',\n",
       " 'real',\n",
       " 'to_bytes']"
      ]
     },
     "execution_count": 6,
     "metadata": {},
     "output_type": "execute_result"
    }
   ],
   "source": [
    "dir(x)"
   ]
  },
  {
   "cell_type": "code",
   "execution_count": 7,
   "id": "64d3cbbc-94ae-4cbc-b799-013065e970c9",
   "metadata": {},
   "outputs": [
    {
     "data": {
      "text/plain": [
       "0"
      ]
     },
     "execution_count": 7,
     "metadata": {},
     "output_type": "execute_result"
    }
   ],
   "source": [
    "x.imag"
   ]
  },
  {
   "cell_type": "code",
   "execution_count": 8,
   "id": "fcb4fe84-bdcc-485c-8e87-6935a71d4543",
   "metadata": {},
   "outputs": [
    {
     "data": {
      "text/plain": [
       "2"
      ]
     },
     "execution_count": 8,
     "metadata": {},
     "output_type": "execute_result"
    }
   ],
   "source": [
    "x.real"
   ]
  },
  {
   "cell_type": "code",
   "execution_count": 2,
   "id": "1310b61f-5afb-45e4-80a7-cb2ef682d5ed",
   "metadata": {},
   "outputs": [
    {
     "name": "stdout",
     "output_type": "stream",
     "text": [
      "4\n",
      "5\n",
      "6\n",
      "7\n"
     ]
    }
   ],
   "source": [
    "x= 4\n",
    "while x < 8:\n",
    "    print(x)\n",
    "    x = x+1"
   ]
  },
  {
   "cell_type": "code",
   "execution_count": 3,
   "id": "b4cda4f9-884e-400b-9eca-f5837bdd57a5",
   "metadata": {},
   "outputs": [],
   "source": [
    "x = ['Ali', 'Reza', 'Hasan', 'Niloufar', 'Fatemeh', 'Najmeh']"
   ]
  },
  {
   "cell_type": "code",
   "execution_count": 4,
   "id": "adf50689-85ca-4e17-8820-150315040ef8",
   "metadata": {},
   "outputs": [
    {
     "name": "stdout",
     "output_type": "stream",
     "text": [
      "Najmeh\n",
      "Fatemeh\n",
      "Niloufar\n",
      "Hasan\n",
      "Reza\n",
      "Ali\n"
     ]
    }
   ],
   "source": [
    "while x:\n",
    "    print(x.pop())"
   ]
  },
  {
   "cell_type": "code",
   "execution_count": 15,
   "id": "d77cd599-38d8-414b-a40d-9691e808602a",
   "metadata": {},
   "outputs": [
    {
     "name": "stdout",
     "output_type": "stream",
     "text": [
      "0\n",
      "1\n",
      "2\n",
      "3\n",
      "4\n",
      "5\n",
      "6\n"
     ]
    }
   ],
   "source": [
    "n  = 0\n",
    "while n < 10:\n",
    "    print(n)\n",
    "    \n",
    "    if n != 0 and n % 6 == 0:\n",
    "        break\n",
    "        \n",
    "    n += 1\n"
   ]
  },
  {
   "cell_type": "code",
   "execution_count": 22,
   "id": "68f5d32e-2a03-471d-8677-14f2c541a8fa",
   "metadata": {},
   "outputs": [
    {
     "name": "stdout",
     "output_type": "stream",
     "text": [
      "0\n",
      "1\n",
      "2\n",
      "3\n",
      "4\n",
      "5\n",
      "7\n",
      "8\n",
      "9\n"
     ]
    }
   ],
   "source": [
    "# 6 wont be printed:\n",
    "\n",
    "n  = 0\n",
    "while n < 10:\n",
    "        \n",
    "    if n != 0 and n % 6 == 0:\n",
    "        n += 1\n",
    "        continue\n",
    "        \n",
    "    print(n)\n",
    "    n += 1"
   ]
  },
  {
   "cell_type": "code",
   "execution_count": 24,
   "id": "eb233640-c3e0-4ba8-abf5-b97be7a53ab6",
   "metadata": {},
   "outputs": [
    {
     "name": "stdout",
     "output_type": "stream",
     "text": [
      "khoban               Badan\n",
      "______________________________\n",
      "Najmeh\n",
      "Fatemeh\n",
      "Niloufar\n",
      "                      Hasan\n",
      "Reza\n",
      "Ali\n"
     ]
    }
   ],
   "source": [
    "names = ['Ali', 'Reza', 'Hasan', 'Niloufar', 'Fatemeh', 'Najmeh']\n",
    "print(f'khoban               Badan')\n",
    "print('_' * 30) \n",
    "while names:\n",
    "    current_name = names.pop()\n",
    "    \n",
    "    if current_name == 'Hasan':\n",
    "        print('                     ', end = ' ')\n",
    "    \n",
    "    print(current_name)\n",
    "    "
   ]
  },
  {
   "cell_type": "code",
   "execution_count": 26,
   "id": "458cbd94-47f0-4b88-a70b-791f092e6b98",
   "metadata": {},
   "outputs": [
    {
     "name": "stdout",
     "output_type": "stream",
     "text": [
      "khoban               Badan\n",
      "______________________________\n",
      "Najmeh\n",
      "Fatemeh\n",
      "Niloufar\n",
      "                     Hasan \n",
      "Reza\n",
      "Ali\n"
     ]
    }
   ],
   "source": [
    "names = ['Ali', 'Reza', 'Hasan', 'Niloufar', 'Fatemeh', 'Najmeh']\n",
    "print(f'khoban               Badan')\n",
    "print('_' * 30) \n",
    "while names:\n",
    "    current_name = names.pop()\n",
    "    \n",
    "    if current_name == 'Hasan':\n",
    "        print(f'                     {current_name} ')\n",
    "        continue\n",
    "    \n",
    "    print(f'{current_name}')"
   ]
  },
  {
   "cell_type": "code",
   "execution_count": null,
   "id": "e93ab36e-ae33-4ccd-9dc2-77917f468ddc",
   "metadata": {},
   "outputs": [],
   "source": [
    "# while loops also has ELSE clause"
   ]
  },
  {
   "cell_type": "code",
   "execution_count": 27,
   "id": "fedf97b5-2f8d-4d33-a982-902089ae2e0a",
   "metadata": {},
   "outputs": [
    {
     "name": "stdout",
     "output_type": "stream",
     "text": [
      "0\n",
      "1\n",
      "2\n",
      "3\n",
      "4\n",
      "5\n",
      "6\n",
      "7\n",
      "8\n",
      "9\n"
     ]
    }
   ],
   "source": [
    "n = 0\n",
    "\n",
    "while n < 10:\n",
    "    print(n)\n",
    "    \n",
    "    n+=1"
   ]
  },
  {
   "cell_type": "code",
   "execution_count": 28,
   "id": "7ce341ba-569e-4716-a959-c3ab8d98229b",
   "metadata": {},
   "outputs": [
    {
     "name": "stdout",
     "output_type": "stream",
     "text": [
      "0\n",
      "1\n",
      "2\n",
      "3\n",
      "4\n",
      "5\n",
      "6\n",
      "7\n",
      "8\n",
      "9\n",
      "End of loop\n"
     ]
    }
   ],
   "source": [
    "n = 0\n",
    "\n",
    "while n < 10:\n",
    "    print(n)\n",
    "    \n",
    "    n+=1\n",
    "else:  #// Rarely USED\n",
    "    print('End of loop')"
   ]
  },
  {
   "cell_type": "code",
   "execution_count": 30,
   "id": "6dd3e3d7-6b54-41e1-bcca-903f1aa2ef97",
   "metadata": {},
   "outputs": [
    {
     "name": "stdout",
     "output_type": "stream",
     "text": [
      "0\n",
      "1\n",
      "2\n",
      "3\n",
      "4\n",
      "5\n",
      "6\n",
      "7\n",
      "8\n",
      "9\n",
      "End of loop\n"
     ]
    }
   ],
   "source": [
    "n = 0\n",
    "\n",
    "while n < 10:\n",
    "    print(n)\n",
    "    \n",
    "    n+=1\n",
    "print('End of loop')"
   ]
  },
  {
   "cell_type": "markdown",
   "id": "9a00c64f-29f5-4b4e-9837-96317559a3d6",
   "metadata": {},
   "source": [
    "# watchdog python: https://pypi.org/project/watchdog/\n",
    "### Checks for changes /eg. removes files from desktop to preassigned folders"
   ]
  },
  {
   "cell_type": "code",
   "execution_count": 46,
   "id": "25da50bf-f110-4749-8ad0-7e286b46f584",
   "metadata": {},
   "outputs": [
    {
     "name": "stdout",
     "output_type": "stream",
     "text": [
      "  0-5      n-th | time\n",
      "______________________________\n",
      "0  1  2  3  4  0\n",
      "0  1  2  3  4  1\n",
      "0  1  2  3  4  2\n",
      "0  1  2  3  4  3\n",
      "0  1  2  3  4  4\n",
      "0  1  2  3  4  5\n",
      "0  1  2  3  4  6\n",
      "0  1  2  3  4  7\n",
      "0  1  2  3  4  8\n",
      "0  1  2  3  4  9\n"
     ]
    }
   ],
   "source": [
    "print(f'  0-5      n-th | time')\n",
    "print('_' * 30) \n",
    "n = 0\n",
    "while n < 10:\n",
    "    \n",
    "    m = 0\n",
    "    while m < 5:\n",
    "        print(m, end = '  ')\n",
    "        m += 1\n",
    "    print(n)\n",
    "    n += 1\n"
   ]
  },
  {
   "cell_type": "markdown",
   "id": "b699ec42-08b5-498a-9eb5-d42bcd50f498",
   "metadata": {},
   "source": [
    "### Need more examples of 'continue' and 'break'"
   ]
  },
  {
   "cell_type": "markdown",
   "id": "a3a358d6-b6fc-40b4-a47d-c4e0250fa227",
   "metadata": {},
   "source": [
    "## Avoid one line While loops"
   ]
  },
  {
   "cell_type": "code",
   "execution_count": null,
   "id": "abedec00-e109-4f75-937d-5033c0fc69c6",
   "metadata": {},
   "outputs": [],
   "source": []
  },
  {
   "cell_type": "code",
   "execution_count": null,
   "id": "5bac59aa-4ba6-4df1-b9d6-2c43e113f080",
   "metadata": {},
   "outputs": [],
   "source": []
  },
  {
   "cell_type": "code",
   "execution_count": null,
   "id": "a685c6d7-a15a-406c-888f-6a0ede58dd9b",
   "metadata": {},
   "outputs": [],
   "source": []
  }
 ],
 "metadata": {
  "kernelspec": {
   "display_name": "Python 3 (ipykernel)",
   "language": "python",
   "name": "python3"
  },
  "language_info": {
   "codemirror_mode": {
    "name": "ipython",
    "version": 3
   },
   "file_extension": ".py",
   "mimetype": "text/x-python",
   "name": "python",
   "nbconvert_exporter": "python",
   "pygments_lexer": "ipython3",
   "version": "3.7.10"
  }
 },
 "nbformat": 4,
 "nbformat_minor": 5
}
