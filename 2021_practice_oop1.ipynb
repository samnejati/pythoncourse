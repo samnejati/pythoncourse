{
 "cells": [
  {
   "cell_type": "markdown",
   "id": "41d47cd9-cd11-498e-ba33-c998b800fd98",
   "metadata": {},
   "source": [
    "# 2021_practice_oop1"
   ]
  },
  {
   "cell_type": "markdown",
   "id": "2db90463-afc7-4a30-b33b-6f482faab999",
   "metadata": {},
   "source": [
    "#### How to define a class:"
   ]
  },
  {
   "cell_type": "code",
   "execution_count": 1,
   "id": "67bb98cd-46e1-415d-8de7-366a3b795aca",
   "metadata": {},
   "outputs": [],
   "source": [
    "#defining a function Vs class:\n",
    "#function\n",
    "def student():\n",
    "    pass\n",
    "def get_student(name, last_name, st_id):\n",
    "    pass"
   ]
  },
  {
   "cell_type": "code",
   "execution_count": 2,
   "id": "1d725ff2-72ab-4b4c-9d57-c9bb9df504b6",
   "metadata": {},
   "outputs": [],
   "source": [
    "class Student:\n",
    "    pass"
   ]
  },
  {
   "cell_type": "code",
   "execution_count": 6,
   "id": "9de2d1dc-9c82-4331-b78f-3bbb7273b108",
   "metadata": {},
   "outputs": [],
   "source": [
    "obj1 = Student()"
   ]
  },
  {
   "cell_type": "code",
   "execution_count": 7,
   "id": "2446c799-86e6-4305-a2f1-c2435a7d7d18",
   "metadata": {},
   "outputs": [
    {
     "data": {
      "text/plain": [
       "<__main__.Student at 0x7fb21c08e650>"
      ]
     },
     "execution_count": 7,
     "metadata": {},
     "output_type": "execute_result"
    }
   ],
   "source": [
    "# __main__.Student  ==> SHows this is a class\n",
    "obj1    #<__main__.Student at 0x7fb21c07b210>\n"
   ]
  },
  {
   "cell_type": "code",
   "execution_count": 8,
   "id": "bf717e96-a025-486d-86fd-4d7f41c3691a",
   "metadata": {},
   "outputs": [],
   "source": [
    "obj2 = Student()"
   ]
  },
  {
   "cell_type": "code",
   "execution_count": 9,
   "id": "37a0fb5e-5673-427f-8fa2-c3d9c9e08fa5",
   "metadata": {},
   "outputs": [
    {
     "data": {
      "text/plain": [
       "<__main__.Student at 0x7fb21c08ef90>"
      ]
     },
     "execution_count": 9,
     "metadata": {},
     "output_type": "execute_result"
    }
   ],
   "source": [
    "obj2"
   ]
  },
  {
   "cell_type": "code",
   "execution_count": 11,
   "id": "c845ddf4-0be8-4c95-8bbb-0f45ad97c779",
   "metadata": {},
   "outputs": [
    {
     "data": {
      "text/plain": [
       "False"
      ]
     },
     "execution_count": 11,
     "metadata": {},
     "output_type": "execute_result"
    }
   ],
   "source": [
    "obj1 is obj2 # they are instances of the same class, but they are not the same"
   ]
  },
  {
   "cell_type": "markdown",
   "id": "05c3598c-cece-4388-85cd-42f978ee7299",
   "metadata": {},
   "source": [
    "#### Constructor ==> When a class is initialized the constructor function is called?!"
   ]
  },
  {
   "cell_type": "code",
   "execution_count": 15,
   "id": "5d9aa044-4425-4483-ac22-cf1abef9048b",
   "metadata": {},
   "outputs": [],
   "source": [
    "class Student: \n",
    "    \n",
    "    #constructor\n",
    "    def __init__(self):\n",
    "        print('constructor is called using __init__() dunder method')"
   ]
  },
  {
   "cell_type": "code",
   "execution_count": 16,
   "id": "d5a8954b-dc89-412b-90dc-9ad962c6ca28",
   "metadata": {},
   "outputs": [
    {
     "name": "stdout",
     "output_type": "stream",
     "text": [
      "constructor is called using __init__() dunder method\n"
     ]
    }
   ],
   "source": [
    "obj3 = Student()"
   ]
  },
  {
   "cell_type": "markdown",
   "id": "4ff74467-98c0-4558-8b2d-f51184f47650",
   "metadata": {},
   "source": [
    "##### When you create an object, Python calls __init__() dunder method!!! (The constructor)"
   ]
  },
  {
   "cell_type": "code",
   "execution_count": 17,
   "id": "70cdcf5e-e664-494a-ae72-629239263866",
   "metadata": {},
   "outputs": [],
   "source": [
    "class Student: \n",
    "    \n",
    "    #constructor\n",
    "    def __init__(self):\n",
    "        print('constructor is called using __init__() dunder method')\n",
    "        \n",
    "    def register(self):\n",
    "        print('register is called')"
   ]
  },
  {
   "cell_type": "code",
   "execution_count": 18,
   "id": "59c4f826-f775-4d31-aaab-15887d31f49c",
   "metadata": {},
   "outputs": [
    {
     "name": "stdout",
     "output_type": "stream",
     "text": [
      "constructor is called using __init__() dunder method\n"
     ]
    }
   ],
   "source": [
    " obj4 = Student()"
   ]
  },
  {
   "cell_type": "code",
   "execution_count": 19,
   "id": "fd611cf6-c921-4039-a54f-5a312f3b3877",
   "metadata": {},
   "outputs": [
    {
     "name": "stdout",
     "output_type": "stream",
     "text": [
      "register is called\n"
     ]
    }
   ],
   "source": [
    "obj4.register()"
   ]
  },
  {
   "cell_type": "code",
   "execution_count": 22,
   "id": "a7cb561d-9409-4a77-bd24-12ab91c0cfb1",
   "metadata": {},
   "outputs": [
    {
     "name": "stdout",
     "output_type": "stream",
     "text": [
      "register is called\n"
     ]
    }
   ],
   "source": [
    "Student.register(obj4)"
   ]
  },
  {
   "cell_type": "code",
   "execution_count": 45,
   "id": "57ebdeae-8497-488c-bd34-0a12f07ebc2d",
   "metadata": {},
   "outputs": [],
   "source": [
    "class Student2: \n",
    "    \n",
    "    #constructor // def __init__(self): is automatically called so we do not write it\n",
    "      \n",
    "    def register(self):\n",
    "        print(f'{self} : ==>self is printed which is the object passed to function (\"Obj5\")')\n",
    "        print('register is called')"
   ]
  },
  {
   "cell_type": "code",
   "execution_count": 46,
   "id": "f91b59b1-7661-45ad-a2d7-48175d047beb",
   "metadata": {},
   "outputs": [],
   "source": [
    "obj5=Student2()"
   ]
  },
  {
   "cell_type": "code",
   "execution_count": 47,
   "id": "032ee123-6200-4efd-8972-d2add90e1d82",
   "metadata": {},
   "outputs": [
    {
     "name": "stdout",
     "output_type": "stream",
     "text": [
      "<__main__.Student2 object at 0x7fb2147f3150> : ==>self is printed which is the object passed to function (\"Obj5\")\n",
      "register is called\n"
     ]
    }
   ],
   "source": [
    "Student2.register(obj5)"
   ]
  },
  {
   "cell_type": "code",
   "execution_count": 41,
   "id": "20f04625-48a8-4180-8d70-1b07b71f9cdf",
   "metadata": {},
   "outputs": [
    {
     "data": {
      "text/plain": [
       "__main__.Student2"
      ]
     },
     "execution_count": 41,
     "metadata": {},
     "output_type": "execute_result"
    }
   ],
   "source": [
    "type(obj5)"
   ]
  },
  {
   "cell_type": "markdown",
   "id": "ec7c134a-6d88-42c1-99bc-fbb854840be0",
   "metadata": {},
   "source": [
    "### Syntactic Sugar:"
   ]
  },
  {
   "cell_type": "code",
   "execution_count": 48,
   "id": "95b1a054-ff2c-4ce8-b24e-f8ffb3b473dc",
   "metadata": {},
   "outputs": [
    {
     "name": "stdout",
     "output_type": "stream",
     "text": [
      "<__main__.Student2 object at 0x7fb2147f3150> : ==>self is printed which is the object passed to function (\"Obj5\")\n",
      "register is called\n"
     ]
    }
   ],
   "source": [
    "# Student2.register(obj5)  ===> obj5 Already has the object information. so we can write it like this:\n",
    "obj5.register()  # will give the same results as: Student2.register(obj5)"
   ]
  },
  {
   "cell_type": "code",
   "execution_count": 49,
   "id": "0f865deb-3c26-42a9-bdbe-042cbc978f23",
   "metadata": {},
   "outputs": [
    {
     "name": "stdout",
     "output_type": "stream",
     "text": [
      "<__main__.Student2 object at 0x7fb2147f3150> : ==>self is printed which is the object passed to function (\"Obj5\")\n",
      "register is called\n"
     ]
    }
   ],
   "source": [
    "id(obj5)\n",
    "obj5.register()"
   ]
  },
  {
   "cell_type": "code",
   "execution_count": 50,
   "id": "a0137389-652a-473e-a00e-bbcbf8d8dd5a",
   "metadata": {},
   "outputs": [],
   "source": [
    "class Student3: \n",
    "         \n",
    "    def register(self): ## Self as Formal Parameter       \n",
    "        print(id(self))"
   ]
  },
  {
   "cell_type": "code",
   "execution_count": 51,
   "id": "9e8cd17f-4dd4-4804-9510-8581b6d5952a",
   "metadata": {},
   "outputs": [],
   "source": [
    "obj6 = Student3()"
   ]
  },
  {
   "cell_type": "code",
   "execution_count": 55,
   "id": "7d30ddfa-06c9-46be-bbf7-f80c98a1e251",
   "metadata": {},
   "outputs": [
    {
     "data": {
      "text/plain": [
       "140402824728464"
      ]
     },
     "execution_count": 55,
     "metadata": {},
     "output_type": "execute_result"
    }
   ],
   "source": [
    "# obj as Actual Parameter\n",
    "id(obj6)  # same object as below! They have the same ID  "
   ]
  },
  {
   "cell_type": "code",
   "execution_count": 56,
   "id": "41c8f4a7-cdeb-4545-9a41-ca9e42913bfa",
   "metadata": {},
   "outputs": [
    {
     "name": "stdout",
     "output_type": "stream",
     "text": [
      "140402824728464\n"
     ]
    }
   ],
   "source": [
    "obj6.register()"
   ]
  },
  {
   "cell_type": "code",
   "execution_count": null,
   "id": "b9d4e17b-1dd1-4c02-8a30-d60209509c1e",
   "metadata": {},
   "outputs": [],
   "source": []
  },
  {
   "cell_type": "markdown",
   "id": "3566ee60-61f0-4b84-b1b5-bc14c9759c81",
   "metadata": {},
   "source": [
    "### Objects belong to the same class, same blueprint, but they can have different attributes:\n",
    "#### Defining class Attributes:\n",
    "- on the fly: ===> obj.st_id = 10"
   ]
  },
  {
   "cell_type": "code",
   "execution_count": 57,
   "id": "26627c7e-a02f-4190-84c1-9984f28a5402",
   "metadata": {},
   "outputs": [],
   "source": [
    "class Student():\n",
    "    def __init__(self):\n",
    "        pass\n",
    "    def register(self):\n",
    "        pass"
   ]
  },
  {
   "cell_type": "code",
   "execution_count": 58,
   "id": "c32ebcfc-a550-4201-adc3-61ef51f1900b",
   "metadata": {},
   "outputs": [],
   "source": [
    "obj = Student()"
   ]
  },
  {
   "cell_type": "code",
   "execution_count": 61,
   "id": "6e05c841-4b07-4d52-ab5b-40c66ccbae5f",
   "metadata": {},
   "outputs": [],
   "source": [
    "# On the fly class attribute definition: (no best practice)\n",
    "obj.st_id = 10"
   ]
  },
  {
   "cell_type": "code",
   "execution_count": 62,
   "id": "6a692d8b-2808-4480-92a9-fc9733858d00",
   "metadata": {},
   "outputs": [],
   "source": [
    "obj.course = [1,2,3,]"
   ]
  },
  {
   "cell_type": "code",
   "execution_count": 63,
   "id": "e0f9eee2-3a37-46c3-b81d-484d2c89e65c",
   "metadata": {},
   "outputs": [
    {
     "data": {
      "text/plain": [
       "10"
      ]
     },
     "execution_count": 63,
     "metadata": {},
     "output_type": "execute_result"
    }
   ],
   "source": [
    "obj.st_id #check the attribute value"
   ]
  },
  {
   "cell_type": "code",
   "execution_count": null,
   "id": "ebfa9ffa-b5b5-46e5-9686-6b627ab06d68",
   "metadata": {},
   "outputs": [],
   "source": [
    "# we can define attributes inside class using self.attribute_name"
   ]
  },
  {
   "cell_type": "code",
   "execution_count": 67,
   "id": "4127f4a7-1861-455d-a13c-487204d38775",
   "metadata": {},
   "outputs": [],
   "source": [
    "class Student():\n",
    "    def __init__(self):\n",
    "        self.x = 10\n",
    "        self.courses = ['math', 'physics']\n",
    "    def register(self):\n",
    "        pass"
   ]
  },
  {
   "cell_type": "code",
   "execution_count": 68,
   "id": "2cfbacd6-352f-477c-8c11-6ee4f57db4e0",
   "metadata": {},
   "outputs": [],
   "source": [
    "obj = Student()"
   ]
  },
  {
   "cell_type": "code",
   "execution_count": 69,
   "id": "9b26ecb6-b89d-4ef9-a0d1-3b5d514d86b3",
   "metadata": {},
   "outputs": [
    {
     "data": {
      "text/plain": [
       "10"
      ]
     },
     "execution_count": 69,
     "metadata": {},
     "output_type": "execute_result"
    }
   ],
   "source": [
    "obj.x"
   ]
  },
  {
   "cell_type": "code",
   "execution_count": 70,
   "id": "ded15ff9-36ad-40a2-b474-d3863048c126",
   "metadata": {},
   "outputs": [
    {
     "data": {
      "text/plain": [
       "['math', 'physics']"
      ]
     },
     "execution_count": 70,
     "metadata": {},
     "output_type": "execute_result"
    }
   ],
   "source": [
    "obj.courses"
   ]
  },
  {
   "cell_type": "code",
   "execution_count": 71,
   "id": "b3607285-14dc-4653-a8a1-872e02a59527",
   "metadata": {},
   "outputs": [],
   "source": [
    "obj2 = Student()"
   ]
  },
  {
   "cell_type": "code",
   "execution_count": 72,
   "id": "af89a943-a2e4-4196-b97b-0171cab52226",
   "metadata": {},
   "outputs": [
    {
     "data": {
      "text/plain": [
       "['math', 'physics']"
      ]
     },
     "execution_count": 72,
     "metadata": {},
     "output_type": "execute_result"
    }
   ],
   "source": [
    "obj2.courses"
   ]
  },
  {
   "cell_type": "code",
   "execution_count": null,
   "id": "90143a2e-c801-42da-bb45-34573395e319",
   "metadata": {},
   "outputs": [],
   "source": []
  },
  {
   "cell_type": "code",
   "execution_count": 79,
   "id": "77104038-2b40-4a0e-a077-5b521843af8a",
   "metadata": {},
   "outputs": [],
   "source": [
    "class Student():\n",
    "    def __init__(self, st_id, courses):\n",
    "        self.st_id = st_id  ## ورودی که خودم میدم رو بگذار در اتریبیوت آبجکت\n",
    "        self.courses = courses  # ورودی که خودم میدم\n",
    "    "
   ]
  },
  {
   "cell_type": "code",
   "execution_count": 81,
   "id": "8d5661e8-89f3-45dc-9a13-7c8805f4720e",
   "metadata": {},
   "outputs": [],
   "source": [
    "ali = Student('9023036',['math', 'geography']) ## دوتا ورودی هست به جا 3 تا چون اولی خود آبجکت هست"
   ]
  },
  {
   "cell_type": "code",
   "execution_count": 82,
   "id": "8b1139d7-58c4-449d-9215-b4ad3e99c1f8",
   "metadata": {},
   "outputs": [
    {
     "data": {
      "text/plain": [
       "'9023036'"
      ]
     },
     "execution_count": 82,
     "metadata": {},
     "output_type": "execute_result"
    }
   ],
   "source": [
    "ali.st_id"
   ]
  },
  {
   "cell_type": "code",
   "execution_count": null,
   "id": "b0ea9443-004c-4bea-9074-10695281617e",
   "metadata": {},
   "outputs": [],
   "source": []
  },
  {
   "cell_type": "code",
   "execution_count": 86,
   "id": "d73cead5-a450-42b1-8aeb-7d25f24cc141",
   "metadata": {},
   "outputs": [],
   "source": [
    "class Student():\n",
    "    \n",
    "    #class attribute:\n",
    "    university = 'Arizona State'\n",
    "    \n",
    "    def __init__(self, st_id, courses):\n",
    "        \n",
    "        #Object attribute\n",
    "        self.st_id = st_id  ## not class attribute\n",
    "        self.courses = courses  \n",
    "        self.is_registered = False\n",
    "\n",
    "        \n",
    "    def register(self):\n",
    "        self.is_registered = True\n",
    "    "
   ]
  },
  {
   "cell_type": "code",
   "execution_count": 88,
   "id": "115339a8-d623-493d-a1da-9343cbfdfad3",
   "metadata": {},
   "outputs": [],
   "source": [
    "ali = Student('9023036',['math', 'geography'])"
   ]
  },
  {
   "cell_type": "code",
   "execution_count": 90,
   "id": "46b48baf-d1b6-4265-b549-d5fb2f80ed53",
   "metadata": {},
   "outputs": [
    {
     "data": {
      "text/plain": [
       "False"
      ]
     },
     "execution_count": 90,
     "metadata": {},
     "output_type": "execute_result"
    }
   ],
   "source": [
    "ali.is_registered  "
   ]
  },
  {
   "cell_type": "code",
   "execution_count": 91,
   "id": "9312c354-aa6f-48e4-860a-b0d24f42c48c",
   "metadata": {},
   "outputs": [],
   "source": [
    "ali.register()  # We register Ali object as a Student"
   ]
  },
  {
   "cell_type": "code",
   "execution_count": 93,
   "id": "67de1cb0-cadd-4434-9773-e9764d82b35d",
   "metadata": {},
   "outputs": [
    {
     "data": {
      "text/plain": [
       "True"
      ]
     },
     "execution_count": 93,
     "metadata": {},
     "output_type": "execute_result"
    }
   ],
   "source": [
    "ali.is_registered  # ali is registered"
   ]
  },
  {
   "cell_type": "markdown",
   "id": "3886c48c-0a38-4a8e-ba26-260fb6882cb5",
   "metadata": {},
   "source": [
    "### Class Attribute vs Object Attribute\n",
    "- Class Attribute: Is defined in the body of class, not in its functions\n",
    "- Class Attribute: if you make 1000 objects, the attribute only take a fixed memory space"
   ]
  },
  {
   "cell_type": "markdown",
   "id": "e5455ae4-72ae-4e56-92a7-5c7f493ff55f",
   "metadata": {},
   "source": [
    "### dir() function\n",
    "- The dir() function returns all properties and methods of the specified object, without the values.\n",
    "- This function will return all the properties and methods, even built-in properties which are default for all object."
   ]
  },
  {
   "cell_type": "code",
   "execution_count": 96,
   "id": "6144785c-5cdc-4740-a403-9610054406d0",
   "metadata": {},
   "outputs": [
    {
     "data": {
      "text/plain": [
       "['__class__',\n",
       " '__delattr__',\n",
       " '__dict__',\n",
       " '__dir__',\n",
       " '__doc__',\n",
       " '__eq__',\n",
       " '__format__',\n",
       " '__ge__',\n",
       " '__getattribute__',\n",
       " '__gt__',\n",
       " '__hash__',\n",
       " '__init__',\n",
       " '__init_subclass__',\n",
       " '__le__',\n",
       " '__lt__',\n",
       " '__module__',\n",
       " '__ne__',\n",
       " '__new__',\n",
       " '__reduce__',\n",
       " '__reduce_ex__',\n",
       " '__repr__',\n",
       " '__setattr__',\n",
       " '__sizeof__',\n",
       " '__str__',\n",
       " '__subclasshook__',\n",
       " '__weakref__',\n",
       " 'courses',\n",
       " 'is_registered',\n",
       " 'register',\n",
       " 'st_id']"
      ]
     },
     "execution_count": 96,
     "metadata": {},
     "output_type": "execute_result"
    }
   ],
   "source": [
    "dir(ali)"
   ]
  },
  {
   "cell_type": "code",
   "execution_count": 98,
   "id": "5f352b6d-ece8-40be-8333-7183bdc6710d",
   "metadata": {},
   "outputs": [
    {
     "data": {
      "text/plain": [
       "{'st_id': '9023036', 'courses': ['math', 'geography'], 'is_registered': True}"
      ]
     },
     "execution_count": 98,
     "metadata": {},
     "output_type": "execute_result"
    }
   ],
   "source": [
    "ali.__dict__ ## Ali has a dictionary attribute, which stores all the attributes"
   ]
  },
  {
   "cell_type": "code",
   "execution_count": 99,
   "id": "1dfaafaa-e2a5-4ae3-aabf-88b691c5b4ea",
   "metadata": {},
   "outputs": [
    {
     "data": {
      "text/plain": [
       "<function Student.__dir__()>"
      ]
     },
     "execution_count": 99,
     "metadata": {},
     "output_type": "execute_result"
    }
   ],
   "source": [
    "ali.__dir__"
   ]
  },
  {
   "cell_type": "code",
   "execution_count": 100,
   "id": "848977dd-4d67-47f5-a7e0-1804fe35d671",
   "metadata": {},
   "outputs": [
    {
     "data": {
      "text/plain": [
       "['st_id',\n",
       " 'courses',\n",
       " 'is_registered',\n",
       " '__module__',\n",
       " '__init__',\n",
       " 'register',\n",
       " '__dict__',\n",
       " '__weakref__',\n",
       " '__doc__',\n",
       " '__repr__',\n",
       " '__hash__',\n",
       " '__str__',\n",
       " '__getattribute__',\n",
       " '__setattr__',\n",
       " '__delattr__',\n",
       " '__lt__',\n",
       " '__le__',\n",
       " '__eq__',\n",
       " '__ne__',\n",
       " '__gt__',\n",
       " '__ge__',\n",
       " '__new__',\n",
       " '__reduce_ex__',\n",
       " '__reduce__',\n",
       " '__subclasshook__',\n",
       " '__init_subclass__',\n",
       " '__format__',\n",
       " '__sizeof__',\n",
       " '__dir__',\n",
       " '__class__']"
      ]
     },
     "execution_count": 100,
     "metadata": {},
     "output_type": "execute_result"
    }
   ],
   "source": [
    "ali.__dir__()"
   ]
  },
  {
   "cell_type": "code",
   "execution_count": 102,
   "id": "df7fee8d-ad69-4208-ad29-56eba5f5addf",
   "metadata": {},
   "outputs": [
    {
     "data": {
      "text/plain": [
       "{'st_id': '9023036', 'courses': ['math', 'geography'], 'is_registered': True}"
      ]
     },
     "execution_count": 102,
     "metadata": {},
     "output_type": "execute_result"
    }
   ],
   "source": [
    "vars(ali)"
   ]
  },
  {
   "cell_type": "markdown",
   "id": "44be0abd-417f-4d21-a0e2-182ced58c38e",
   "metadata": {},
   "source": [
    "### changing how an object is printed:\n",
    "```python\n",
    "___str___\n",
    "```"
   ]
  },
  {
   "cell_type": "code",
   "execution_count": 103,
   "id": "01269327-5c9e-49c1-b436-9652fd69cf69",
   "metadata": {},
   "outputs": [
    {
     "name": "stdout",
     "output_type": "stream",
     "text": [
      "<__main__.Student object at 0x7fb2147efb50>\n"
     ]
    }
   ],
   "source": [
    "print(ali)"
   ]
  },
  {
   "cell_type": "code",
   "execution_count": 118,
   "id": "065f2341-aea8-42ac-93b3-947dc0bc9b5f",
   "metadata": {},
   "outputs": [],
   "source": [
    "class Student():\n",
    "    \n",
    "    #class attribute:\n",
    "    university = 'Arizona State'\n",
    "    \n",
    "    def __init__(self, st_id, courses):\n",
    "        \n",
    "        #Object attribute\n",
    "        self.st_id = st_id  ## not class attribute\n",
    "        self.courses = courses  \n",
    "        self.is_registered = False\n",
    "\n",
    "        \n",
    "    def register(self):\n",
    "        self.is_registered = True\n",
    "        \n",
    "    # By default __str__ is called when we print something\n",
    "    def __str__(self):\n",
    "        return 'Ali is Here'\n",
    "    \n",
    "    # reper is called when we just enter an object\n",
    "    def __repr__(self):\n",
    "        return '__reper__ is called!'\n",
    "    \n",
    "    "
   ]
  },
  {
   "cell_type": "code",
   "execution_count": 119,
   "id": "99272a56-8d59-4852-84fb-77a3bfdbfdcf",
   "metadata": {},
   "outputs": [],
   "source": [
    "ali = Student('9023036',['math', 'geography'])"
   ]
  },
  {
   "cell_type": "code",
   "execution_count": 116,
   "id": "ad3ecfe4-ef71-4f00-b05d-e71981683afd",
   "metadata": {},
   "outputs": [
    {
     "name": "stdout",
     "output_type": "stream",
     "text": [
      "Ali is Here\n"
     ]
    }
   ],
   "source": [
    "print(ali)"
   ]
  },
  {
   "cell_type": "code",
   "execution_count": 110,
   "id": "d139d7e6-7420-4b76-9732-59a433117280",
   "metadata": {},
   "outputs": [
    {
     "data": {
      "text/plain": [
       "<__main__.Student at 0x7fb21477d9d0>"
      ]
     },
     "execution_count": 110,
     "metadata": {},
     "output_type": "execute_result"
    }
   ],
   "source": [
    "ali ## Here reper is not modified"
   ]
  },
  {
   "cell_type": "code",
   "execution_count": 121,
   "id": "bb2ace0f-4ccf-4ea7-b8a7-830bb8976ddb",
   "metadata": {},
   "outputs": [
    {
     "data": {
      "text/plain": [
       "__reper__ is called!"
      ]
     },
     "execution_count": 121,
     "metadata": {},
     "output_type": "execute_result"
    }
   ],
   "source": [
    "ali  ## reper is modified"
   ]
  },
  {
   "cell_type": "code",
   "execution_count": 125,
   "id": "5ffc254f-cd0b-402d-8a2d-00d2c9a7292c",
   "metadata": {},
   "outputs": [
    {
     "data": {
      "text/plain": [
       "'Ali is Here'"
      ]
     },
     "execution_count": 125,
     "metadata": {},
     "output_type": "execute_result"
    }
   ],
   "source": [
    "str(ali) # same as obj.__str__()"
   ]
  },
  {
   "cell_type": "code",
   "execution_count": 126,
   "id": "3a6829e8-8f40-490f-a2a7-e973369a36e5",
   "metadata": {},
   "outputs": [
    {
     "data": {
      "text/plain": [
       "'Ali is Here'"
      ]
     },
     "execution_count": 126,
     "metadata": {},
     "output_type": "execute_result"
    }
   ],
   "source": [
    "ali.__str__()"
   ]
  },
  {
   "cell_type": "code",
   "execution_count": 127,
   "id": "302d468a-0b8e-42c2-b9d9-17b0f8726f82",
   "metadata": {},
   "outputs": [
    {
     "data": {
      "text/plain": [
       "<bound method Student.__str__ of __reper__ is called!>"
      ]
     },
     "execution_count": 127,
     "metadata": {},
     "output_type": "execute_result"
    }
   ],
   "source": [
    "ali.__str__"
   ]
  },
  {
   "cell_type": "code",
   "execution_count": null,
   "id": "20f7a575-cea6-409d-af2d-d57c57e7b432",
   "metadata": {},
   "outputs": [],
   "source": []
  },
  {
   "cell_type": "code",
   "execution_count": 129,
   "id": "ef88b389-4a0d-464a-9217-e86670745c37",
   "metadata": {},
   "outputs": [],
   "source": [
    "## Lots of python built in methods are Dunder Methods:\n",
    "x = [1, 2, 3,]"
   ]
  },
  {
   "cell_type": "code",
   "execution_count": 131,
   "id": "2828aaae-1aba-49fb-8779-c5f1f550b529",
   "metadata": {},
   "outputs": [
    {
     "data": {
      "text/plain": [
       "3"
      ]
     },
     "execution_count": 131,
     "metadata": {},
     "output_type": "execute_result"
    }
   ],
   "source": [
    "len(x) # ==> x.__len__() "
   ]
  },
  {
   "cell_type": "code",
   "execution_count": 132,
   "id": "e92229c6-e05c-48e7-af1d-3a0f1710f87d",
   "metadata": {},
   "outputs": [
    {
     "data": {
      "text/plain": [
       "3"
      ]
     },
     "execution_count": 132,
     "metadata": {},
     "output_type": "execute_result"
    }
   ],
   "source": [
    "x.__len__()"
   ]
  },
  {
   "cell_type": "code",
   "execution_count": null,
   "id": "7bf7ac97-c2cd-44f1-8492-91b1982db27f",
   "metadata": {},
   "outputs": [],
   "source": []
  },
  {
   "cell_type": "code",
   "execution_count": null,
   "id": "e71a6713-1e09-4fe1-855b-c5af2c393b7d",
   "metadata": {},
   "outputs": [],
   "source": []
  },
  {
   "cell_type": "code",
   "execution_count": null,
   "id": "9cecdbe9-e6a7-48ce-b44d-5c4a70978681",
   "metadata": {},
   "outputs": [],
   "source": []
  },
  {
   "cell_type": "code",
   "execution_count": null,
   "id": "898ce1f6-c5ae-499a-a356-e4b62be07908",
   "metadata": {},
   "outputs": [],
   "source": []
  },
  {
   "cell_type": "code",
   "execution_count": null,
   "id": "3ebfedcc-d7a0-4a4a-9ee2-159b6f1d8973",
   "metadata": {},
   "outputs": [],
   "source": []
  },
  {
   "cell_type": "code",
   "execution_count": null,
   "id": "6af9370a-97e7-43d3-8694-dc3706c4486f",
   "metadata": {},
   "outputs": [],
   "source": []
  },
  {
   "cell_type": "code",
   "execution_count": null,
   "id": "8b5c3094-d053-4a2f-9bbc-d2d8994bdd87",
   "metadata": {},
   "outputs": [],
   "source": []
  },
  {
   "cell_type": "code",
   "execution_count": null,
   "id": "28794d79-f4b6-4b85-80e9-9cec449a8227",
   "metadata": {},
   "outputs": [],
   "source": []
  },
  {
   "cell_type": "code",
   "execution_count": null,
   "id": "d46f168e-c767-4fe2-a68c-3ea89fbaca78",
   "metadata": {},
   "outputs": [],
   "source": []
  },
  {
   "cell_type": "code",
   "execution_count": null,
   "id": "f9805227-36ec-41ea-a1a8-b4fb97a1be4a",
   "metadata": {},
   "outputs": [],
   "source": []
  },
  {
   "cell_type": "code",
   "execution_count": null,
   "id": "7f700323-3c1a-4f16-a6fa-df57942d3efc",
   "metadata": {},
   "outputs": [],
   "source": []
  },
  {
   "cell_type": "code",
   "execution_count": null,
   "id": "09c330cd-e4b3-47a8-867c-173e5b8134fc",
   "metadata": {},
   "outputs": [],
   "source": []
  }
 ],
 "metadata": {
  "kernelspec": {
   "display_name": "Python 3 (ipykernel)",
   "language": "python",
   "name": "python3"
  },
  "language_info": {
   "codemirror_mode": {
    "name": "ipython",
    "version": 3
   },
   "file_extension": ".py",
   "mimetype": "text/x-python",
   "name": "python",
   "nbconvert_exporter": "python",
   "pygments_lexer": "ipython3",
   "version": "3.7.10"
  }
 },
 "nbformat": 4,
 "nbformat_minor": 5
}
