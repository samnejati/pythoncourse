{
 "cells": [
  {
   "cell_type": "markdown",
   "id": "00588f31-d51a-4012-9753-16c87f27c6d4",
   "metadata": {},
   "source": [
    "## 6_1_Functions (Part #1)"
   ]
  },
  {
   "cell_type": "code",
   "execution_count": 5,
   "id": "b7251eb4-0d31-423e-97ee-1d92e477147a",
   "metadata": {},
   "outputs": [],
   "source": [
    "def my_func(a, b):\n",
    "    return a+b"
   ]
  },
  {
   "cell_type": "code",
   "execution_count": 6,
   "id": "d597a977-6f44-4fd7-8cfc-5e8bc2b43a0f",
   "metadata": {},
   "outputs": [
    {
     "data": {
      "text/plain": [
       "13"
      ]
     },
     "execution_count": 6,
     "metadata": {},
     "output_type": "execute_result"
    }
   ],
   "source": [
    "func(10,3)"
   ]
  },
  {
   "cell_type": "code",
   "execution_count": 7,
   "id": "7e2e4b70-a2b1-405a-9c21-bfc24fa1e882",
   "metadata": {},
   "outputs": [],
   "source": [
    "x = [1, 2, 3,]"
   ]
  },
  {
   "cell_type": "code",
   "execution_count": 8,
   "id": "49316210-d39c-4ae9-b612-96668b4fe3a4",
   "metadata": {},
   "outputs": [
    {
     "data": {
      "text/plain": [
       "3"
      ]
     },
     "execution_count": 8,
     "metadata": {},
     "output_type": "execute_result"
    }
   ],
   "source": [
    "len(x)"
   ]
  },
  {
   "cell_type": "code",
   "execution_count": 10,
   "id": "cf578580-5fe1-4c84-89d5-ad449d3704c2",
   "metadata": {},
   "outputs": [],
   "source": [
    "# dir(x)"
   ]
  },
  {
   "cell_type": "markdown",
   "id": "9f3049f8-0b5d-40ce-ba9f-449fef3c8beb",
   "metadata": {},
   "source": [
    "Function vs method:\n",
    "A function that is called on an object is called a method:\n",
    "x.append(2)"
   ]
  },
  {
   "cell_type": "code",
   "execution_count": 11,
   "id": "b5208b65-9f0a-409c-a4ab-6dd8eee22947",
   "metadata": {},
   "outputs": [],
   "source": [
    "## some other functions :any / all / str / any / abs / iter ...etc"
   ]
  },
  {
   "cell_type": "code",
   "execution_count": 12,
   "id": "08172391-c327-430e-b081-03f08d4bc0a6",
   "metadata": {},
   "outputs": [],
   "source": [
    "# programming paradigms"
   ]
  },
  {
   "cell_type": "markdown",
   "id": "025a3906-a3e7-48cf-8ef7-93bc8f1495f4",
   "metadata": {},
   "source": [
    "Virtually all programming languages used today support a form of user-defined functions, although they aren’t always called functions. In other languages, you may see them referred to as one of the following:\n",
    "\n",
    "- **Subroutines**\n",
    "- **Procedures**\n",
    "- **Methods**\n",
    "- **Subprograms**"
   ]
  },
  {
   "cell_type": "markdown",
   "id": "8be62ddc-40c4-4ac3-a7cc-b7230030d2ec",
   "metadata": {},
   "source": [
    "# Functions:\n",
    "- **Abstraction & reusability**\n",
    "- **َ A function can be called several times**\n",
    "- ****\n",
    "- ****\n",
    "- ****\n"
   ]
  },
  {
   "cell_type": "code",
   "execution_count": 16,
   "id": "9affa606-14f1-4f48-8b99-9c8494e5f747",
   "metadata": {},
   "outputs": [],
   "source": [
    "def my_func (a, b):\n",
    "    pass #(this is called a \"stub\") -->\n",
    "    ## the indentation is called \"offside rule\""
   ]
  },
  {
   "cell_type": "code",
   "execution_count": 18,
   "id": "d5488edf-8803-4a9f-a389-8caf502ee38b",
   "metadata": {},
   "outputs": [],
   "source": [
    "def my_add():\n",
    "    print(\"inside function\")"
   ]
  },
  {
   "cell_type": "code",
   "execution_count": 19,
   "id": "6a122199-0d80-4b14-9790-1c6ec572521f",
   "metadata": {},
   "outputs": [
    {
     "name": "stdout",
     "output_type": "stream",
     "text": [
      "before calling the function\n",
      "inside function\n",
      "after calling the function\n"
     ]
    }
   ],
   "source": [
    "print(\"before calling the function\")\n",
    "my_add()  # calling the function\n",
    "print(\"after calling the function\")"
   ]
  },
  {
   "cell_type": "markdown",
   "id": "44533f73-ae86-46cd-8437-b8c1f27c846b",
   "metadata": {
    "tags": []
   },
   "source": [
    "\n",
    "#### functions change the follow of the program. runs somthing outside the code lines and then picks up where it left off"
   ]
  },
  {
   "cell_type": "code",
   "execution_count": null,
   "id": "f9f19243-93de-4840-9cfc-aa9de26f0973",
   "metadata": {},
   "outputs": [],
   "source": [
    "## you can c"
   ]
  },
  {
   "cell_type": "code",
   "execution_count": 22,
   "id": "b89b8d4e-9201-468d-b0e6-1d3610cd1b5b",
   "metadata": {},
   "outputs": [],
   "source": [
    "def f(qty, item, price):     # formal Parameters /parameters\n",
    "    print(f\"{qty} {item} costs ${price}\") #Actual parameters / Arguments"
   ]
  },
  {
   "cell_type": "code",
   "execution_count": 21,
   "id": "330d7f20-620a-4a13-9a21-76ed1c60c4b2",
   "metadata": {},
   "outputs": [
    {
     "name": "stdout",
     "output_type": "stream",
     "text": [
      "2 banana costs $3\n"
     ]
    }
   ],
   "source": [
    "f(2, 'banana', 3)"
   ]
  },
  {
   "cell_type": "code",
   "execution_count": 23,
   "id": "ede5885a-f37f-4e57-a234-e5c82fac41b6",
   "metadata": {},
   "outputs": [
    {
     "name": "stdout",
     "output_type": "stream",
     "text": [
      "2 banana costs $3\n"
     ]
    }
   ],
   "source": [
    "q = 2\n",
    "i =  'banana'\n",
    "p =  3\n",
    "f(q, i, p) # pqi are actual parameters or Arguments "
   ]
  },
  {
   "cell_type": "markdown",
   "id": "2b3992f3-5f1f-4e76-8d18-6f1737772d26",
   "metadata": {},
   "source": [
    "<a class=\"anchor\" id=\"positional_arguments\"></a>\n",
    "### Positional Arguments\n",
    "\n",
    "<a class=\"anchor\" id=\"keyword_arguments\"></a>\n",
    "### Keyword Arguments\n",
    "\n",
    "\n",
    "The most straightforward way to pass arguments to a Python function is with **positional arguments** (also called **required arguments**).\n",
    "\n",
    "When you’re calling a function, you can specify arguments in the form ‍`<keyword>=<value>‍`. In that case, each `<keyword>` must match a parameter in the Python function definition.\n"
   ]
  },
  {
   "cell_type": "markdown",
   "id": "f58cf9dc-9fb2-4496-a30b-4a9554391be9",
   "metadata": {},
   "source": [
    "In  **positional arguments** (required argument)order is important\n"
   ]
  },
  {
   "cell_type": "markdown",
   "id": "566ecbbf-2035-4183-b44e-0068a360c5a5",
   "metadata": {},
   "source": [
    "     # formal Parameters /parameters\n",
    "     # Actual parameters / Arguments"
   ]
  },
  {
   "cell_type": "code",
   "execution_count": 24,
   "id": "cfaa3ed4-d70c-4691-82bc-6fd2f03d698b",
   "metadata": {},
   "outputs": [
    {
     "ename": "TypeError",
     "evalue": "f() missing 1 required positional argument: 'price'",
     "output_type": "error",
     "traceback": [
      "\u001b[0;31m---------------------------------------------------------------------------\u001b[0m",
      "\u001b[0;31mTypeError\u001b[0m                                 Traceback (most recent call last)",
      "\u001b[0;32m/tmp/ipykernel_5394/2684819957.py\u001b[0m in \u001b[0;36m<module>\u001b[0;34m\u001b[0m\n\u001b[0;32m----> 1\u001b[0;31m \u001b[0mf\u001b[0m\u001b[0;34m(\u001b[0m\u001b[0;36m1\u001b[0m\u001b[0;34m,\u001b[0m\u001b[0;36m2\u001b[0m\u001b[0;34m)\u001b[0m\u001b[0;34m\u001b[0m\u001b[0;34m\u001b[0m\u001b[0m\n\u001b[0m",
      "\u001b[0;31mTypeError\u001b[0m: f() missing 1 required positional argument: 'price'"
     ]
    }
   ],
   "source": [
    "f(1,2)"
   ]
  },
  {
   "cell_type": "markdown",
   "id": "fea5092c-2042-42da-be1c-f9d8a781a56d",
   "metadata": {},
   "source": [
    "### The above faces an error "
   ]
  },
  {
   "cell_type": "code",
   "execution_count": 25,
   "id": "3f840f21-a8ce-46b4-8a74-5660dd25fe2d",
   "metadata": {},
   "outputs": [
    {
     "name": "stdout",
     "output_type": "stream",
     "text": [
      "1 2 costs $3\n"
     ]
    }
   ],
   "source": [
    "f(1,2,3) # this is accepted by the function because all three required arguments are provided "
   ]
  },
  {
   "cell_type": "code",
   "execution_count": null,
   "id": "a5a4b0d3-1e4a-46d5-a477-d838b0d7989a",
   "metadata": {},
   "outputs": [],
   "source": [
    "#Traceback errors"
   ]
  },
  {
   "cell_type": "markdown",
   "id": "0fa879a1-f620-43d4-b198-7d9196aadfe1",
   "metadata": {},
   "source": [
    "### **** Keyword arguments are highly recommened for functions with many arguments"
   ]
  },
  {
   "cell_type": "markdown",
   "id": "02b1007e-c7cb-4a7e-ba3c-deeb4172ee55",
   "metadata": {},
   "source": [
    "# keywork Arguemnt:\n",
    "# you tell the function: Hey, they Quantity you look for is =2 , the item you look for is 'banana'\n",
    "# برای فانکشن مشخص میکنیم\n",
    "f(qty = 2, item = 'banana', price = 3)"
   ]
  },
  {
   "cell_type": "code",
   "execution_count": 28,
   "id": "a4ff3025-92c7-4a53-8689-da65216ef69e",
   "metadata": {},
   "outputs": [
    {
     "name": "stdout",
     "output_type": "stream",
     "text": [
      "2 banana costs $3\n"
     ]
    }
   ],
   "source": [
    "f(qty = 2, item = 'banana', price = 3)"
   ]
  },
  {
   "cell_type": "code",
   "execution_count": 30,
   "id": "8b67707d-c59e-477e-8804-458b0097aa83",
   "metadata": {},
   "outputs": [
    {
     "name": "stdout",
     "output_type": "stream",
     "text": [
      "2 banana costs $3\n"
     ]
    }
   ],
   "source": [
    "## since we are providing keyword arguments, we can change the order in the function call:\n",
    "## We get the same result as above\n",
    "f(item = 'banana', qty = 2,  price = 3)"
   ]
  },
  {
   "cell_type": "markdown",
   "id": "20df12a7-ec32-41f2-9931-e5cb621cb2ad",
   "metadata": {},
   "source": [
    "###   p انچه که تو اسمش را گذاشتی پرایس مثلا من میگویم "
   ]
  },
  {
   "cell_type": "code",
   "execution_count": 31,
   "id": "5ea21c84-c3ac-4671-9ddb-8377074bd6cc",
   "metadata": {},
   "outputs": [
    {
     "name": "stdout",
     "output_type": "stream",
     "text": [
      "2 banana costs $3\n"
     ]
    }
   ],
   "source": [
    "f(item = 'banana', qty = 2,  price = p) # قبلا پی مقدار سه دادیم"
   ]
  },
  {
   "cell_type": "markdown",
   "id": "adbea3ff-45e1-40a3-a810-33143a8fb1ae",
   "metadata": {},
   "source": [
    "#### we can have both positional and keyword arguments\n"
   ]
  },
  {
   "cell_type": "code",
   "execution_count": 32,
   "id": "4dd2d68e-0333-423d-8a25-c9cf8933335e",
   "metadata": {},
   "outputs": [
    {
     "name": "stdout",
     "output_type": "stream",
     "text": [
      "2 banana costs $3\n"
     ]
    }
   ],
   "source": [
    "f(2, price = 3, item = 'banana') "
   ]
  },
  {
   "cell_type": "markdown",
   "id": "1338f3f3-622e-43a9-9792-62cc77d0fd2b",
   "metadata": {},
   "source": [
    "#### Just remember you if you start keyword argumets then you can not go back to positional\n"
   ]
  },
  {
   "cell_type": "code",
   "execution_count": 33,
   "id": "19527965-1d7b-4c8f-8b7e-9e378fe18cb7",
   "metadata": {},
   "outputs": [
    {
     "ename": "SyntaxError",
     "evalue": "positional argument follows keyword argument (1345897368.py, line 1)",
     "output_type": "error",
     "traceback": [
      "\u001b[0;36m  File \u001b[0;32m\"/tmp/ipykernel_5394/1345897368.py\"\u001b[0;36m, line \u001b[0;32m1\u001b[0m\n\u001b[0;31m    f(price = 3, item = 'banana', 3)\u001b[0m\n\u001b[0m                                 ^\u001b[0m\n\u001b[0;31mSyntaxError\u001b[0m\u001b[0;31m:\u001b[0m positional argument follows keyword argument\n"
     ]
    }
   ],
   "source": [
    "f(price = 3, item = 'banana', 3) \n",
    "# SyntaxError: positional argument follows keyword argument\n"
   ]
  },
  {
   "cell_type": "markdown",
   "id": "5d7acede-d698-41a9-abfb-d1c8d8093848",
   "metadata": {},
   "source": [
    "debug vs actual coding"
   ]
  },
  {
   "cell_type": "markdown",
   "id": "cbf75e7d-fdc1-4538-8346-38a386db20df",
   "metadata": {},
   "source": [
    "## you can proide default values for the function arguments:\n"
   ]
  },
  {
   "cell_type": "code",
   "execution_count": 37,
   "id": "eb68d367-7e0c-4c4c-ad11-505f5488c6fa",
   "metadata": {},
   "outputs": [],
   "source": [
    "def f(qty, item = 'apple', price = 10):     # If the user doesn't provide value for \"price\" it will be = 10, and item will be 'Apple'\n",
    "    print(f\"{qty} {item} costs ${price}\") "
   ]
  },
  {
   "cell_type": "code",
   "execution_count": 38,
   "id": "5b8ecf75-e4f4-46ff-84b1-9b94a2007ef3",
   "metadata": {},
   "outputs": [
    {
     "name": "stdout",
     "output_type": "stream",
     "text": [
      "1 2 costs $10\n"
     ]
    }
   ],
   "source": [
    "f(1,2)  # now this code works , even if we provide 2 positional arguments"
   ]
  },
  {
   "cell_type": "code",
   "execution_count": 39,
   "id": "6cccc318-5ba4-42fa-853a-ffc5faf6d21a",
   "metadata": {},
   "outputs": [
    {
     "name": "stdout",
     "output_type": "stream",
     "text": [
      "1 apple costs $10\n"
     ]
    }
   ],
   "source": [
    "f(1) # this one now works with default values ==> \"item = 'apple', price = 10\""
   ]
  },
  {
   "cell_type": "code",
   "execution_count": 40,
   "id": "edb9d385-615c-4512-bdcf-facf5d8543a7",
   "metadata": {},
   "outputs": [
    {
     "name": "stdout",
     "output_type": "stream",
     "text": [
      "3 oranges costs $2.6\n"
     ]
    }
   ],
   "source": [
    "f(3, 'oranges', 2.6) # this one also works, eventhough we changed the default values given in formal parameters"
   ]
  },
  {
   "cell_type": "markdown",
   "id": "4964230a-855f-46d2-bd96-f3c685675f22",
   "metadata": {},
   "source": [
    "#### esc + m ==> 1-4 provides #levels for typing"
   ]
  },
  {
   "cell_type": "markdown",
   "id": "c5e6f4f2-4140-49b5-85e0-9c186bebb571",
   "metadata": {},
   "source": [
    "### non-default argument follows default argument:"
   ]
  },
  {
   "cell_type": "code",
   "execution_count": 42,
   "id": "8d67f777-a92b-4fd0-9e31-c289335546c5",
   "metadata": {},
   "outputs": [
    {
     "ename": "SyntaxError",
     "evalue": "positional argument follows keyword argument (2021014197.py, line 1)",
     "output_type": "error",
     "traceback": [
      "\u001b[0;36m  File \u001b[0;32m\"/tmp/ipykernel_5394/2021014197.py\"\u001b[0;36m, line \u001b[0;32m1\u001b[0m\n\u001b[0;31m    f(qty=2, 'banana')\u001b[0m\n\u001b[0m            ^\u001b[0m\n\u001b[0;31mSyntaxError\u001b[0m\u001b[0;31m:\u001b[0m positional argument follows keyword argument\n"
     ]
    }
   ],
   "source": [
    "f(qty=2, 'banana')"
   ]
  },
  {
   "cell_type": "markdown",
   "id": "fe24a0d2-3d78-4a95-9f57-055e5b0086e6",
   "metadata": {},
   "source": [
    "**In summary:**\n",
    "\n",
    "- **Positional arguments** must agree in order and number with the parameters declared in the function definition.\n",
    "- **Keyword arguments** must agree with declared parameters in number, but they may be specified in arbitrary order.\n",
    "- **Default parameters** allow some arguments to be omitted when the function is called."
   ]
  },
  {
   "cell_type": "markdown",
   "id": "1cdc2309-dc04-41ff-bd65-286759e660b6",
   "metadata": {},
   "source": [
    "<a class=\"anchor\" id=\"mutable_default_parameter_values\"></a>\n",
    "## Mutable Default Parameter Values\n",
    "\n",
    "Things can get weird if you specify a default parameter value that is a **mutable object**. Consider this Python function definition:"
   ]
  },
  {
   "cell_type": "code",
   "execution_count": 43,
   "id": "39882523-1ef5-4940-8542-0e3c4fd443b5",
   "metadata": {},
   "outputs": [],
   "source": [
    "def f(l):\n",
    "    l.append('#')\n",
    "    return l"
   ]
  },
  {
   "cell_type": "code",
   "execution_count": 44,
   "id": "19bb726e-baf1-40cb-9d1e-2ff7f8f8f30e",
   "metadata": {},
   "outputs": [],
   "source": [
    "x = f([1,2,3,])"
   ]
  },
  {
   "cell_type": "code",
   "execution_count": 45,
   "id": "40619f7e-f132-4e27-a740-4da93aca9260",
   "metadata": {},
   "outputs": [
    {
     "data": {
      "text/plain": [
       "[1, 2, 3, '#']"
      ]
     },
     "execution_count": 45,
     "metadata": {},
     "output_type": "execute_result"
    }
   ],
   "source": [
    "x"
   ]
  },
  {
   "cell_type": "code",
   "execution_count": 46,
   "id": "3965eb50-6c24-42c4-8027-b8112b019ee2",
   "metadata": {},
   "outputs": [
    {
     "data": {
      "text/plain": [
       "[1, '#']"
      ]
     },
     "execution_count": 46,
     "metadata": {},
     "output_type": "execute_result"
    }
   ],
   "source": [
    "f([1])"
   ]
  },
  {
   "cell_type": "code",
   "execution_count": 47,
   "id": "d10143c7-6946-48ca-8eb6-d975ff78abee",
   "metadata": {},
   "outputs": [],
   "source": [
    "l = [1,2,3,]"
   ]
  },
  {
   "cell_type": "code",
   "execution_count": 49,
   "id": "96d93e6a-6d9e-40ae-b816-7587b57e6352",
   "metadata": {},
   "outputs": [
    {
     "data": {
      "text/plain": [
       "[1, 2, 3, '#']"
      ]
     },
     "execution_count": 49,
     "metadata": {},
     "output_type": "execute_result"
    }
   ],
   "source": [
    "f(l)"
   ]
  },
  {
   "cell_type": "code",
   "execution_count": 50,
   "id": "4a3be707-059f-4992-bc3d-8df05742827c",
   "metadata": {},
   "outputs": [],
   "source": [
    "def f(l = []): #default value is an empty list []\n",
    "    l.append('#')\n",
    "    return l"
   ]
  },
  {
   "cell_type": "code",
   "execution_count": null,
   "id": "c3b70333-5778-48b1-b266-442ac8320555",
   "metadata": {},
   "outputs": [],
   "source": []
  },
  {
   "cell_type": "code",
   "execution_count": 57,
   "id": "01aaa0d7-14df-47ef-82a8-cb8577f36088",
   "metadata": {},
   "outputs": [
    {
     "data": {
      "text/plain": [
       "[1, 2, 3, '#']"
      ]
     },
     "execution_count": 57,
     "metadata": {},
     "output_type": "execute_result"
    }
   ],
   "source": [
    "f([1,2,3]) # if youy run this code several times, we will have the same resuly. However, if you run an empty function call, the default will be repeated by running it several times"
   ]
  },
  {
   "cell_type": "markdown",
   "id": "573de7dd-4762-4bcc-9cd4-014b2380742c",
   "metadata": {},
   "source": [
    "## Default prameters in python "
   ]
  },
  {
   "cell_type": "code",
   "execution_count": 60,
   "id": "5ce8a6e0-c336-4238-845e-9d195420d4ac",
   "metadata": {},
   "outputs": [
    {
     "data": {
      "text/plain": [
       "['#', '#', '#', '#', '#', '#']"
      ]
     },
     "execution_count": 60,
     "metadata": {},
     "output_type": "execute_result"
    }
   ],
   "source": [
    "f() ## each time you run this a '#' will be added to the default list //==> deffrent from the non empty func call!!\n",
    "## this is ebcause for the mutables it only has one reference to memory and it shows the previous calls as well!!!\n"
   ]
  },
  {
   "cell_type": "markdown",
   "id": "9f4b1b86-57d7-450b-a5a2-30e6c6775677",
   "metadata": {},
   "source": [
    "How to solve?"
   ]
  },
  {
   "cell_type": "code",
   "execution_count": 63,
   "id": "a6d65f7c-81cb-4f9f-9a61-a1cbe210516b",
   "metadata": {},
   "outputs": [],
   "source": [
    "def f_list_default(l = []):\n",
    "    l.append('#')\n",
    "    print(l)"
   ]
  },
  {
   "cell_type": "code",
   "execution_count": 79,
   "id": "9c627f43-aac8-43ea-aaf6-daa50976ed01",
   "metadata": {},
   "outputs": [],
   "source": [
    "#What to do when we have an immutable argument???\n",
    "def f_list_nondefault( l= None): #way to go around immutables and avoiding this situation \n",
    "    if l == None:\n",
    "        l = []  # we can initialize with anything we need: list, dic, etc. or any other object which is \"mutable\"\n",
    "        \n",
    "    l.append('#')\n",
    "    print(l)"
   ]
  },
  {
   "cell_type": "code",
   "execution_count": 77,
   "id": "9feaf9e1-fa9d-467b-8da3-aa7c9f3aa78b",
   "metadata": {},
   "outputs": [
    {
     "name": "stdout",
     "output_type": "stream",
     "text": [
      "['#', '#', '#', '#', '#']\n"
     ]
    }
   ],
   "source": [
    "f_list_default() ## running this call will produce several unwanted outputs"
   ]
  },
  {
   "cell_type": "code",
   "execution_count": 78,
   "id": "36de309e-7762-4f0d-937c-63e41662c989",
   "metadata": {},
   "outputs": [
    {
     "name": "stdout",
     "output_type": "stream",
     "text": [
      "['#']\n"
     ]
    }
   ],
   "source": [
    "f_list_nondefault() ## Has only what we look for"
   ]
  },
  {
   "cell_type": "code",
   "execution_count": null,
   "id": "75baf667-aaf8-47af-8417-cc8330e806ea",
   "metadata": {},
   "outputs": [],
   "source": []
  },
  {
   "cell_type": "markdown",
   "id": "9d039ab1-07bc-429b-a478-72ead1e5bb3d",
   "metadata": {},
   "source": [
    "<a class=\"anchor\" id=\"pass-by-value_vs_pass-by-reference\"></a>\n",
    "## Pass-By-Value vs Pass-By-Reference (we don't have this in python ==> pass by assignment)"
   ]
  },
  {
   "cell_type": "markdown",
   "id": "4e3a3ee6-e2e3-4251-931c-6b6d7625c3ac",
   "metadata": {},
   "source": [
    "In programming language design, there are two common paradigms for passing an argument to a function:\n",
    "\n",
    "- **Pass-by-value:** A copy of the argument is passed to the function.\n",
    "- **Pass-by-reference:** A reference to the argument is passed to the function."
   ]
  },
  {
   "cell_type": "markdown",
   "id": "ad1465d0-8e46-445a-85e7-ffc6c91b099d",
   "metadata": {},
   "source": [
    "Are parameters in Python pass-by-value or pass-by-reference? The answer is they’re neither, exactly. That’s because a reference doesn’t mean quite the same thing in Python as it does in Pascal."
   ]
  },
  {
   "cell_type": "markdown",
   "id": "1eeea778-263c-4c81-bc3e-3b0be5e9a584",
   "metadata": {},
   "source": [
    "Recall that in Python, every piece of data is an **object**. A reference points to an object, not a specific memory location. That means assignment isn’t interpreted the same way in Python as it is in a programming language such as Pascal. Consider the following pair of statements in Pascal:\n",
    "\n",
    "```pascal\n",
    "x := 5\n",
    "x := 10\n",
    "```"
   ]
  },
  {
   "cell_type": "markdown",
   "id": "f78bd43e-bdaf-42f1-8607-2c9cd19ee93a",
   "metadata": {},
   "source": [
    "These are interpreted this way:\n",
    "\n",
    "- **The variable `x`** references a specific memory location.\n",
    "- **The first statement** puts the value 5 in that location.\n",
    "- **The next statement** overwrites the 5 and puts 10 there instead.\n",
    "\n",
    "By contrast, in Python, the analogous assignment statements are as follows:\n",
    "\n",
    "```python\n",
    "x = 5\n",
    "x = 10\n",
    "```\n",
    "\n",
    "\n",
    "These assignment statements have the following meaning:\n",
    "\n",
    "- **The first statement** causes `x` to point to an object whose value is `5`.\n",
    "- **The next statement** reassigns `x` as a new reference to a different object whose value is `10`. Stated another way, the second assignment rebinds `x` to a different object with value `10`.\n",
    "\n",
    "In Python, when you pass an argument to a function, a similar **rebinding** occurs. Consider this example:"
   ]
  },
  {
   "cell_type": "code",
   "execution_count": 80,
   "id": "2b8063f4-edbe-4689-8223-3f07c3b80e96",
   "metadata": {},
   "outputs": [],
   "source": [
    "x = 5\n"
   ]
  },
  {
   "cell_type": "code",
   "execution_count": 82,
   "id": "91222f7f-d5fa-416f-820a-e6c4b93923a7",
   "metadata": {},
   "outputs": [
    {
     "data": {
      "text/plain": [
       "['__abs__',\n",
       " '__add__',\n",
       " '__and__',\n",
       " '__bool__',\n",
       " '__ceil__',\n",
       " '__class__',\n",
       " '__delattr__',\n",
       " '__dir__',\n",
       " '__divmod__',\n",
       " '__doc__',\n",
       " '__eq__',\n",
       " '__float__',\n",
       " '__floor__',\n",
       " '__floordiv__',\n",
       " '__format__',\n",
       " '__ge__',\n",
       " '__getattribute__',\n",
       " '__getnewargs__',\n",
       " '__gt__',\n",
       " '__hash__',\n",
       " '__index__',\n",
       " '__init__',\n",
       " '__init_subclass__',\n",
       " '__int__',\n",
       " '__invert__',\n",
       " '__le__',\n",
       " '__lshift__',\n",
       " '__lt__',\n",
       " '__mod__',\n",
       " '__mul__',\n",
       " '__ne__',\n",
       " '__neg__',\n",
       " '__new__',\n",
       " '__or__',\n",
       " '__pos__',\n",
       " '__pow__',\n",
       " '__radd__',\n",
       " '__rand__',\n",
       " '__rdivmod__',\n",
       " '__reduce__',\n",
       " '__reduce_ex__',\n",
       " '__repr__',\n",
       " '__rfloordiv__',\n",
       " '__rlshift__',\n",
       " '__rmod__',\n",
       " '__rmul__',\n",
       " '__ror__',\n",
       " '__round__',\n",
       " '__rpow__',\n",
       " '__rrshift__',\n",
       " '__rshift__',\n",
       " '__rsub__',\n",
       " '__rtruediv__',\n",
       " '__rxor__',\n",
       " '__setattr__',\n",
       " '__sizeof__',\n",
       " '__str__',\n",
       " '__sub__',\n",
       " '__subclasshook__',\n",
       " '__truediv__',\n",
       " '__trunc__',\n",
       " '__xor__',\n",
       " 'bit_length',\n",
       " 'conjugate',\n",
       " 'denominator',\n",
       " 'from_bytes',\n",
       " 'imag',\n",
       " 'numerator',\n",
       " 'real',\n",
       " 'to_bytes']"
      ]
     },
     "execution_count": 82,
     "metadata": {},
     "output_type": "execute_result"
    }
   ],
   "source": [
    "dir(x) # now x is an object: It has lots of built in properties/functions"
   ]
  },
  {
   "cell_type": "code",
   "execution_count": 90,
   "id": "621711f9-5830-47bd-adfd-0cf742d43c82",
   "metadata": {},
   "outputs": [],
   "source": [
    "x = 10 # ==> rebinding: now x refers to somewhere else in memmory"
   ]
  },
  {
   "cell_type": "markdown",
   "id": "762c6c55-3497-448b-ac70-c437fdeeffb2",
   "metadata": {},
   "source": [
    "### Hejazi : 1:17"
   ]
  },
  {
   "cell_type": "code",
   "execution_count": 109,
   "id": "88ed6764-fbae-44e3-8788-bae9b587fb3d",
   "metadata": {},
   "outputs": [],
   "source": [
    "def f(x):\n",
    "    print(\"current id: \"+str(id(x)))\n",
    "    x = 10\n",
    "    print(\"new id (after x = 10): \"+str(id(x)))"
   ]
  },
  {
   "cell_type": "code",
   "execution_count": 110,
   "id": "011cc42b-f0e6-4331-a6b1-8d208e03f8a7",
   "metadata": {},
   "outputs": [],
   "source": [
    "y = 5"
   ]
  },
  {
   "cell_type": "code",
   "execution_count": 111,
   "id": "d3c99613-fcd8-4d8e-ad55-3043eb25209c",
   "metadata": {},
   "outputs": [
    {
     "data": {
      "text/plain": [
       "94217045259328"
      ]
     },
     "execution_count": 111,
     "metadata": {},
     "output_type": "execute_result"
    }
   ],
   "source": [
    "id(y)"
   ]
  },
  {
   "cell_type": "code",
   "execution_count": 112,
   "id": "ad22116b-81bc-4a41-ad37-43d5f88f1e03",
   "metadata": {},
   "outputs": [
    {
     "name": "stdout",
     "output_type": "stream",
     "text": [
      "current id: 94217045259328\n",
      "new id (after x = 10): 94217045259488\n"
     ]
    }
   ],
   "source": [
    "f(y) # object of y is sent as a object ==> check the id's: (they are the same) ==> meaning x is the same as y which was given to function"
   ]
  },
  {
   "cell_type": "markdown",
   "id": "81a3b638-c836-4b75-b9a8-b505c62e69b8",
   "metadata": {},
   "source": [
    "##### rebinding occured in the function call above "
   ]
  },
  {
   "cell_type": "code",
   "execution_count": 115,
   "id": "cf88432b-4c83-4998-bc04-59807f44d99d",
   "metadata": {},
   "outputs": [
    {
     "name": "stdout",
     "output_type": "stream",
     "text": [
      "5\n"
     ]
    }
   ],
   "source": [
    "print(y) #"
   ]
  },
  {
   "cell_type": "code",
   "execution_count": 114,
   "id": "11c2893c-13c7-48ab-87a1-ee80e7b8b128",
   "metadata": {},
   "outputs": [
    {
     "name": "stdout",
     "output_type": "stream",
     "text": [
      "current id: 94217045259328\n",
      "new id (after x = 10): 94217045259488\n",
      "None\n"
     ]
    }
   ],
   "source": [
    "print(f(y))"
   ]
  },
  {
   "cell_type": "code",
   "execution_count": 116,
   "id": "4756207a-8bc0-409c-9765-b700c5b2c4e1",
   "metadata": {},
   "outputs": [],
   "source": [
    "new_list = [40, {}, {1,2,3,}, [], [1,2,3,], 'hello', 1.2]"
   ]
  },
  {
   "cell_type": "code",
   "execution_count": 120,
   "id": "5d632cf7-d9fb-460f-8376-f0064d29007f",
   "metadata": {},
   "outputs": [],
   "source": [
    "def f(x):\n",
    "    print('x id before', id(x))\n",
    "    x = 10\n",
    "    print('x id after', id(x))"
   ]
  },
  {
   "cell_type": "code",
   "execution_count": 121,
   "id": "7ac0b72d-81a4-48f5-863c-3fc5de48b70b",
   "metadata": {},
   "outputs": [
    {
     "name": "stdout",
     "output_type": "stream",
     "text": [
      "x id before 94217045259488\n",
      "x id after 94217045259488\n",
      "______________________________\n",
      "40\n",
      "\n",
      "x id before 94217045259488\n",
      "x id after 94217045259488\n",
      "______________________________\n",
      "{}\n",
      "\n",
      "x id before 94217045259488\n",
      "x id after 94217045259488\n",
      "______________________________\n",
      "{1, 2, 3}\n",
      "\n",
      "x id before 94217045259488\n",
      "x id after 94217045259488\n",
      "______________________________\n",
      "[]\n",
      "\n",
      "x id before 94217045259488\n",
      "x id after 94217045259488\n",
      "______________________________\n",
      "[1, 2, 3]\n",
      "\n",
      "x id before 94217045259488\n",
      "x id after 94217045259488\n",
      "______________________________\n",
      "hello\n",
      "\n",
      "x id before 94217045259488\n",
      "x id after 94217045259488\n",
      "______________________________\n",
      "1.2\n",
      "\n"
     ]
    }
   ],
   "source": [
    "for i in new_list:\n",
    "    f(x)\n",
    "    print('_' * 30)\n",
    "    print(i)\n",
    "    print()"
   ]
  },
  {
   "cell_type": "code",
   "execution_count": 6,
   "id": "8d345f52-8884-411f-b3df-7da3ca42bc07",
   "metadata": {},
   "outputs": [],
   "source": [
    "# using object (NOT rebinding)\n",
    "def f(x):\n",
    "    print('x id before', id(x))\n",
    "    x.append(2)\n",
    "    x.append(3)\n",
    "    print('x id after', id(x))"
   ]
  },
  {
   "cell_type": "code",
   "execution_count": 7,
   "id": "1fc6d8f6-2ae2-46af-b66c-48a27cd0feb0",
   "metadata": {},
   "outputs": [],
   "source": [
    "y = []"
   ]
  },
  {
   "cell_type": "code",
   "execution_count": 9,
   "id": "d5518a4a-b509-432b-ab6e-d9de177380be",
   "metadata": {},
   "outputs": [
    {
     "name": "stdout",
     "output_type": "stream",
     "text": [
      "x id before 140194446706880\n",
      "x id after 140194446706880\n"
     ]
    }
   ],
   "source": [
    "# id does Not chanege. because we are appending on the same OBJECT\n",
    "f(y)"
   ]
  },
  {
   "cell_type": "code",
   "execution_count": null,
   "id": "8cc89b78-5892-462f-b764-2b8ca961150d",
   "metadata": {},
   "outputs": [],
   "source": []
  },
  {
   "cell_type": "code",
   "execution_count": null,
   "id": "fe3fab45-bd57-419d-9f19-68684eca7064",
   "metadata": {},
   "outputs": [],
   "source": []
  },
  {
   "cell_type": "markdown",
   "id": "1ba281cb-ed6f-494b-9225-ee720c39792f",
   "metadata": {},
   "source": [
    "<a class=\"anchor\" id=\"the_return_statement\"></a>\n",
    "## The return Statement\n",
    "\n",
    "What’s a Python function to do then? After all, in many cases, if a function doesn’t cause some change in the calling environment, then there isn’t much point in calling it at all. How should a function affect its caller?\n",
    "\n",
    "Well, one possibility is to use **function return values**. A `return` statement in a Python function serves two purposes:\n",
    "\n",
    "1. It immediately terminates the function and passes execution control back to the caller.\n",
    "2. It provides a mechanism by which the function can pass data back to the caller."
   ]
  },
  {
   "cell_type": "markdown",
   "id": "dd2d8b72-ece3-42fa-a123-31aea13883a6",
   "metadata": {},
   "source": [
    "** print in a function is not a RETURN"
   ]
  },
  {
   "cell_type": "markdown",
   "id": "5cc74371-faf2-43e0-96f7-30322c0ad376",
   "metadata": {},
   "source": [
    "### We can have several 'return' statments in the fucntion which we should manage:"
   ]
  },
  {
   "cell_type": "code",
   "execution_count": 10,
   "id": "a2974c4e-6c60-4712-878e-3ae0f551e291",
   "metadata": {},
   "outputs": [],
   "source": [
    "def f(x):\n",
    "    if x > 0:\n",
    "        print ('x is positive')\n",
    "        return True\n",
    "    \n",
    "    return False\n",
    "        "
   ]
  },
  {
   "cell_type": "code",
   "execution_count": 11,
   "id": "9df2b722-4093-42b9-b490-2a65064cd6ab",
   "metadata": {},
   "outputs": [
    {
     "name": "stdout",
     "output_type": "stream",
     "text": [
      "x is positive\n"
     ]
    },
    {
     "data": {
      "text/plain": [
       "True"
      ]
     },
     "execution_count": 11,
     "metadata": {},
     "output_type": "execute_result"
    }
   ],
   "source": [
    "f(5)"
   ]
  },
  {
   "cell_type": "code",
   "execution_count": 12,
   "id": "080c35aa-efd1-4605-a7f1-ad5e25b28092",
   "metadata": {},
   "outputs": [
    {
     "data": {
      "text/plain": [
       "False"
      ]
     },
     "execution_count": 12,
     "metadata": {},
     "output_type": "execute_result"
    }
   ],
   "source": [
    "f(-5)"
   ]
  },
  {
   "cell_type": "markdown",
   "id": "7d47f723-2fac-4262-88b4-2da389e66a94",
   "metadata": {},
   "source": [
    "###  We can literlly 'return\" anything"
   ]
  },
  {
   "cell_type": "code",
   "execution_count": 19,
   "id": "b0f9930f-ae6c-4fa5-9c60-6c4e8533e90c",
   "metadata": {},
   "outputs": [],
   "source": [
    "def list_return():\n",
    "    return [1,2,]"
   ]
  },
  {
   "cell_type": "code",
   "execution_count": 20,
   "id": "ca6d0fe8-7b24-4c77-9d14-616528d8dbaf",
   "metadata": {},
   "outputs": [
    {
     "ename": "TypeError",
     "evalue": "list_return() takes 0 positional arguments but 1 was given",
     "output_type": "error",
     "traceback": [
      "\u001b[0;31m---------------------------------------------------------------------------\u001b[0m",
      "\u001b[0;31mTypeError\u001b[0m                                 Traceback (most recent call last)",
      "\u001b[0;32m/tmp/ipykernel_866/1826626712.py\u001b[0m in \u001b[0;36m<module>\u001b[0;34m\u001b[0m\n\u001b[0;32m----> 1\u001b[0;31m \u001b[0mlist_return\u001b[0m\u001b[0;34m(\u001b[0m\u001b[0;34m'salam'\u001b[0m\u001b[0;34m)\u001b[0m\u001b[0;34m\u001b[0m\u001b[0;34m\u001b[0m\u001b[0m\n\u001b[0m",
      "\u001b[0;31mTypeError\u001b[0m: list_return() takes 0 positional arguments but 1 was given"
     ]
    }
   ],
   "source": [
    "list_return('salam')"
   ]
  },
  {
   "cell_type": "code",
   "execution_count": 21,
   "id": "eeac36db-cb71-49ad-84b8-ad5f1794beea",
   "metadata": {},
   "outputs": [
    {
     "data": {
      "text/plain": [
       "[1, 2]"
      ]
     },
     "execution_count": 21,
     "metadata": {},
     "output_type": "execute_result"
    }
   ],
   "source": [
    "list_return()"
   ]
  },
  {
   "cell_type": "markdown",
   "id": "3380a71a-8450-41bf-adcb-a0d180026579",
   "metadata": {},
   "source": [
    "#### It is prefered to return \"immutable\" objects ===> list (not tuple):"
   ]
  },
  {
   "cell_type": "code",
   "execution_count": 25,
   "id": "c3f6bb5a-920f-49f3-919b-7f2f7bfeadda",
   "metadata": {},
   "outputs": [],
   "source": [
    "def f(your_number):\n",
    "    pow_2 = your_number ** 2\n",
    "    pow_3 = your_number ** 3\n",
    "    \n",
    "    return [pow_2, pow_3]"
   ]
  },
  {
   "cell_type": "code",
   "execution_count": 26,
   "id": "5a946618-cb3f-4b18-ba73-4e89efc45c6f",
   "metadata": {},
   "outputs": [
    {
     "data": {
      "text/plain": [
       "[4, 8]"
      ]
     },
     "execution_count": 26,
     "metadata": {},
     "output_type": "execute_result"
    }
   ],
   "source": [
    "f(2)"
   ]
  },
  {
   "cell_type": "code",
   "execution_count": 27,
   "id": "2020356f-4959-4e1c-aa73-80569bafed11",
   "metadata": {},
   "outputs": [
    {
     "data": {
      "text/plain": [
       "[9, 27]"
      ]
     },
     "execution_count": 27,
     "metadata": {},
     "output_type": "execute_result"
    }
   ],
   "source": [
    "f(3) # retuns mutable list"
   ]
  },
  {
   "cell_type": "code",
   "execution_count": 31,
   "id": "823e38bd-6682-4969-9908-5c4e70ecd331",
   "metadata": {},
   "outputs": [],
   "source": [
    "def f(x):\n",
    "    pow_2 = x ** 2\n",
    "    pow_3 = x ** 3\n",
    "    \n",
    "    return (pow_2, pow_3) # immutable return ==> not prefered Because the user can not modify it later\n",
    "    ## Pranthesis are not required, because by defult it returns a tupple"
   ]
  },
  {
   "cell_type": "code",
   "execution_count": 32,
   "id": "b4f9d90b-0fdf-4e1b-b8e7-da2fc83a0676",
   "metadata": {},
   "outputs": [
    {
     "data": {
      "text/plain": [
       "(9, 27)"
      ]
     },
     "execution_count": 32,
     "metadata": {},
     "output_type": "execute_result"
    }
   ],
   "source": [
    "f(3) # retuns Immutable tuple"
   ]
  },
  {
   "cell_type": "markdown",
   "id": "38ae87c0-f6e6-4c02-96cc-6fbaafcb4dd6",
   "metadata": {},
   "source": [
    "in actual and formal prameters/ nor in funct call we do not use space:"
   ]
  },
  {
   "cell_type": "code",
   "execution_count": 34,
   "id": "68a7d9a4-feca-4269-a84f-66295f7cf161",
   "metadata": {},
   "outputs": [],
   "source": [
    "def func(qty=2, item=3): # no space\n",
    "    x = 3                # space for assignment\n",
    "    return "
   ]
  },
  {
   "cell_type": "code",
   "execution_count": 37,
   "id": "03797983-dd27-4fe9-b69d-4f0e88744b8d",
   "metadata": {},
   "outputs": [],
   "source": [
    "# f(qty=3, item='banana')"
   ]
  },
  {
   "cell_type": "code",
   "execution_count": null,
   "id": "d54b5c9b-2443-4cc6-9257-000e76b69bcc",
   "metadata": {},
   "outputs": [],
   "source": []
  },
  {
   "cell_type": "code",
   "execution_count": null,
   "id": "f0867ff4-7617-4216-9b7a-597ff82b623f",
   "metadata": {},
   "outputs": [],
   "source": []
  }
 ],
 "metadata": {
  "kernelspec": {
   "display_name": "Python 3 (ipykernel)",
   "language": "python",
   "name": "python3"
  },
  "language_info": {
   "codemirror_mode": {
    "name": "ipython",
    "version": 3
   },
   "file_extension": ".py",
   "mimetype": "text/x-python",
   "name": "python",
   "nbconvert_exporter": "python",
   "pygments_lexer": "ipython3",
   "version": "3.7.10"
  }
 },
 "nbformat": 4,
 "nbformat_minor": 5
}
